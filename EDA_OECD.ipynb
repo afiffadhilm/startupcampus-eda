{
  "cells": [
    {
      "cell_type": "markdown",
      "metadata": {
        "id": "ZLiQoevM1g8p"
      },
      "source": [
        "# <b>A. <span style='color:#55679C'>Introduction</span></b>\n",
        "\n",
        "Organisation for Economic Co-operation and Development atau OECD, adalah organisasi internasional yang terdiri dari 38 negara anggota, sebagian besar dari negara-negara maju. Didirikan pada tahun 1961, tujuan utama OECD adalah untuk mendorong pertumbuhan ekonomi yang berkelanjutan dan meningkatkan standar hidup di seluruh dunia. OECD juga fokus pada isu-isu seperti pertumbuhan hijau, inovasi, dan inklusi sosial, dengan tujuan untuk menciptakan kebijakan yang mendukung pembangunan berkelanjutan dan kesejahteraan masyarakat.\n",
        "\n",
        "<img src=\"https://allvectorlogo.com/img/2017/05/organisation-for-economic-co-operation-development-oecd-logo.png\" width=\"30%\">\n",
        "\n",
        "Dilansir dari halaman <i><a href=\"https://www.kemenkeu.go.id/informasi-publik/publikasi/berita-utama/Indonesia-Targetkan-Keanggotaan-Penuh-OECD\">https://www.kemenkeu.go.id/informasi-publik/publikasi/berita-utama/Indonesia-Targetkan-Keanggotaan-Penuh-OECD</a></i> pemerintah Indonesia menyampaikan intensi untuk bergabung dalam keanggotaan Organisation for Economic Co-operation and Development (OECD) sebagai prioritas ekonomi internasional. Beberapa syarat agar Indonesia dapat bergabung ke organisasi tersebut diantaranya adalah Komitmen Terhadap Nilai-Nilai OECD, Kebijakan Ekonomi yang Stabil, Kerja Sama Internasional, dsb.\n",
        "\n",
        "referensi : <i>https://www.ekon.go.id/publikasi/detail/5801/pemerintah-terus-maksimalkan-proses-aksesi-oecd</i>"
      ]
    },
    {
      "cell_type": "markdown",
      "metadata": {
        "id": "UqHVpoLQ1g8q"
      },
      "source": [
        "# <b>B. <span style='color:#55679C'>Data Digunakan</span></b>\n",
        "\n",
        "Mari menilik lebih lanjut bagaimana perkembangan beberapa indikator OECD di negara Indonesia. Bergabung dengan OECD dapat memberikan manfaat signifikan bagi Indonesia, termasuk peningkatan tingkat kepercayaan global, peningkatan perdagangan dan investasi, terutama terhadap kolaborasi teknologi dan inovasi, membuka akses pasar bagi ekspor dalam negeri, meningkatkan kualitas kesehatan, pendidikan, lapangan kerja dan infrastruktur. Data diambil dari link <a href=\"https://data-explorer.oecd.org/vis?df[ds]=DisseminateFinalDMZ&df[id]=DSD_GG%40DF_GREEN_GROWTH&df[ag]=OECD.ENV.EPI&dq=IDN.A...&pd=%2C&to[TIME_PERIOD]=false&vw=tb\">https://data-explorer.oecd.org/vis?df[ds]=DisseminateFinalDMZ&df[id]=DSD_GG%40DF_GREEN_GROWTH&df[ag]=OECD.ENV.EPI&dq=IDN.A...&pd=%2C&to[TIME_PERIOD]=false&vw=tb</a> dan dipilih negara Indonesia untuk dianalisa lebih lanjut"
      ]
    },
    {
      "cell_type": "code",
      "execution_count": null,
      "metadata": {
        "id": "riYqV6Tz1g8q",
        "outputId": "171cb466-a4a3-4fd6-cfa3-303f867648f0"
      },
      "outputs": [
        {
          "data": {
            "text/html": [
              "<div>\n",
              "<style scoped>\n",
              "    .dataframe tbody tr th:only-of-type {\n",
              "        vertical-align: middle;\n",
              "    }\n",
              "\n",
              "    .dataframe tbody tr th {\n",
              "        vertical-align: top;\n",
              "    }\n",
              "\n",
              "    .dataframe thead th {\n",
              "        text-align: right;\n",
              "    }\n",
              "</style>\n",
              "<table border=\"1\" class=\"dataframe\">\n",
              "  <thead>\n",
              "    <tr style=\"text-align: right;\">\n",
              "      <th></th>\n",
              "      <th>STRUCTURE</th>\n",
              "      <th>STRUCTURE_ID</th>\n",
              "      <th>STRUCTURE_NAME</th>\n",
              "      <th>ACTION</th>\n",
              "      <th>REF_AREA</th>\n",
              "      <th>Reference area</th>\n",
              "      <th>FREQ</th>\n",
              "      <th>Frequency of observation</th>\n",
              "      <th>MEASURE</th>\n",
              "      <th>Measure</th>\n",
              "      <th>UNIT_MEASURE</th>\n",
              "      <th>Unit of measure</th>\n",
              "      <th>ACTIVITY</th>\n",
              "      <th>Economic activity</th>\n",
              "      <th>TIME_PERIOD</th>\n",
              "      <th>Time period</th>\n",
              "      <th>OBS_VALUE</th>\n",
              "      <th>Observation value</th>\n",
              "      <th>OBS_STATUS</th>\n",
              "      <th>Observation status</th>\n",
              "      <th>OBS_STATUS_2</th>\n",
              "      <th>Observation status 2</th>\n",
              "      <th>UNIT_MULT</th>\n",
              "      <th>Unit multiplier</th>\n",
              "      <th>PRICE_BASE</th>\n",
              "      <th>Price base</th>\n",
              "      <th>BASE_PER</th>\n",
              "      <th>Base period</th>\n",
              "      <th>TIMELINESS</th>\n",
              "      <th>Timeliness</th>\n",
              "      <th>DECIMALS</th>\n",
              "      <th>Decimals</th>\n",
              "    </tr>\n",
              "  </thead>\n",
              "  <tbody>\n",
              "    <tr>\n",
              "      <th>0</th>\n",
              "      <td>DATAFLOW</td>\n",
              "      <td>OECD.ENV.EPI:DSD_GG@DF_GREEN_GROWTH(1.1)</td>\n",
              "      <td>Green Growth</td>\n",
              "      <td>I</td>\n",
              "      <td>IDN</td>\n",
              "      <td>Indonesia</td>\n",
              "      <td>A</td>\n",
              "      <td>Annual</td>\n",
              "      <td>EPRICE_IND</td>\n",
              "      <td>Industry electricity price</td>\n",
              "      <td>USD_PPP_KWH</td>\n",
              "      <td>US dollars per kilowatt hour, PPP converted</td>\n",
              "      <td>_T</td>\n",
              "      <td>Total - all activities</td>\n",
              "      <td>2007</td>\n",
              "      <td>NaN</td>\n",
              "      <td>0.25</td>\n",
              "      <td>NaN</td>\n",
              "      <td>A</td>\n",
              "      <td>Normal value</td>\n",
              "      <td>NaN</td>\n",
              "      <td>NaN</td>\n",
              "      <td>0</td>\n",
              "      <td>Units</td>\n",
              "      <td>Q</td>\n",
              "      <td>Constant prices</td>\n",
              "      <td>2015.00</td>\n",
              "      <td>NaN</td>\n",
              "      <td>1.00</td>\n",
              "      <td>1 year lag, timely</td>\n",
              "      <td>2.00</td>\n",
              "      <td>Two</td>\n",
              "    </tr>\n",
              "    <tr>\n",
              "      <th>1</th>\n",
              "      <td>DATAFLOW</td>\n",
              "      <td>OECD.ENV.EPI:DSD_GG@DF_GREEN_GROWTH(1.1)</td>\n",
              "      <td>Green Growth</td>\n",
              "      <td>I</td>\n",
              "      <td>IDN</td>\n",
              "      <td>Indonesia</td>\n",
              "      <td>A</td>\n",
              "      <td>Annual</td>\n",
              "      <td>EPRICE_IND</td>\n",
              "      <td>Industry electricity price</td>\n",
              "      <td>USD_PPP_KWH</td>\n",
              "      <td>US dollars per kilowatt hour, PPP converted</td>\n",
              "      <td>_T</td>\n",
              "      <td>Total - all activities</td>\n",
              "      <td>2006</td>\n",
              "      <td>NaN</td>\n",
              "      <td>0.27</td>\n",
              "      <td>NaN</td>\n",
              "      <td>A</td>\n",
              "      <td>Normal value</td>\n",
              "      <td>NaN</td>\n",
              "      <td>NaN</td>\n",
              "      <td>0</td>\n",
              "      <td>Units</td>\n",
              "      <td>Q</td>\n",
              "      <td>Constant prices</td>\n",
              "      <td>2015.00</td>\n",
              "      <td>NaN</td>\n",
              "      <td>1.00</td>\n",
              "      <td>1 year lag, timely</td>\n",
              "      <td>2.00</td>\n",
              "      <td>Two</td>\n",
              "    </tr>\n",
              "    <tr>\n",
              "      <th>2</th>\n",
              "      <td>DATAFLOW</td>\n",
              "      <td>OECD.ENV.EPI:DSD_GG@DF_GREEN_GROWTH(1.1)</td>\n",
              "      <td>Green Growth</td>\n",
              "      <td>I</td>\n",
              "      <td>IDN</td>\n",
              "      <td>Indonesia</td>\n",
              "      <td>A</td>\n",
              "      <td>Annual</td>\n",
              "      <td>EPRICE_IND</td>\n",
              "      <td>Industry electricity price</td>\n",
              "      <td>USD_PPP_KWH</td>\n",
              "      <td>US dollars per kilowatt hour, PPP converted</td>\n",
              "      <td>_T</td>\n",
              "      <td>Total - all activities</td>\n",
              "      <td>2005</td>\n",
              "      <td>NaN</td>\n",
              "      <td>0.29</td>\n",
              "      <td>NaN</td>\n",
              "      <td>A</td>\n",
              "      <td>Normal value</td>\n",
              "      <td>NaN</td>\n",
              "      <td>NaN</td>\n",
              "      <td>0</td>\n",
              "      <td>Units</td>\n",
              "      <td>Q</td>\n",
              "      <td>Constant prices</td>\n",
              "      <td>2015.00</td>\n",
              "      <td>NaN</td>\n",
              "      <td>1.00</td>\n",
              "      <td>1 year lag, timely</td>\n",
              "      <td>2.00</td>\n",
              "      <td>Two</td>\n",
              "    </tr>\n",
              "    <tr>\n",
              "      <th>3</th>\n",
              "      <td>DATAFLOW</td>\n",
              "      <td>OECD.ENV.EPI:DSD_GG@DF_GREEN_GROWTH(1.1)</td>\n",
              "      <td>Green Growth</td>\n",
              "      <td>I</td>\n",
              "      <td>IDN</td>\n",
              "      <td>Indonesia</td>\n",
              "      <td>A</td>\n",
              "      <td>Annual</td>\n",
              "      <td>EPRICE_IND</td>\n",
              "      <td>Industry electricity price</td>\n",
              "      <td>USD_PPP_KWH</td>\n",
              "      <td>US dollars per kilowatt hour, PPP converted</td>\n",
              "      <td>_T</td>\n",
              "      <td>Total - all activities</td>\n",
              "      <td>2004</td>\n",
              "      <td>NaN</td>\n",
              "      <td>0.32</td>\n",
              "      <td>NaN</td>\n",
              "      <td>A</td>\n",
              "      <td>Normal value</td>\n",
              "      <td>NaN</td>\n",
              "      <td>NaN</td>\n",
              "      <td>0</td>\n",
              "      <td>Units</td>\n",
              "      <td>Q</td>\n",
              "      <td>Constant prices</td>\n",
              "      <td>2015.00</td>\n",
              "      <td>NaN</td>\n",
              "      <td>1.00</td>\n",
              "      <td>1 year lag, timely</td>\n",
              "      <td>2.00</td>\n",
              "      <td>Two</td>\n",
              "    </tr>\n",
              "    <tr>\n",
              "      <th>4</th>\n",
              "      <td>DATAFLOW</td>\n",
              "      <td>OECD.ENV.EPI:DSD_GG@DF_GREEN_GROWTH(1.1)</td>\n",
              "      <td>Green Growth</td>\n",
              "      <td>I</td>\n",
              "      <td>IDN</td>\n",
              "      <td>Indonesia</td>\n",
              "      <td>A</td>\n",
              "      <td>Annual</td>\n",
              "      <td>EPRICE_IND</td>\n",
              "      <td>Industry electricity price</td>\n",
              "      <td>USD_PPP_KWH</td>\n",
              "      <td>US dollars per kilowatt hour, PPP converted</td>\n",
              "      <td>_T</td>\n",
              "      <td>Total - all activities</td>\n",
              "      <td>2003</td>\n",
              "      <td>NaN</td>\n",
              "      <td>0.33</td>\n",
              "      <td>NaN</td>\n",
              "      <td>A</td>\n",
              "      <td>Normal value</td>\n",
              "      <td>NaN</td>\n",
              "      <td>NaN</td>\n",
              "      <td>0</td>\n",
              "      <td>Units</td>\n",
              "      <td>Q</td>\n",
              "      <td>Constant prices</td>\n",
              "      <td>2015.00</td>\n",
              "      <td>NaN</td>\n",
              "      <td>1.00</td>\n",
              "      <td>1 year lag, timely</td>\n",
              "      <td>2.00</td>\n",
              "      <td>Two</td>\n",
              "    </tr>\n",
              "    <tr>\n",
              "      <th>...</th>\n",
              "      <td>...</td>\n",
              "      <td>...</td>\n",
              "      <td>...</td>\n",
              "      <td>...</td>\n",
              "      <td>...</td>\n",
              "      <td>...</td>\n",
              "      <td>...</td>\n",
              "      <td>...</td>\n",
              "      <td>...</td>\n",
              "      <td>...</td>\n",
              "      <td>...</td>\n",
              "      <td>...</td>\n",
              "      <td>...</td>\n",
              "      <td>...</td>\n",
              "      <td>...</td>\n",
              "      <td>...</td>\n",
              "      <td>...</td>\n",
              "      <td>...</td>\n",
              "      <td>...</td>\n",
              "      <td>...</td>\n",
              "      <td>...</td>\n",
              "      <td>...</td>\n",
              "      <td>...</td>\n",
              "      <td>...</td>\n",
              "      <td>...</td>\n",
              "      <td>...</td>\n",
              "      <td>...</td>\n",
              "      <td>...</td>\n",
              "      <td>...</td>\n",
              "      <td>...</td>\n",
              "      <td>...</td>\n",
              "      <td>...</td>\n",
              "    </tr>\n",
              "    <tr>\n",
              "      <th>3594</th>\n",
              "      <td>DATAFLOW</td>\n",
              "      <td>OECD.ENV.EPI:DSD_GG@DF_GREEN_GROWTH(1.1)</td>\n",
              "      <td>Green Growth</td>\n",
              "      <td>I</td>\n",
              "      <td>IDN</td>\n",
              "      <td>Indonesia</td>\n",
              "      <td>A</td>\n",
              "      <td>Annual</td>\n",
              "      <td>DMC_MIN</td>\n",
              "      <td>Consumption of non-metallic minerals</td>\n",
              "      <td>PT_CONS_MAT_D</td>\n",
              "      <td>Percentage of domestic material consumption</td>\n",
              "      <td>_T</td>\n",
              "      <td>Total - all activities</td>\n",
              "      <td>2015</td>\n",
              "      <td>NaN</td>\n",
              "      <td>31.29</td>\n",
              "      <td>NaN</td>\n",
              "      <td>E</td>\n",
              "      <td>Estimated value</td>\n",
              "      <td>NaN</td>\n",
              "      <td>NaN</td>\n",
              "      <td>0</td>\n",
              "      <td>Units</td>\n",
              "      <td>_Z</td>\n",
              "      <td>Not applicable</td>\n",
              "      <td>NaN</td>\n",
              "      <td>NaN</td>\n",
              "      <td>2.00</td>\n",
              "      <td>2 years lag</td>\n",
              "      <td>2.00</td>\n",
              "      <td>Two</td>\n",
              "    </tr>\n",
              "    <tr>\n",
              "      <th>3595</th>\n",
              "      <td>DATAFLOW</td>\n",
              "      <td>OECD.ENV.EPI:DSD_GG@DF_GREEN_GROWTH(1.1)</td>\n",
              "      <td>Green Growth</td>\n",
              "      <td>I</td>\n",
              "      <td>IDN</td>\n",
              "      <td>Indonesia</td>\n",
              "      <td>A</td>\n",
              "      <td>Annual</td>\n",
              "      <td>FOR_STOCK</td>\n",
              "      <td>Forest resource stocks</td>\n",
              "      <td>M3</td>\n",
              "      <td>Cubic metres</td>\n",
              "      <td>_T</td>\n",
              "      <td>Total - all activities</td>\n",
              "      <td>2000</td>\n",
              "      <td>NaN</td>\n",
              "      <td>13933.99</td>\n",
              "      <td>NaN</td>\n",
              "      <td>A</td>\n",
              "      <td>Normal value</td>\n",
              "      <td>NaN</td>\n",
              "      <td>NaN</td>\n",
              "      <td>6</td>\n",
              "      <td>Millions</td>\n",
              "      <td>_Z</td>\n",
              "      <td>Not applicable</td>\n",
              "      <td>NaN</td>\n",
              "      <td>NaN</td>\n",
              "      <td>5.00</td>\n",
              "      <td>5 years lag</td>\n",
              "      <td>2.00</td>\n",
              "      <td>Two</td>\n",
              "    </tr>\n",
              "    <tr>\n",
              "      <th>3596</th>\n",
              "      <td>DATAFLOW</td>\n",
              "      <td>OECD.ENV.EPI:DSD_GG@DF_GREEN_GROWTH(1.1)</td>\n",
              "      <td>Green Growth</td>\n",
              "      <td>I</td>\n",
              "      <td>IDN</td>\n",
              "      <td>Indonesia</td>\n",
              "      <td>A</td>\n",
              "      <td>Annual</td>\n",
              "      <td>NRG</td>\n",
              "      <td>Energy productivity</td>\n",
              "      <td>_X</td>\n",
              "      <td>Unspecified</td>\n",
              "      <td>H</td>\n",
              "      <td>Transportation and storage</td>\n",
              "      <td>2021</td>\n",
              "      <td>NaN</td>\n",
              "      <td>NaN</td>\n",
              "      <td>NaN</td>\n",
              "      <td>A</td>\n",
              "      <td>Normal value</td>\n",
              "      <td>NaN</td>\n",
              "      <td>NaN</td>\n",
              "      <td>0</td>\n",
              "      <td>Units</td>\n",
              "      <td>NaN</td>\n",
              "      <td>NaN</td>\n",
              "      <td>NaN</td>\n",
              "      <td>NaN</td>\n",
              "      <td>NaN</td>\n",
              "      <td>NaN</td>\n",
              "      <td>NaN</td>\n",
              "      <td>NaN</td>\n",
              "    </tr>\n",
              "    <tr>\n",
              "      <th>3597</th>\n",
              "      <td>DATAFLOW</td>\n",
              "      <td>OECD.ENV.EPI:DSD_GG@DF_GREEN_GROWTH(1.1)</td>\n",
              "      <td>Green Growth</td>\n",
              "      <td>I</td>\n",
              "      <td>IDN</td>\n",
              "      <td>Indonesia</td>\n",
              "      <td>A</td>\n",
              "      <td>Annual</td>\n",
              "      <td>SW_PERMTOSEAS</td>\n",
              "      <td>Conversion of permanent water to seasonal wate...</td>\n",
              "      <td>PT_SUR_WAT_PER_1984</td>\n",
              "      <td>Percentage of permanent water surface in 1984</td>\n",
              "      <td>_T</td>\n",
              "      <td>Total - all activities</td>\n",
              "      <td>2015</td>\n",
              "      <td>NaN</td>\n",
              "      <td>10.53</td>\n",
              "      <td>NaN</td>\n",
              "      <td>A</td>\n",
              "      <td>Normal value</td>\n",
              "      <td>NaN</td>\n",
              "      <td>NaN</td>\n",
              "      <td>0</td>\n",
              "      <td>Units</td>\n",
              "      <td>_Z</td>\n",
              "      <td>Not applicable</td>\n",
              "      <td>NaN</td>\n",
              "      <td>NaN</td>\n",
              "      <td>5.00</td>\n",
              "      <td>5 years lag</td>\n",
              "      <td>2.00</td>\n",
              "      <td>Two</td>\n",
              "    </tr>\n",
              "    <tr>\n",
              "      <th>3598</th>\n",
              "      <td>DATAFLOW</td>\n",
              "      <td>OECD.ENV.EPI:DSD_GG@DF_GREEN_GROWTH(1.1)</td>\n",
              "      <td>Green Growth</td>\n",
              "      <td>I</td>\n",
              "      <td>IDN</td>\n",
              "      <td>Indonesia</td>\n",
              "      <td>A</td>\n",
              "      <td>Annual</td>\n",
              "      <td>DMC_BIO</td>\n",
              "      <td>Consumption of biomass</td>\n",
              "      <td>PT_CONS_MAT_D</td>\n",
              "      <td>Percentage of domestic material consumption</td>\n",
              "      <td>_T</td>\n",
              "      <td>Total - all activities</td>\n",
              "      <td>2015</td>\n",
              "      <td>NaN</td>\n",
              "      <td>59.98</td>\n",
              "      <td>NaN</td>\n",
              "      <td>E</td>\n",
              "      <td>Estimated value</td>\n",
              "      <td>NaN</td>\n",
              "      <td>NaN</td>\n",
              "      <td>0</td>\n",
              "      <td>Units</td>\n",
              "      <td>_Z</td>\n",
              "      <td>Not applicable</td>\n",
              "      <td>NaN</td>\n",
              "      <td>NaN</td>\n",
              "      <td>2.00</td>\n",
              "      <td>2 years lag</td>\n",
              "      <td>2.00</td>\n",
              "      <td>Two</td>\n",
              "    </tr>\n",
              "  </tbody>\n",
              "</table>\n",
              "<p>3599 rows × 32 columns</p>\n",
              "</div>"
            ],
            "text/plain": [
              "     STRUCTURE                              STRUCTURE_ID STRUCTURE_NAME  \\\n",
              "0     DATAFLOW  OECD.ENV.EPI:DSD_GG@DF_GREEN_GROWTH(1.1)   Green Growth   \n",
              "1     DATAFLOW  OECD.ENV.EPI:DSD_GG@DF_GREEN_GROWTH(1.1)   Green Growth   \n",
              "2     DATAFLOW  OECD.ENV.EPI:DSD_GG@DF_GREEN_GROWTH(1.1)   Green Growth   \n",
              "3     DATAFLOW  OECD.ENV.EPI:DSD_GG@DF_GREEN_GROWTH(1.1)   Green Growth   \n",
              "4     DATAFLOW  OECD.ENV.EPI:DSD_GG@DF_GREEN_GROWTH(1.1)   Green Growth   \n",
              "...        ...                                       ...            ...   \n",
              "3594  DATAFLOW  OECD.ENV.EPI:DSD_GG@DF_GREEN_GROWTH(1.1)   Green Growth   \n",
              "3595  DATAFLOW  OECD.ENV.EPI:DSD_GG@DF_GREEN_GROWTH(1.1)   Green Growth   \n",
              "3596  DATAFLOW  OECD.ENV.EPI:DSD_GG@DF_GREEN_GROWTH(1.1)   Green Growth   \n",
              "3597  DATAFLOW  OECD.ENV.EPI:DSD_GG@DF_GREEN_GROWTH(1.1)   Green Growth   \n",
              "3598  DATAFLOW  OECD.ENV.EPI:DSD_GG@DF_GREEN_GROWTH(1.1)   Green Growth   \n",
              "\n",
              "     ACTION REF_AREA Reference area FREQ Frequency of observation  \\\n",
              "0         I      IDN      Indonesia    A                   Annual   \n",
              "1         I      IDN      Indonesia    A                   Annual   \n",
              "2         I      IDN      Indonesia    A                   Annual   \n",
              "3         I      IDN      Indonesia    A                   Annual   \n",
              "4         I      IDN      Indonesia    A                   Annual   \n",
              "...     ...      ...            ...  ...                      ...   \n",
              "3594      I      IDN      Indonesia    A                   Annual   \n",
              "3595      I      IDN      Indonesia    A                   Annual   \n",
              "3596      I      IDN      Indonesia    A                   Annual   \n",
              "3597      I      IDN      Indonesia    A                   Annual   \n",
              "3598      I      IDN      Indonesia    A                   Annual   \n",
              "\n",
              "            MEASURE                                            Measure  \\\n",
              "0        EPRICE_IND                         Industry electricity price   \n",
              "1        EPRICE_IND                         Industry electricity price   \n",
              "2        EPRICE_IND                         Industry electricity price   \n",
              "3        EPRICE_IND                         Industry electricity price   \n",
              "4        EPRICE_IND                         Industry electricity price   \n",
              "...             ...                                                ...   \n",
              "3594        DMC_MIN               Consumption of non-metallic minerals   \n",
              "3595      FOR_STOCK                             Forest resource stocks   \n",
              "3596            NRG                                Energy productivity   \n",
              "3597  SW_PERMTOSEAS  Conversion of permanent water to seasonal wate...   \n",
              "3598        DMC_BIO                             Consumption of biomass   \n",
              "\n",
              "             UNIT_MEASURE                                Unit of measure  \\\n",
              "0             USD_PPP_KWH    US dollars per kilowatt hour, PPP converted   \n",
              "1             USD_PPP_KWH    US dollars per kilowatt hour, PPP converted   \n",
              "2             USD_PPP_KWH    US dollars per kilowatt hour, PPP converted   \n",
              "3             USD_PPP_KWH    US dollars per kilowatt hour, PPP converted   \n",
              "4             USD_PPP_KWH    US dollars per kilowatt hour, PPP converted   \n",
              "...                   ...                                            ...   \n",
              "3594        PT_CONS_MAT_D    Percentage of domestic material consumption   \n",
              "3595                   M3                                   Cubic metres   \n",
              "3596                   _X                                    Unspecified   \n",
              "3597  PT_SUR_WAT_PER_1984  Percentage of permanent water surface in 1984   \n",
              "3598        PT_CONS_MAT_D    Percentage of domestic material consumption   \n",
              "\n",
              "     ACTIVITY           Economic activity  TIME_PERIOD  Time period  \\\n",
              "0          _T      Total - all activities         2007          NaN   \n",
              "1          _T      Total - all activities         2006          NaN   \n",
              "2          _T      Total - all activities         2005          NaN   \n",
              "3          _T      Total - all activities         2004          NaN   \n",
              "4          _T      Total - all activities         2003          NaN   \n",
              "...       ...                         ...          ...          ...   \n",
              "3594       _T      Total - all activities         2015          NaN   \n",
              "3595       _T      Total - all activities         2000          NaN   \n",
              "3596        H  Transportation and storage         2021          NaN   \n",
              "3597       _T      Total - all activities         2015          NaN   \n",
              "3598       _T      Total - all activities         2015          NaN   \n",
              "\n",
              "      OBS_VALUE  Observation value OBS_STATUS Observation status  \\\n",
              "0          0.25                NaN          A       Normal value   \n",
              "1          0.27                NaN          A       Normal value   \n",
              "2          0.29                NaN          A       Normal value   \n",
              "3          0.32                NaN          A       Normal value   \n",
              "4          0.33                NaN          A       Normal value   \n",
              "...         ...                ...        ...                ...   \n",
              "3594      31.29                NaN          E    Estimated value   \n",
              "3595   13933.99                NaN          A       Normal value   \n",
              "3596        NaN                NaN          A       Normal value   \n",
              "3597      10.53                NaN          A       Normal value   \n",
              "3598      59.98                NaN          E    Estimated value   \n",
              "\n",
              "      OBS_STATUS_2  Observation status 2  UNIT_MULT Unit multiplier  \\\n",
              "0              NaN                   NaN          0           Units   \n",
              "1              NaN                   NaN          0           Units   \n",
              "2              NaN                   NaN          0           Units   \n",
              "3              NaN                   NaN          0           Units   \n",
              "4              NaN                   NaN          0           Units   \n",
              "...            ...                   ...        ...             ...   \n",
              "3594           NaN                   NaN          0           Units   \n",
              "3595           NaN                   NaN          6        Millions   \n",
              "3596           NaN                   NaN          0           Units   \n",
              "3597           NaN                   NaN          0           Units   \n",
              "3598           NaN                   NaN          0           Units   \n",
              "\n",
              "     PRICE_BASE       Price base  BASE_PER  Base period  TIMELINESS  \\\n",
              "0             Q  Constant prices   2015.00          NaN        1.00   \n",
              "1             Q  Constant prices   2015.00          NaN        1.00   \n",
              "2             Q  Constant prices   2015.00          NaN        1.00   \n",
              "3             Q  Constant prices   2015.00          NaN        1.00   \n",
              "4             Q  Constant prices   2015.00          NaN        1.00   \n",
              "...         ...              ...       ...          ...         ...   \n",
              "3594         _Z   Not applicable       NaN          NaN        2.00   \n",
              "3595         _Z   Not applicable       NaN          NaN        5.00   \n",
              "3596        NaN              NaN       NaN          NaN         NaN   \n",
              "3597         _Z   Not applicable       NaN          NaN        5.00   \n",
              "3598         _Z   Not applicable       NaN          NaN        2.00   \n",
              "\n",
              "              Timeliness  DECIMALS Decimals  \n",
              "0     1 year lag, timely      2.00      Two  \n",
              "1     1 year lag, timely      2.00      Two  \n",
              "2     1 year lag, timely      2.00      Two  \n",
              "3     1 year lag, timely      2.00      Two  \n",
              "4     1 year lag, timely      2.00      Two  \n",
              "...                  ...       ...      ...  \n",
              "3594         2 years lag      2.00      Two  \n",
              "3595         5 years lag      2.00      Two  \n",
              "3596                 NaN       NaN      NaN  \n",
              "3597         5 years lag      2.00      Two  \n",
              "3598         2 years lag      2.00      Two  \n",
              "\n",
              "[3599 rows x 32 columns]"
            ]
          },
          "metadata": {},
          "output_type": "display_data"
        }
      ],
      "source": [
        "# Import library yang dibutuhkan\n",
        "import pandas as pd\n",
        "pd.set_option('display.max_columns', None)\n",
        "pd.set_option('display.float_format', '{:.2f}'.format)\n",
        "\n",
        "# Proses ekstraksi data\n",
        "data_oecd_indonesia = pd.read_csv('OECD-Indonesia.csv')\n",
        "\n",
        "# Tampilkan hasilnya\n",
        "display(data_oecd_indonesia)"
      ]
    },
    {
      "cell_type": "code",
      "execution_count": null,
      "metadata": {
        "id": "v1kRwWht1g8r",
        "outputId": "cf217806-07d6-4273-9753-18dcf524d7f0"
      },
      "outputs": [
        {
          "name": "stdout",
          "output_type": "stream",
          "text": [
            "<class 'pandas.core.frame.DataFrame'>\n",
            "RangeIndex: 3599 entries, 0 to 3598\n",
            "Data columns (total 32 columns):\n",
            " #   Column                    Non-Null Count  Dtype  \n",
            "---  ------                    --------------  -----  \n",
            " 0   STRUCTURE                 3599 non-null   object \n",
            " 1   STRUCTURE_ID              3599 non-null   object \n",
            " 2   STRUCTURE_NAME            3599 non-null   object \n",
            " 3   ACTION                    3599 non-null   object \n",
            " 4   REF_AREA                  3599 non-null   object \n",
            " 5   Reference area            3599 non-null   object \n",
            " 6   FREQ                      3599 non-null   object \n",
            " 7   Frequency of observation  3599 non-null   object \n",
            " 8   MEASURE                   3599 non-null   object \n",
            " 9   Measure                   3599 non-null   object \n",
            " 10  UNIT_MEASURE              3599 non-null   object \n",
            " 11  Unit of measure           3599 non-null   object \n",
            " 12  ACTIVITY                  3599 non-null   object \n",
            " 13  Economic activity         3599 non-null   object \n",
            " 14  TIME_PERIOD               3599 non-null   int64  \n",
            " 15  Time period               0 non-null      float64\n",
            " 16  OBS_VALUE                 2279 non-null   float64\n",
            " 17  Observation value         0 non-null      float64\n",
            " 18  OBS_STATUS                3599 non-null   object \n",
            " 19  Observation status        3599 non-null   object \n",
            " 20  OBS_STATUS_2              0 non-null      float64\n",
            " 21  Observation status 2      0 non-null      float64\n",
            " 22  UNIT_MULT                 3599 non-null   int64  \n",
            " 23  Unit multiplier           3599 non-null   object \n",
            " 24  PRICE_BASE                2279 non-null   object \n",
            " 25  Price base                2279 non-null   object \n",
            " 26  BASE_PER                  491 non-null    float64\n",
            " 27  Base period               0 non-null      float64\n",
            " 28  TIMELINESS                2279 non-null   float64\n",
            " 29  Timeliness                2279 non-null   object \n",
            " 30  DECIMALS                  2279 non-null   float64\n",
            " 31  Decimals                  2279 non-null   object \n",
            "dtypes: float64(9), int64(2), object(21)\n",
            "memory usage: 899.9+ KB\n"
          ]
        }
      ],
      "source": [
        "# Akses informasi umum pada data\n",
        "data_oecd_indonesia.info()"
      ]
    },
    {
      "cell_type": "markdown",
      "metadata": {
        "id": "2Jr2EgHC1g8r"
      },
      "source": [
        "<b><span style='color:#FFDB00'><i>Interpretasi Hasil : </i></span></b><br>\n",
        "..."
      ]
    },
    {
      "cell_type": "markdown",
      "metadata": {
        "id": "6sQq8BDR1g8r"
      },
      "source": [
        "# <b>C. <span style='color:#55679C'>Data Preparation</span></b>"
      ]
    },
    {
      "cell_type": "markdown",
      "metadata": {
        "id": "rO6hdYkR1g8r"
      },
      "source": [
        "Menggunakan dataset OECD, siapkan data sesuai instruksi berikut:\n",
        "\n",
        "<ul>\n",
        "    <li>Mencari <code>missing value</code> dan mengatasi masalah missing value, jika ada.</li>\n",
        "    <li>Mencari <code>duplicate value</code> dan menyelesaikan masalah duplicate value, jika ada.</li>\n",
        "    <li>Memeriksa <code>outlier</code> dan menangani outlier, jika ada.</li>\n",
        "    <li>Memeriksa <code>imbalance data</code> dan menyelesaikan masalah imbalance data, jika ada.</li>\n",
        "    <li>Melakukan <code>feature encoding</code>, jika diperlukan.</li>\n",
        "</ul>\n",
        "\n",
        "Interpretasikan/beri penjelasan singkat terkait hasil yang telah diperoleh dan metode/proses yang digunakan!"
      ]
    },
    {
      "cell_type": "markdown",
      "metadata": {
        "id": "XpJTub6J1g8r"
      },
      "source": [
        "## <b>C.1. <span style='color:#C8ACD6'>Ambil Kolom yang Dibutuhkan</span></b>"
      ]
    },
    {
      "cell_type": "code",
      "execution_count": null,
      "metadata": {
        "id": "OvNflqvT1g8s",
        "outputId": "5e158e93-a575-406e-aca1-ecd2d41c5d8b"
      },
      "outputs": [
        {
          "data": {
            "text/html": [
              "<div>\n",
              "<style scoped>\n",
              "    .dataframe tbody tr th:only-of-type {\n",
              "        vertical-align: middle;\n",
              "    }\n",
              "\n",
              "    .dataframe tbody tr th {\n",
              "        vertical-align: top;\n",
              "    }\n",
              "\n",
              "    .dataframe thead th {\n",
              "        text-align: right;\n",
              "    }\n",
              "</style>\n",
              "<table border=\"1\" class=\"dataframe\">\n",
              "  <thead>\n",
              "    <tr style=\"text-align: right;\">\n",
              "      <th></th>\n",
              "      <th>reference_area</th>\n",
              "      <th>measure</th>\n",
              "      <th>unit_of_measure</th>\n",
              "      <th>economic_activity</th>\n",
              "      <th>time_period</th>\n",
              "      <th>obs_value</th>\n",
              "      <th>unit_multiplier</th>\n",
              "    </tr>\n",
              "  </thead>\n",
              "  <tbody>\n",
              "    <tr>\n",
              "      <th>0</th>\n",
              "      <td>Indonesia</td>\n",
              "      <td>Industry electricity price</td>\n",
              "      <td>US dollars per kilowatt hour, PPP converted</td>\n",
              "      <td>Total - all activities</td>\n",
              "      <td>2007</td>\n",
              "      <td>0.25</td>\n",
              "      <td>Units</td>\n",
              "    </tr>\n",
              "    <tr>\n",
              "      <th>1</th>\n",
              "      <td>Indonesia</td>\n",
              "      <td>Industry electricity price</td>\n",
              "      <td>US dollars per kilowatt hour, PPP converted</td>\n",
              "      <td>Total - all activities</td>\n",
              "      <td>2006</td>\n",
              "      <td>0.27</td>\n",
              "      <td>Units</td>\n",
              "    </tr>\n",
              "    <tr>\n",
              "      <th>2</th>\n",
              "      <td>Indonesia</td>\n",
              "      <td>Industry electricity price</td>\n",
              "      <td>US dollars per kilowatt hour, PPP converted</td>\n",
              "      <td>Total - all activities</td>\n",
              "      <td>2005</td>\n",
              "      <td>0.29</td>\n",
              "      <td>Units</td>\n",
              "    </tr>\n",
              "    <tr>\n",
              "      <th>3</th>\n",
              "      <td>Indonesia</td>\n",
              "      <td>Industry electricity price</td>\n",
              "      <td>US dollars per kilowatt hour, PPP converted</td>\n",
              "      <td>Total - all activities</td>\n",
              "      <td>2004</td>\n",
              "      <td>0.32</td>\n",
              "      <td>Units</td>\n",
              "    </tr>\n",
              "    <tr>\n",
              "      <th>4</th>\n",
              "      <td>Indonesia</td>\n",
              "      <td>Industry electricity price</td>\n",
              "      <td>US dollars per kilowatt hour, PPP converted</td>\n",
              "      <td>Total - all activities</td>\n",
              "      <td>2003</td>\n",
              "      <td>0.33</td>\n",
              "      <td>Units</td>\n",
              "    </tr>\n",
              "    <tr>\n",
              "      <th>...</th>\n",
              "      <td>...</td>\n",
              "      <td>...</td>\n",
              "      <td>...</td>\n",
              "      <td>...</td>\n",
              "      <td>...</td>\n",
              "      <td>...</td>\n",
              "      <td>...</td>\n",
              "    </tr>\n",
              "    <tr>\n",
              "      <th>3594</th>\n",
              "      <td>Indonesia</td>\n",
              "      <td>Consumption of non-metallic minerals</td>\n",
              "      <td>Percentage of domestic material consumption</td>\n",
              "      <td>Total - all activities</td>\n",
              "      <td>2015</td>\n",
              "      <td>31.29</td>\n",
              "      <td>Units</td>\n",
              "    </tr>\n",
              "    <tr>\n",
              "      <th>3595</th>\n",
              "      <td>Indonesia</td>\n",
              "      <td>Forest resource stocks</td>\n",
              "      <td>Cubic metres</td>\n",
              "      <td>Total - all activities</td>\n",
              "      <td>2000</td>\n",
              "      <td>13933.99</td>\n",
              "      <td>Millions</td>\n",
              "    </tr>\n",
              "    <tr>\n",
              "      <th>3596</th>\n",
              "      <td>Indonesia</td>\n",
              "      <td>Energy productivity</td>\n",
              "      <td>Unspecified</td>\n",
              "      <td>Transportation and storage</td>\n",
              "      <td>2021</td>\n",
              "      <td>NaN</td>\n",
              "      <td>Units</td>\n",
              "    </tr>\n",
              "    <tr>\n",
              "      <th>3597</th>\n",
              "      <td>Indonesia</td>\n",
              "      <td>Conversion of permanent water to seasonal wate...</td>\n",
              "      <td>Percentage of permanent water surface in 1984</td>\n",
              "      <td>Total - all activities</td>\n",
              "      <td>2015</td>\n",
              "      <td>10.53</td>\n",
              "      <td>Units</td>\n",
              "    </tr>\n",
              "    <tr>\n",
              "      <th>3598</th>\n",
              "      <td>Indonesia</td>\n",
              "      <td>Consumption of biomass</td>\n",
              "      <td>Percentage of domestic material consumption</td>\n",
              "      <td>Total - all activities</td>\n",
              "      <td>2015</td>\n",
              "      <td>59.98</td>\n",
              "      <td>Units</td>\n",
              "    </tr>\n",
              "  </tbody>\n",
              "</table>\n",
              "<p>3599 rows × 7 columns</p>\n",
              "</div>"
            ],
            "text/plain": [
              "     reference_area                                            measure  \\\n",
              "0         Indonesia                         Industry electricity price   \n",
              "1         Indonesia                         Industry electricity price   \n",
              "2         Indonesia                         Industry electricity price   \n",
              "3         Indonesia                         Industry electricity price   \n",
              "4         Indonesia                         Industry electricity price   \n",
              "...             ...                                                ...   \n",
              "3594      Indonesia               Consumption of non-metallic minerals   \n",
              "3595      Indonesia                             Forest resource stocks   \n",
              "3596      Indonesia                                Energy productivity   \n",
              "3597      Indonesia  Conversion of permanent water to seasonal wate...   \n",
              "3598      Indonesia                             Consumption of biomass   \n",
              "\n",
              "                                    unit_of_measure  \\\n",
              "0       US dollars per kilowatt hour, PPP converted   \n",
              "1       US dollars per kilowatt hour, PPP converted   \n",
              "2       US dollars per kilowatt hour, PPP converted   \n",
              "3       US dollars per kilowatt hour, PPP converted   \n",
              "4       US dollars per kilowatt hour, PPP converted   \n",
              "...                                             ...   \n",
              "3594    Percentage of domestic material consumption   \n",
              "3595                                   Cubic metres   \n",
              "3596                                    Unspecified   \n",
              "3597  Percentage of permanent water surface in 1984   \n",
              "3598    Percentage of domestic material consumption   \n",
              "\n",
              "               economic_activity  time_period  obs_value unit_multiplier  \n",
              "0         Total - all activities         2007       0.25           Units  \n",
              "1         Total - all activities         2006       0.27           Units  \n",
              "2         Total - all activities         2005       0.29           Units  \n",
              "3         Total - all activities         2004       0.32           Units  \n",
              "4         Total - all activities         2003       0.33           Units  \n",
              "...                          ...          ...        ...             ...  \n",
              "3594      Total - all activities         2015      31.29           Units  \n",
              "3595      Total - all activities         2000   13933.99        Millions  \n",
              "3596  Transportation and storage         2021        NaN           Units  \n",
              "3597      Total - all activities         2015      10.53           Units  \n",
              "3598      Total - all activities         2015      59.98           Units  \n",
              "\n",
              "[3599 rows x 7 columns]"
            ]
          },
          "metadata": {},
          "output_type": "display_data"
        }
      ],
      "source": [
        "# Definisikan kolom yang dibutuhkan\n",
        "column = ['Reference area', 'Measure', 'Unit of measure', 'Economic activity', 'TIME_PERIOD', 'OBS_VALUE', 'Unit multiplier']\n",
        "\n",
        "# Ambil kolom yang dibutuhkan saja\n",
        "data_oecd_indonesia = data_oecd_indonesia.loc[:, column]\n",
        "\n",
        "# Ubah nama kolom menjadi lowercase dan ubah spasi menjadi underscore\n",
        "data_oecd_indonesia.columns = data_oecd_indonesia.columns.str.lower()\n",
        "data_oecd_indonesia.columns = data_oecd_indonesia.columns.str.replace(' ', '_')\n",
        "\n",
        "# Tampilkan hasilnya\n",
        "display(data_oecd_indonesia)"
      ]
    },
    {
      "cell_type": "markdown",
      "metadata": {
        "id": "XhxBJrBt1g8s"
      },
      "source": [
        "## <b>C.2. <span style='color:#C8ACD6'>Buat Tabel Master</span></b>"
      ]
    },
    {
      "cell_type": "code",
      "execution_count": null,
      "metadata": {
        "id": "BxrUBnxd1g8s",
        "outputId": "9c7ffd96-9b43-4911-e3bb-c0de991cc349"
      },
      "outputs": [
        {
          "data": {
            "text/html": [
              "<div>\n",
              "<style scoped>\n",
              "    .dataframe tbody tr th:only-of-type {\n",
              "        vertical-align: middle;\n",
              "    }\n",
              "\n",
              "    .dataframe tbody tr th {\n",
              "        vertical-align: top;\n",
              "    }\n",
              "\n",
              "    .dataframe thead th {\n",
              "        text-align: right;\n",
              "    }\n",
              "</style>\n",
              "<table border=\"1\" class=\"dataframe\">\n",
              "  <thead>\n",
              "    <tr style=\"text-align: right;\">\n",
              "      <th></th>\n",
              "      <th>economic_activity</th>\n",
              "      <th>measure</th>\n",
              "      <th>unit_of_measure</th>\n",
              "      <th>unit_multiplier</th>\n",
              "    </tr>\n",
              "  </thead>\n",
              "  <tbody>\n",
              "    <tr>\n",
              "      <th>0</th>\n",
              "      <td>Total - all activities</td>\n",
              "      <td>Access to drinking water and sewage treatment</td>\n",
              "      <td>Unspecified</td>\n",
              "      <td>Units</td>\n",
              "    </tr>\n",
              "    <tr>\n",
              "      <th>1</th>\n",
              "      <td>Total - all activities</td>\n",
              "      <td>Adjustment for pollution abatement</td>\n",
              "      <td>Percentage points</td>\n",
              "      <td>Units</td>\n",
              "    </tr>\n",
              "    <tr>\n",
              "      <th>2</th>\n",
              "      <td>Total - all activities</td>\n",
              "      <td>CO2 emissions from air transport per capita</td>\n",
              "      <td>Tonnes of CO2-equivalent per person</td>\n",
              "      <td>Units</td>\n",
              "    </tr>\n",
              "    <tr>\n",
              "      <th>3</th>\n",
              "      <td>Total - all activities</td>\n",
              "      <td>CO2 emissions from air transport per unit of GDP</td>\n",
              "      <td>Kilogramme</td>\n",
              "      <td>Units</td>\n",
              "    </tr>\n",
              "    <tr>\n",
              "      <th>4</th>\n",
              "      <td>Total - all activities</td>\n",
              "      <td>Consumption of biomass</td>\n",
              "      <td>Percentage of domestic material consumption</td>\n",
              "      <td>Units</td>\n",
              "    </tr>\n",
              "    <tr>\n",
              "      <th>...</th>\n",
              "      <td>...</td>\n",
              "      <td>...</td>\n",
              "      <td>...</td>\n",
              "      <td>...</td>\n",
              "    </tr>\n",
              "    <tr>\n",
              "      <th>132</th>\n",
              "      <td>Total - all activities</td>\n",
              "      <td>Welfare costs of premature mortalities from ex...</td>\n",
              "      <td>Percentage of GDP</td>\n",
              "      <td>Units</td>\n",
              "    </tr>\n",
              "    <tr>\n",
              "      <th>133</th>\n",
              "      <td>Total - all activities</td>\n",
              "      <td>Welfare costs of premature mortalities from ex...</td>\n",
              "      <td>Percentage of GDP</td>\n",
              "      <td>Units</td>\n",
              "    </tr>\n",
              "    <tr>\n",
              "      <th>134</th>\n",
              "      <td>Total - all activities</td>\n",
              "      <td>Welfare costs of premature mortalities from ex...</td>\n",
              "      <td>Percentage of GDP</td>\n",
              "      <td>Units</td>\n",
              "    </tr>\n",
              "    <tr>\n",
              "      <th>135</th>\n",
              "      <td>Total - all activities</td>\n",
              "      <td>Welfare costs of premature mortalities from ex...</td>\n",
              "      <td>Percentage of GDP</td>\n",
              "      <td>Units</td>\n",
              "    </tr>\n",
              "    <tr>\n",
              "      <th>136</th>\n",
              "      <td>Total - all activities</td>\n",
              "      <td>Wildlife resources</td>\n",
              "      <td>Unspecified</td>\n",
              "      <td>Units</td>\n",
              "    </tr>\n",
              "  </tbody>\n",
              "</table>\n",
              "<p>137 rows × 4 columns</p>\n",
              "</div>"
            ],
            "text/plain": [
              "          economic_activity  \\\n",
              "0    Total - all activities   \n",
              "1    Total - all activities   \n",
              "2    Total - all activities   \n",
              "3    Total - all activities   \n",
              "4    Total - all activities   \n",
              "..                      ...   \n",
              "132  Total - all activities   \n",
              "133  Total - all activities   \n",
              "134  Total - all activities   \n",
              "135  Total - all activities   \n",
              "136  Total - all activities   \n",
              "\n",
              "                                               measure  \\\n",
              "0        Access to drinking water and sewage treatment   \n",
              "1                   Adjustment for pollution abatement   \n",
              "2          CO2 emissions from air transport per capita   \n",
              "3     CO2 emissions from air transport per unit of GDP   \n",
              "4                               Consumption of biomass   \n",
              "..                                                 ...   \n",
              "132  Welfare costs of premature mortalities from ex...   \n",
              "133  Welfare costs of premature mortalities from ex...   \n",
              "134  Welfare costs of premature mortalities from ex...   \n",
              "135  Welfare costs of premature mortalities from ex...   \n",
              "136                                 Wildlife resources   \n",
              "\n",
              "                                 unit_of_measure unit_multiplier  \n",
              "0                                    Unspecified           Units  \n",
              "1                              Percentage points           Units  \n",
              "2            Tonnes of CO2-equivalent per person           Units  \n",
              "3                                     Kilogramme           Units  \n",
              "4    Percentage of domestic material consumption           Units  \n",
              "..                                           ...             ...  \n",
              "132                            Percentage of GDP           Units  \n",
              "133                            Percentage of GDP           Units  \n",
              "134                            Percentage of GDP           Units  \n",
              "135                            Percentage of GDP           Units  \n",
              "136                                  Unspecified           Units  \n",
              "\n",
              "[137 rows x 4 columns]"
            ]
          },
          "execution_count": 120,
          "metadata": {},
          "output_type": "execute_result"
        }
      ],
      "source": [
        "# Hapus duplikasi\n",
        "master_measure = data_oecd_indonesia[['economic_activity', 'measure', 'unit_of_measure', 'unit_multiplier']].drop_duplicates()\n",
        "\n",
        "# Urutkan data\n",
        "master_measure = master_measure.sort_values(by = ['measure', 'economic_activity'], ignore_index = True)\n",
        "\n",
        "# Simpan ke excel\n",
        "master_measure.to_excel('Master Measure.xlsx', index = False, engine = 'openpyxl')\n",
        "\n",
        "# Tampilkan hasilnya\n",
        "master_measure"
      ]
    },
    {
      "cell_type": "markdown",
      "metadata": {
        "id": "FNhEPVoN1g8s"
      },
      "source": [
        "## <b>C.3. <span style='color:#C8ACD6'>Transformasi Data</span></b>"
      ]
    },
    {
      "cell_type": "markdown",
      "metadata": {
        "id": "MjeV-vsq1g8s"
      },
      "source": [
        "### <b>C.3.1 <span style='color:#C8ACD6'>Gabungkan Kolom Measure dan Economic Activity</span></b>"
      ]
    },
    {
      "cell_type": "code",
      "execution_count": null,
      "metadata": {
        "id": "AvF1hm9t1g8s",
        "outputId": "c2c40242-0f79-46ca-bdf0-675609ef1b2e"
      },
      "outputs": [
        {
          "data": {
            "text/html": [
              "<div>\n",
              "<style scoped>\n",
              "    .dataframe tbody tr th:only-of-type {\n",
              "        vertical-align: middle;\n",
              "    }\n",
              "\n",
              "    .dataframe tbody tr th {\n",
              "        vertical-align: top;\n",
              "    }\n",
              "\n",
              "    .dataframe thead th {\n",
              "        text-align: right;\n",
              "    }\n",
              "</style>\n",
              "<table border=\"1\" class=\"dataframe\">\n",
              "  <thead>\n",
              "    <tr style=\"text-align: right;\">\n",
              "      <th></th>\n",
              "      <th>reference_area</th>\n",
              "      <th>measure</th>\n",
              "      <th>unit_of_measure</th>\n",
              "      <th>economic_activity</th>\n",
              "      <th>time_period</th>\n",
              "      <th>obs_value</th>\n",
              "      <th>unit_multiplier</th>\n",
              "    </tr>\n",
              "  </thead>\n",
              "  <tbody>\n",
              "    <tr>\n",
              "      <th>0</th>\n",
              "      <td>Indonesia</td>\n",
              "      <td>Industry electricity price (Total - all activi...</td>\n",
              "      <td>US dollars per kilowatt hour, PPP converted</td>\n",
              "      <td>Total - all activities</td>\n",
              "      <td>2007</td>\n",
              "      <td>0.25</td>\n",
              "      <td>Units</td>\n",
              "    </tr>\n",
              "    <tr>\n",
              "      <th>1</th>\n",
              "      <td>Indonesia</td>\n",
              "      <td>Industry electricity price (Total - all activi...</td>\n",
              "      <td>US dollars per kilowatt hour, PPP converted</td>\n",
              "      <td>Total - all activities</td>\n",
              "      <td>2006</td>\n",
              "      <td>0.27</td>\n",
              "      <td>Units</td>\n",
              "    </tr>\n",
              "    <tr>\n",
              "      <th>2</th>\n",
              "      <td>Indonesia</td>\n",
              "      <td>Industry electricity price (Total - all activi...</td>\n",
              "      <td>US dollars per kilowatt hour, PPP converted</td>\n",
              "      <td>Total - all activities</td>\n",
              "      <td>2005</td>\n",
              "      <td>0.29</td>\n",
              "      <td>Units</td>\n",
              "    </tr>\n",
              "    <tr>\n",
              "      <th>3</th>\n",
              "      <td>Indonesia</td>\n",
              "      <td>Industry electricity price (Total - all activi...</td>\n",
              "      <td>US dollars per kilowatt hour, PPP converted</td>\n",
              "      <td>Total - all activities</td>\n",
              "      <td>2004</td>\n",
              "      <td>0.32</td>\n",
              "      <td>Units</td>\n",
              "    </tr>\n",
              "    <tr>\n",
              "      <th>4</th>\n",
              "      <td>Indonesia</td>\n",
              "      <td>Industry electricity price (Total - all activi...</td>\n",
              "      <td>US dollars per kilowatt hour, PPP converted</td>\n",
              "      <td>Total - all activities</td>\n",
              "      <td>2003</td>\n",
              "      <td>0.33</td>\n",
              "      <td>Units</td>\n",
              "    </tr>\n",
              "    <tr>\n",
              "      <th>...</th>\n",
              "      <td>...</td>\n",
              "      <td>...</td>\n",
              "      <td>...</td>\n",
              "      <td>...</td>\n",
              "      <td>...</td>\n",
              "      <td>...</td>\n",
              "      <td>...</td>\n",
              "    </tr>\n",
              "    <tr>\n",
              "      <th>3594</th>\n",
              "      <td>Indonesia</td>\n",
              "      <td>Consumption of non-metallic minerals (Total - ...</td>\n",
              "      <td>Percentage of domestic material consumption</td>\n",
              "      <td>Total - all activities</td>\n",
              "      <td>2015</td>\n",
              "      <td>31.29</td>\n",
              "      <td>Units</td>\n",
              "    </tr>\n",
              "    <tr>\n",
              "      <th>3595</th>\n",
              "      <td>Indonesia</td>\n",
              "      <td>Forest resource stocks (Total - all activities)</td>\n",
              "      <td>Cubic metres</td>\n",
              "      <td>Total - all activities</td>\n",
              "      <td>2000</td>\n",
              "      <td>13933.99</td>\n",
              "      <td>Millions</td>\n",
              "    </tr>\n",
              "    <tr>\n",
              "      <th>3596</th>\n",
              "      <td>Indonesia</td>\n",
              "      <td>Energy productivity (Transportation and storage)</td>\n",
              "      <td>Unspecified</td>\n",
              "      <td>Transportation and storage</td>\n",
              "      <td>2021</td>\n",
              "      <td>NaN</td>\n",
              "      <td>Units</td>\n",
              "    </tr>\n",
              "    <tr>\n",
              "      <th>3597</th>\n",
              "      <td>Indonesia</td>\n",
              "      <td>Conversion of permanent water to seasonal wate...</td>\n",
              "      <td>Percentage of permanent water surface in 1984</td>\n",
              "      <td>Total - all activities</td>\n",
              "      <td>2015</td>\n",
              "      <td>10.53</td>\n",
              "      <td>Units</td>\n",
              "    </tr>\n",
              "    <tr>\n",
              "      <th>3598</th>\n",
              "      <td>Indonesia</td>\n",
              "      <td>Consumption of biomass (Total - all activities)</td>\n",
              "      <td>Percentage of domestic material consumption</td>\n",
              "      <td>Total - all activities</td>\n",
              "      <td>2015</td>\n",
              "      <td>59.98</td>\n",
              "      <td>Units</td>\n",
              "    </tr>\n",
              "  </tbody>\n",
              "</table>\n",
              "<p>3599 rows × 7 columns</p>\n",
              "</div>"
            ],
            "text/plain": [
              "     reference_area                                            measure  \\\n",
              "0         Indonesia  Industry electricity price (Total - all activi...   \n",
              "1         Indonesia  Industry electricity price (Total - all activi...   \n",
              "2         Indonesia  Industry electricity price (Total - all activi...   \n",
              "3         Indonesia  Industry electricity price (Total - all activi...   \n",
              "4         Indonesia  Industry electricity price (Total - all activi...   \n",
              "...             ...                                                ...   \n",
              "3594      Indonesia  Consumption of non-metallic minerals (Total - ...   \n",
              "3595      Indonesia    Forest resource stocks (Total - all activities)   \n",
              "3596      Indonesia   Energy productivity (Transportation and storage)   \n",
              "3597      Indonesia  Conversion of permanent water to seasonal wate...   \n",
              "3598      Indonesia    Consumption of biomass (Total - all activities)   \n",
              "\n",
              "                                    unit_of_measure  \\\n",
              "0       US dollars per kilowatt hour, PPP converted   \n",
              "1       US dollars per kilowatt hour, PPP converted   \n",
              "2       US dollars per kilowatt hour, PPP converted   \n",
              "3       US dollars per kilowatt hour, PPP converted   \n",
              "4       US dollars per kilowatt hour, PPP converted   \n",
              "...                                             ...   \n",
              "3594    Percentage of domestic material consumption   \n",
              "3595                                   Cubic metres   \n",
              "3596                                    Unspecified   \n",
              "3597  Percentage of permanent water surface in 1984   \n",
              "3598    Percentage of domestic material consumption   \n",
              "\n",
              "               economic_activity  time_period  obs_value unit_multiplier  \n",
              "0         Total - all activities         2007       0.25           Units  \n",
              "1         Total - all activities         2006       0.27           Units  \n",
              "2         Total - all activities         2005       0.29           Units  \n",
              "3         Total - all activities         2004       0.32           Units  \n",
              "4         Total - all activities         2003       0.33           Units  \n",
              "...                          ...          ...        ...             ...  \n",
              "3594      Total - all activities         2015      31.29           Units  \n",
              "3595      Total - all activities         2000   13933.99        Millions  \n",
              "3596  Transportation and storage         2021        NaN           Units  \n",
              "3597      Total - all activities         2015      10.53           Units  \n",
              "3598      Total - all activities         2015      59.98           Units  \n",
              "\n",
              "[3599 rows x 7 columns]"
            ]
          },
          "metadata": {},
          "output_type": "display_data"
        }
      ],
      "source": [
        "# Gabungkan kolom\n",
        "data_oecd_indonesia['measure'] = data_oecd_indonesia['measure'] + ' (' + data_oecd_indonesia['economic_activity'] + ')'\n",
        "\n",
        "# Tampilkan hasilnya\n",
        "display(data_oecd_indonesia)"
      ]
    },
    {
      "cell_type": "markdown",
      "metadata": {
        "id": "qXk2wz4V1g8t"
      },
      "source": [
        "### <b>C.3.2. <span style='color:#C8ACD6'>Hapus Kolom Economic Activity</span></b>"
      ]
    },
    {
      "cell_type": "code",
      "execution_count": null,
      "metadata": {
        "id": "Sx9b3NXt1g8t",
        "outputId": "7e2b0aba-b815-4a61-8df8-230dbe33186a"
      },
      "outputs": [
        {
          "data": {
            "text/html": [
              "<div>\n",
              "<style scoped>\n",
              "    .dataframe tbody tr th:only-of-type {\n",
              "        vertical-align: middle;\n",
              "    }\n",
              "\n",
              "    .dataframe tbody tr th {\n",
              "        vertical-align: top;\n",
              "    }\n",
              "\n",
              "    .dataframe thead th {\n",
              "        text-align: right;\n",
              "    }\n",
              "</style>\n",
              "<table border=\"1\" class=\"dataframe\">\n",
              "  <thead>\n",
              "    <tr style=\"text-align: right;\">\n",
              "      <th></th>\n",
              "      <th>reference_area</th>\n",
              "      <th>measure</th>\n",
              "      <th>unit_of_measure</th>\n",
              "      <th>time_period</th>\n",
              "      <th>obs_value</th>\n",
              "      <th>unit_multiplier</th>\n",
              "    </tr>\n",
              "  </thead>\n",
              "  <tbody>\n",
              "    <tr>\n",
              "      <th>0</th>\n",
              "      <td>Indonesia</td>\n",
              "      <td>Industry electricity price (Total - all activi...</td>\n",
              "      <td>US dollars per kilowatt hour, PPP converted</td>\n",
              "      <td>2007</td>\n",
              "      <td>0.25</td>\n",
              "      <td>Units</td>\n",
              "    </tr>\n",
              "    <tr>\n",
              "      <th>1</th>\n",
              "      <td>Indonesia</td>\n",
              "      <td>Industry electricity price (Total - all activi...</td>\n",
              "      <td>US dollars per kilowatt hour, PPP converted</td>\n",
              "      <td>2006</td>\n",
              "      <td>0.27</td>\n",
              "      <td>Units</td>\n",
              "    </tr>\n",
              "    <tr>\n",
              "      <th>2</th>\n",
              "      <td>Indonesia</td>\n",
              "      <td>Industry electricity price (Total - all activi...</td>\n",
              "      <td>US dollars per kilowatt hour, PPP converted</td>\n",
              "      <td>2005</td>\n",
              "      <td>0.29</td>\n",
              "      <td>Units</td>\n",
              "    </tr>\n",
              "    <tr>\n",
              "      <th>3</th>\n",
              "      <td>Indonesia</td>\n",
              "      <td>Industry electricity price (Total - all activi...</td>\n",
              "      <td>US dollars per kilowatt hour, PPP converted</td>\n",
              "      <td>2004</td>\n",
              "      <td>0.32</td>\n",
              "      <td>Units</td>\n",
              "    </tr>\n",
              "    <tr>\n",
              "      <th>4</th>\n",
              "      <td>Indonesia</td>\n",
              "      <td>Industry electricity price (Total - all activi...</td>\n",
              "      <td>US dollars per kilowatt hour, PPP converted</td>\n",
              "      <td>2003</td>\n",
              "      <td>0.33</td>\n",
              "      <td>Units</td>\n",
              "    </tr>\n",
              "    <tr>\n",
              "      <th>...</th>\n",
              "      <td>...</td>\n",
              "      <td>...</td>\n",
              "      <td>...</td>\n",
              "      <td>...</td>\n",
              "      <td>...</td>\n",
              "      <td>...</td>\n",
              "    </tr>\n",
              "    <tr>\n",
              "      <th>3594</th>\n",
              "      <td>Indonesia</td>\n",
              "      <td>Consumption of non-metallic minerals (Total - ...</td>\n",
              "      <td>Percentage of domestic material consumption</td>\n",
              "      <td>2015</td>\n",
              "      <td>31.29</td>\n",
              "      <td>Units</td>\n",
              "    </tr>\n",
              "    <tr>\n",
              "      <th>3595</th>\n",
              "      <td>Indonesia</td>\n",
              "      <td>Forest resource stocks (Total - all activities)</td>\n",
              "      <td>Cubic metres</td>\n",
              "      <td>2000</td>\n",
              "      <td>13933.99</td>\n",
              "      <td>Millions</td>\n",
              "    </tr>\n",
              "    <tr>\n",
              "      <th>3596</th>\n",
              "      <td>Indonesia</td>\n",
              "      <td>Energy productivity (Transportation and storage)</td>\n",
              "      <td>Unspecified</td>\n",
              "      <td>2021</td>\n",
              "      <td>NaN</td>\n",
              "      <td>Units</td>\n",
              "    </tr>\n",
              "    <tr>\n",
              "      <th>3597</th>\n",
              "      <td>Indonesia</td>\n",
              "      <td>Conversion of permanent water to seasonal wate...</td>\n",
              "      <td>Percentage of permanent water surface in 1984</td>\n",
              "      <td>2015</td>\n",
              "      <td>10.53</td>\n",
              "      <td>Units</td>\n",
              "    </tr>\n",
              "    <tr>\n",
              "      <th>3598</th>\n",
              "      <td>Indonesia</td>\n",
              "      <td>Consumption of biomass (Total - all activities)</td>\n",
              "      <td>Percentage of domestic material consumption</td>\n",
              "      <td>2015</td>\n",
              "      <td>59.98</td>\n",
              "      <td>Units</td>\n",
              "    </tr>\n",
              "  </tbody>\n",
              "</table>\n",
              "<p>3599 rows × 6 columns</p>\n",
              "</div>"
            ],
            "text/plain": [
              "     reference_area                                            measure  \\\n",
              "0         Indonesia  Industry electricity price (Total - all activi...   \n",
              "1         Indonesia  Industry electricity price (Total - all activi...   \n",
              "2         Indonesia  Industry electricity price (Total - all activi...   \n",
              "3         Indonesia  Industry electricity price (Total - all activi...   \n",
              "4         Indonesia  Industry electricity price (Total - all activi...   \n",
              "...             ...                                                ...   \n",
              "3594      Indonesia  Consumption of non-metallic minerals (Total - ...   \n",
              "3595      Indonesia    Forest resource stocks (Total - all activities)   \n",
              "3596      Indonesia   Energy productivity (Transportation and storage)   \n",
              "3597      Indonesia  Conversion of permanent water to seasonal wate...   \n",
              "3598      Indonesia    Consumption of biomass (Total - all activities)   \n",
              "\n",
              "                                    unit_of_measure  time_period  obs_value  \\\n",
              "0       US dollars per kilowatt hour, PPP converted         2007       0.25   \n",
              "1       US dollars per kilowatt hour, PPP converted         2006       0.27   \n",
              "2       US dollars per kilowatt hour, PPP converted         2005       0.29   \n",
              "3       US dollars per kilowatt hour, PPP converted         2004       0.32   \n",
              "4       US dollars per kilowatt hour, PPP converted         2003       0.33   \n",
              "...                                             ...          ...        ...   \n",
              "3594    Percentage of domestic material consumption         2015      31.29   \n",
              "3595                                   Cubic metres         2000   13933.99   \n",
              "3596                                    Unspecified         2021        NaN   \n",
              "3597  Percentage of permanent water surface in 1984         2015      10.53   \n",
              "3598    Percentage of domestic material consumption         2015      59.98   \n",
              "\n",
              "     unit_multiplier  \n",
              "0              Units  \n",
              "1              Units  \n",
              "2              Units  \n",
              "3              Units  \n",
              "4              Units  \n",
              "...              ...  \n",
              "3594           Units  \n",
              "3595        Millions  \n",
              "3596           Units  \n",
              "3597           Units  \n",
              "3598           Units  \n",
              "\n",
              "[3599 rows x 6 columns]"
            ]
          },
          "metadata": {},
          "output_type": "display_data"
        }
      ],
      "source": [
        "# Hapus kolom economic_activity\n",
        "data_oecd_indonesia = data_oecd_indonesia.drop(columns = 'economic_activity')\n",
        "\n",
        "# Tampilkan hasilnya\n",
        "display(data_oecd_indonesia)"
      ]
    },
    {
      "cell_type": "markdown",
      "metadata": {
        "id": "R-xRUVnD1g8t"
      },
      "source": [
        "### <b>C.3.3. <span style='color:#C8ACD6'>Lakukan Pivot Data</span></b>"
      ]
    },
    {
      "cell_type": "code",
      "execution_count": null,
      "metadata": {
        "id": "u2OLX82d1g8t",
        "outputId": "1c6cb04a-927c-4955-8e4f-f3fe1290099d"
      },
      "outputs": [
        {
          "data": {
            "text/html": [
              "<div>\n",
              "<style scoped>\n",
              "    .dataframe tbody tr th:only-of-type {\n",
              "        vertical-align: middle;\n",
              "    }\n",
              "\n",
              "    .dataframe tbody tr th {\n",
              "        vertical-align: top;\n",
              "    }\n",
              "\n",
              "    .dataframe thead th {\n",
              "        text-align: right;\n",
              "    }\n",
              "</style>\n",
              "<table border=\"1\" class=\"dataframe\">\n",
              "  <thead>\n",
              "    <tr style=\"text-align: right;\">\n",
              "      <th>measure</th>\n",
              "      <th>reference_area</th>\n",
              "      <th>time_period</th>\n",
              "      <th>Adjustment for pollution abatement (Total - all activities)</th>\n",
              "      <th>CO2 emissions from air transport per capita (Total - all activities)</th>\n",
              "      <th>CO2 emissions from air transport per unit of GDP (Total - all activities)</th>\n",
              "      <th>Consumption of biomass (Total - all activities)</th>\n",
              "      <th>Consumption of metals (Total - all activities)</th>\n",
              "      <th>Consumption of non-metallic minerals (Total - all activities)</th>\n",
              "      <th>Contribution of natural capital (Total - all activities)</th>\n",
              "      <th>Conversion of non-water topermanent water surface (Total - all activities)</th>\n",
              "      <th>Conversion of permanent water to not-water surface (Total - all activities)</th>\n",
              "      <th>Conversion of permanent water to seasonal water surface (Total - all activities)</th>\n",
              "      <th>Conversion of seasonal water to permanent water surface (Total - all activities)</th>\n",
              "      <th>Demand-based CO2 emissions (Total - all activities)</th>\n",
              "      <th>Demand-based CO2 intensity energy-related CO2 per capita (Total - all activities)</th>\n",
              "      <th>Demand-based CO2 productivity, GDP per unit of energy-related CO2 emissions (Total - all activities)</th>\n",
              "      <th>Demand-based GHG emissions (Total - all activities)</th>\n",
              "      <th>Demand-based GHG intensity energy-related GHG per capita (Total - all activities)</th>\n",
              "      <th>Demand-based GHG productivity, GDP per unit of energy-related GHG emissions (Total - all activities)</th>\n",
              "      <th>Development of environment-related technologies (Total - all activities)</th>\n",
              "      <th>Diesel end-user price (Total - all activities)</th>\n",
              "      <th>Emissions priced above EUR 120 per tonne of CO2 (Total - all activities)</th>\n",
              "      <th>Emissions priced above EUR 30 per tonne of CO2 (Total - all activities)</th>\n",
              "      <th>Emissions priced above EUR 60 per tonne of CO2 (Total - all activities)</th>\n",
              "      <th>Energy consumption (Agriculture, forestry and fishing)</th>\n",
              "      <th>Energy consumption (Industry (except construction))</th>\n",
              "      <th>Energy consumption (Other)</th>\n",
              "      <th>Energy consumption (Services)</th>\n",
              "      <th>Energy consumption (Transportation and storage)</th>\n",
              "      <th>Energy intensity per capita (Total - all activities)</th>\n",
              "      <th>Energy productivity, GDP per unit of TES (Total - all activities)</th>\n",
              "      <th>Environmentally adjusted multifactor productivity growth (Total - all activities)</th>\n",
              "      <th>Feed-in tariffs for solar photovoltaic (Total - all activities)</th>\n",
              "      <th>Feed-in tariffs for wind electricity generation (Total - all activities)</th>\n",
              "      <th>Female population (Total - all activities)</th>\n",
              "      <th>Forest resource stocks (Total - all activities)</th>\n",
              "      <th>Forests with long-term management plans (Total - all activities)</th>\n",
              "      <th>GDP deflator (Total - all activities)</th>\n",
              "      <th>Industry electricity price (Total - all activities)</th>\n",
              "      <th>Intact forest landscape (Total - all activities)</th>\n",
              "      <th>Intact forest landscape loss (Total - all activities)</th>\n",
              "      <th>Labour tax revenue (Total - all activities)</th>\n",
              "      <th>Life expectancy at birth (Total - all activities)</th>\n",
              "      <th>Marine protected area (Total - all activities)</th>\n",
              "      <th>Mortality from exposure to ambient PM2.5 (Total - all activities)</th>\n",
              "      <th>Mortality from exposure to ambient ozone (Total - all activities)</th>\n",
              "      <th>Mortality from exposure to lead (Total - all activities)</th>\n",
              "      <th>Mortality from exposure to residential radon (Total - all activities)</th>\n",
              "      <th>Naturally regenerating forests (Total - all activities)</th>\n",
              "      <th>Net migration (Total - all activities)</th>\n",
              "      <th>Nitrogen balance (Total - all activities)</th>\n",
              "      <th>Nominal exchange rate (Total - all activities)</th>\n",
              "      <th>Non-energy material productivity, GDP per unit of DMC (Total - all activities)</th>\n",
              "      <th>Permanent surface water (Total - all activities)</th>\n",
              "      <th>Petrol end-user price (Total - all activities)</th>\n",
              "      <th>Phosphorus balance (Total - all activities)</th>\n",
              "      <th>Population density (Total - all activities)</th>\n",
              "      <th>Population exposed to more than 10 micrograms/m3 (Total - all activities)</th>\n",
              "      <th>Population exposed to more than 35 micrograms/m3 (Total - all activities)</th>\n",
              "      <th>Population exposure to PM2.5 (Total - all activities)</th>\n",
              "      <th>Population, ages 0-14 (Total - all activities)</th>\n",
              "      <th>Population, ages 15-64 (Total - all activities)</th>\n",
              "      <th>Population, ages 65 and above (Total - all activities)</th>\n",
              "      <th>Production-based CO2 emissions (Total - all activities)</th>\n",
              "      <th>Production-based CO2 intensity, energy-related CO2 per capita (Total - all activities)</th>\n",
              "      <th>Production-based CO2 productivity, GDP per unit of energy-related CO2 emissions (Total - all activities)</th>\n",
              "      <th>Production-based GHG emissions (Total - all activities)</th>\n",
              "      <th>Production-based GHG intensity, energy-related GHG per capita (Total - all activities)</th>\n",
              "      <th>Production-based GHG productivity, GDP per unit of energy-related GHG emissions (Total - all activities)</th>\n",
              "      <th>Purchasing power parity (Total - all activities)</th>\n",
              "      <th>Real GDP (Total - all activities)</th>\n",
              "      <th>Real GDP per capita (Total - all activities)</th>\n",
              "      <th>Relative technological advantage in environment-related technologies (Total - all activities)</th>\n",
              "      <th>Renewable electricity generation (Total - all activities)</th>\n",
              "      <th>Renewable energy supply (Total - all activities)</th>\n",
              "      <th>Renewable energy supply (excluding solid biofuels) (Total - all activities)</th>\n",
              "      <th>Residential electricity price (Total - all activities)</th>\n",
              "      <th>Sales of pesticides per unit of agricultural land (Total - all activities)</th>\n",
              "      <th>Seasonal surface water (Total - all activities)</th>\n",
              "      <th>Terrestrial protected area (Total - all activities)</th>\n",
              "      <th>Total energy supply (Total - all activities)</th>\n",
              "      <th>Total fertility rate (Total - all activities)</th>\n",
              "      <th>Total freshwater abstraction per capita (Total - all activities)</th>\n",
              "      <th>Value added (Agriculture, forestry and fishing)</th>\n",
              "      <th>Value added (Industry (except construction))</th>\n",
              "      <th>Value added (Services)</th>\n",
              "      <th>Welfare costs of premature mortalities from exposure to ambient PM2.5 (Total - all activities)</th>\n",
              "      <th>Welfare costs of premature mortalities from exposure to ambient ozone (Total - all activities)</th>\n",
              "      <th>Welfare costs of premature mortalities from exposure to lead (Total - all activities)</th>\n",
              "      <th>Welfare costs of premature mortalities from exposure to residential radon (Total - all activities)</th>\n",
              "    </tr>\n",
              "  </thead>\n",
              "  <tbody>\n",
              "    <tr>\n",
              "      <th>0</th>\n",
              "      <td>Indonesia</td>\n",
              "      <td>1990</td>\n",
              "      <td>NaN</td>\n",
              "      <td>NaN</td>\n",
              "      <td>NaN</td>\n",
              "      <td>77.65</td>\n",
              "      <td>4.25</td>\n",
              "      <td>18.10</td>\n",
              "      <td>NaN</td>\n",
              "      <td>NaN</td>\n",
              "      <td>NaN</td>\n",
              "      <td>NaN</td>\n",
              "      <td>NaN</td>\n",
              "      <td>NaN</td>\n",
              "      <td>NaN</td>\n",
              "      <td>NaN</td>\n",
              "      <td>NaN</td>\n",
              "      <td>NaN</td>\n",
              "      <td>NaN</td>\n",
              "      <td>0.00</td>\n",
              "      <td>NaN</td>\n",
              "      <td>NaN</td>\n",
              "      <td>NaN</td>\n",
              "      <td>NaN</td>\n",
              "      <td>1.25</td>\n",
              "      <td>22.03</td>\n",
              "      <td>62.18</td>\n",
              "      <td>1.01</td>\n",
              "      <td>13.53</td>\n",
              "      <td>0.54</td>\n",
              "      <td>8402.64</td>\n",
              "      <td>NaN</td>\n",
              "      <td>NaN</td>\n",
              "      <td>NaN</td>\n",
              "      <td>49.83</td>\n",
              "      <td>14749.50</td>\n",
              "      <td>1.62</td>\n",
              "      <td>6.51</td>\n",
              "      <td>NaN</td>\n",
              "      <td>NaN</td>\n",
              "      <td>NaN</td>\n",
              "      <td>NaN</td>\n",
              "      <td>63.18</td>\n",
              "      <td>0.86</td>\n",
              "      <td>212.71</td>\n",
              "      <td>2.22</td>\n",
              "      <td>74.49</td>\n",
              "      <td>1.82</td>\n",
              "      <td>99.88</td>\n",
              "      <td>11.54</td>\n",
              "      <td>30.88</td>\n",
              "      <td>1842.81</td>\n",
              "      <td>1.47</td>\n",
              "      <td>NaN</td>\n",
              "      <td>NaN</td>\n",
              "      <td>6.52</td>\n",
              "      <td>94.93</td>\n",
              "      <td>99.66</td>\n",
              "      <td>17.40</td>\n",
              "      <td>26.84</td>\n",
              "      <td>34.37</td>\n",
              "      <td>61.75</td>\n",
              "      <td>3.88</td>\n",
              "      <td>91.26</td>\n",
              "      <td>NaN</td>\n",
              "      <td>NaN</td>\n",
              "      <td>NaN</td>\n",
              "      <td>NaN</td>\n",
              "      <td>NaN</td>\n",
              "      <td>349.76</td>\n",
              "      <td>414541.64</td>\n",
              "      <td>4569.76</td>\n",
              "      <td>0.00</td>\n",
              "      <td>20.92</td>\n",
              "      <td>46.57</td>\n",
              "      <td>2.46</td>\n",
              "      <td>NaN</td>\n",
              "      <td>0.05</td>\n",
              "      <td>NaN</td>\n",
              "      <td>11.25</td>\n",
              "      <td>81.02</td>\n",
              "      <td>3.10</td>\n",
              "      <td>4.21</td>\n",
              "      <td>NaN</td>\n",
              "      <td>NaN</td>\n",
              "      <td>NaN</td>\n",
              "      <td>2.14</td>\n",
              "      <td>0.02</td>\n",
              "      <td>0.75</td>\n",
              "      <td>0.02</td>\n",
              "    </tr>\n",
              "    <tr>\n",
              "      <th>1</th>\n",
              "      <td>Indonesia</td>\n",
              "      <td>1991</td>\n",
              "      <td>-1.07</td>\n",
              "      <td>NaN</td>\n",
              "      <td>NaN</td>\n",
              "      <td>73.73</td>\n",
              "      <td>4.91</td>\n",
              "      <td>21.36</td>\n",
              "      <td>0.52</td>\n",
              "      <td>NaN</td>\n",
              "      <td>NaN</td>\n",
              "      <td>NaN</td>\n",
              "      <td>NaN</td>\n",
              "      <td>NaN</td>\n",
              "      <td>NaN</td>\n",
              "      <td>NaN</td>\n",
              "      <td>NaN</td>\n",
              "      <td>NaN</td>\n",
              "      <td>NaN</td>\n",
              "      <td>0.00</td>\n",
              "      <td>NaN</td>\n",
              "      <td>NaN</td>\n",
              "      <td>NaN</td>\n",
              "      <td>NaN</td>\n",
              "      <td>1.18</td>\n",
              "      <td>21.52</td>\n",
              "      <td>61.62</td>\n",
              "      <td>1.15</td>\n",
              "      <td>14.53</td>\n",
              "      <td>0.56</td>\n",
              "      <td>8568.99</td>\n",
              "      <td>4.98</td>\n",
              "      <td>NaN</td>\n",
              "      <td>NaN</td>\n",
              "      <td>49.81</td>\n",
              "      <td>NaN</td>\n",
              "      <td>NaN</td>\n",
              "      <td>7.09</td>\n",
              "      <td>NaN</td>\n",
              "      <td>NaN</td>\n",
              "      <td>NaN</td>\n",
              "      <td>NaN</td>\n",
              "      <td>63.54</td>\n",
              "      <td>NaN</td>\n",
              "      <td>221.23</td>\n",
              "      <td>2.44</td>\n",
              "      <td>75.64</td>\n",
              "      <td>1.87</td>\n",
              "      <td>NaN</td>\n",
              "      <td>3.10</td>\n",
              "      <td>33.07</td>\n",
              "      <td>1950.32</td>\n",
              "      <td>1.48</td>\n",
              "      <td>NaN</td>\n",
              "      <td>NaN</td>\n",
              "      <td>7.67</td>\n",
              "      <td>96.60</td>\n",
              "      <td>NaN</td>\n",
              "      <td>NaN</td>\n",
              "      <td>NaN</td>\n",
              "      <td>33.83</td>\n",
              "      <td>62.22</td>\n",
              "      <td>3.95</td>\n",
              "      <td>98.60</td>\n",
              "      <td>NaN</td>\n",
              "      <td>NaN</td>\n",
              "      <td>NaN</td>\n",
              "      <td>NaN</td>\n",
              "      <td>NaN</td>\n",
              "      <td>368.45</td>\n",
              "      <td>443457.17</td>\n",
              "      <td>4804.33</td>\n",
              "      <td>0.00</td>\n",
              "      <td>20.56</td>\n",
              "      <td>45.19</td>\n",
              "      <td>2.29</td>\n",
              "      <td>NaN</td>\n",
              "      <td>0.08</td>\n",
              "      <td>NaN</td>\n",
              "      <td>NaN</td>\n",
              "      <td>84.98</td>\n",
              "      <td>3.06</td>\n",
              "      <td>NaN</td>\n",
              "      <td>NaN</td>\n",
              "      <td>NaN</td>\n",
              "      <td>NaN</td>\n",
              "      <td>2.22</td>\n",
              "      <td>0.02</td>\n",
              "      <td>0.76</td>\n",
              "      <td>0.02</td>\n",
              "    </tr>\n",
              "    <tr>\n",
              "      <th>2</th>\n",
              "      <td>Indonesia</td>\n",
              "      <td>1992</td>\n",
              "      <td>-0.43</td>\n",
              "      <td>NaN</td>\n",
              "      <td>NaN</td>\n",
              "      <td>73.18</td>\n",
              "      <td>6.89</td>\n",
              "      <td>19.93</td>\n",
              "      <td>0.05</td>\n",
              "      <td>NaN</td>\n",
              "      <td>NaN</td>\n",
              "      <td>NaN</td>\n",
              "      <td>NaN</td>\n",
              "      <td>NaN</td>\n",
              "      <td>NaN</td>\n",
              "      <td>NaN</td>\n",
              "      <td>NaN</td>\n",
              "      <td>NaN</td>\n",
              "      <td>NaN</td>\n",
              "      <td>5.89</td>\n",
              "      <td>NaN</td>\n",
              "      <td>NaN</td>\n",
              "      <td>NaN</td>\n",
              "      <td>NaN</td>\n",
              "      <td>1.44</td>\n",
              "      <td>21.72</td>\n",
              "      <td>60.69</td>\n",
              "      <td>1.32</td>\n",
              "      <td>14.83</td>\n",
              "      <td>0.57</td>\n",
              "      <td>8759.14</td>\n",
              "      <td>3.65</td>\n",
              "      <td>NaN</td>\n",
              "      <td>NaN</td>\n",
              "      <td>49.80</td>\n",
              "      <td>NaN</td>\n",
              "      <td>NaN</td>\n",
              "      <td>7.61</td>\n",
              "      <td>NaN</td>\n",
              "      <td>NaN</td>\n",
              "      <td>NaN</td>\n",
              "      <td>NaN</td>\n",
              "      <td>64.13</td>\n",
              "      <td>NaN</td>\n",
              "      <td>229.63</td>\n",
              "      <td>2.55</td>\n",
              "      <td>77.00</td>\n",
              "      <td>1.93</td>\n",
              "      <td>NaN</td>\n",
              "      <td>-2.61</td>\n",
              "      <td>35.58</td>\n",
              "      <td>2029.92</td>\n",
              "      <td>1.48</td>\n",
              "      <td>NaN</td>\n",
              "      <td>NaN</td>\n",
              "      <td>7.86</td>\n",
              "      <td>98.25</td>\n",
              "      <td>NaN</td>\n",
              "      <td>NaN</td>\n",
              "      <td>NaN</td>\n",
              "      <td>33.28</td>\n",
              "      <td>62.69</td>\n",
              "      <td>4.03</td>\n",
              "      <td>103.91</td>\n",
              "      <td>NaN</td>\n",
              "      <td>NaN</td>\n",
              "      <td>NaN</td>\n",
              "      <td>NaN</td>\n",
              "      <td>NaN</td>\n",
              "      <td>386.50</td>\n",
              "      <td>472530.88</td>\n",
              "      <td>5033.48</td>\n",
              "      <td>2.28</td>\n",
              "      <td>23.84</td>\n",
              "      <td>44.30</td>\n",
              "      <td>2.43</td>\n",
              "      <td>NaN</td>\n",
              "      <td>0.02</td>\n",
              "      <td>NaN</td>\n",
              "      <td>NaN</td>\n",
              "      <td>88.59</td>\n",
              "      <td>2.94</td>\n",
              "      <td>NaN</td>\n",
              "      <td>NaN</td>\n",
              "      <td>NaN</td>\n",
              "      <td>NaN</td>\n",
              "      <td>2.31</td>\n",
              "      <td>0.03</td>\n",
              "      <td>0.77</td>\n",
              "      <td>0.02</td>\n",
              "    </tr>\n",
              "    <tr>\n",
              "      <th>3</th>\n",
              "      <td>Indonesia</td>\n",
              "      <td>1993</td>\n",
              "      <td>-0.01</td>\n",
              "      <td>NaN</td>\n",
              "      <td>NaN</td>\n",
              "      <td>71.37</td>\n",
              "      <td>7.17</td>\n",
              "      <td>21.46</td>\n",
              "      <td>0.10</td>\n",
              "      <td>NaN</td>\n",
              "      <td>NaN</td>\n",
              "      <td>NaN</td>\n",
              "      <td>NaN</td>\n",
              "      <td>NaN</td>\n",
              "      <td>NaN</td>\n",
              "      <td>NaN</td>\n",
              "      <td>NaN</td>\n",
              "      <td>NaN</td>\n",
              "      <td>NaN</td>\n",
              "      <td>3.29</td>\n",
              "      <td>NaN</td>\n",
              "      <td>NaN</td>\n",
              "      <td>NaN</td>\n",
              "      <td>NaN</td>\n",
              "      <td>1.60</td>\n",
              "      <td>22.20</td>\n",
              "      <td>59.54</td>\n",
              "      <td>1.53</td>\n",
              "      <td>15.14</td>\n",
              "      <td>0.62</td>\n",
              "      <td>8476.85</td>\n",
              "      <td>4.73</td>\n",
              "      <td>NaN</td>\n",
              "      <td>NaN</td>\n",
              "      <td>49.78</td>\n",
              "      <td>NaN</td>\n",
              "      <td>NaN</td>\n",
              "      <td>9.07</td>\n",
              "      <td>NaN</td>\n",
              "      <td>NaN</td>\n",
              "      <td>NaN</td>\n",
              "      <td>NaN</td>\n",
              "      <td>64.60</td>\n",
              "      <td>NaN</td>\n",
              "      <td>237.66</td>\n",
              "      <td>3.82</td>\n",
              "      <td>78.31</td>\n",
              "      <td>1.99</td>\n",
              "      <td>NaN</td>\n",
              "      <td>-3.47</td>\n",
              "      <td>29.20</td>\n",
              "      <td>2087.10</td>\n",
              "      <td>1.54</td>\n",
              "      <td>NaN</td>\n",
              "      <td>NaN</td>\n",
              "      <td>7.04</td>\n",
              "      <td>99.87</td>\n",
              "      <td>NaN</td>\n",
              "      <td>NaN</td>\n",
              "      <td>NaN</td>\n",
              "      <td>32.72</td>\n",
              "      <td>63.16</td>\n",
              "      <td>4.11</td>\n",
              "      <td>112.96</td>\n",
              "      <td>NaN</td>\n",
              "      <td>NaN</td>\n",
              "      <td>NaN</td>\n",
              "      <td>NaN</td>\n",
              "      <td>NaN</td>\n",
              "      <td>449.86</td>\n",
              "      <td>502277.42</td>\n",
              "      <td>5263.12</td>\n",
              "      <td>1.24</td>\n",
              "      <td>19.78</td>\n",
              "      <td>40.93</td>\n",
              "      <td>2.15</td>\n",
              "      <td>NaN</td>\n",
              "      <td>0.04</td>\n",
              "      <td>NaN</td>\n",
              "      <td>NaN</td>\n",
              "      <td>97.31</td>\n",
              "      <td>2.88</td>\n",
              "      <td>NaN</td>\n",
              "      <td>NaN</td>\n",
              "      <td>NaN</td>\n",
              "      <td>NaN</td>\n",
              "      <td>2.84</td>\n",
              "      <td>0.05</td>\n",
              "      <td>0.93</td>\n",
              "      <td>0.02</td>\n",
              "    </tr>\n",
              "    <tr>\n",
              "      <th>4</th>\n",
              "      <td>Indonesia</td>\n",
              "      <td>1994</td>\n",
              "      <td>-0.34</td>\n",
              "      <td>NaN</td>\n",
              "      <td>NaN</td>\n",
              "      <td>66.86</td>\n",
              "      <td>7.26</td>\n",
              "      <td>25.88</td>\n",
              "      <td>0.29</td>\n",
              "      <td>NaN</td>\n",
              "      <td>NaN</td>\n",
              "      <td>NaN</td>\n",
              "      <td>NaN</td>\n",
              "      <td>NaN</td>\n",
              "      <td>NaN</td>\n",
              "      <td>NaN</td>\n",
              "      <td>NaN</td>\n",
              "      <td>NaN</td>\n",
              "      <td>NaN</td>\n",
              "      <td>6.85</td>\n",
              "      <td>NaN</td>\n",
              "      <td>NaN</td>\n",
              "      <td>NaN</td>\n",
              "      <td>NaN</td>\n",
              "      <td>1.59</td>\n",
              "      <td>23.74</td>\n",
              "      <td>56.92</td>\n",
              "      <td>1.62</td>\n",
              "      <td>16.13</td>\n",
              "      <td>0.61</td>\n",
              "      <td>9103.86</td>\n",
              "      <td>3.68</td>\n",
              "      <td>NaN</td>\n",
              "      <td>NaN</td>\n",
              "      <td>49.77</td>\n",
              "      <td>NaN</td>\n",
              "      <td>NaN</td>\n",
              "      <td>9.77</td>\n",
              "      <td>NaN</td>\n",
              "      <td>NaN</td>\n",
              "      <td>NaN</td>\n",
              "      <td>NaN</td>\n",
              "      <td>64.86</td>\n",
              "      <td>NaN</td>\n",
              "      <td>243.86</td>\n",
              "      <td>3.62</td>\n",
              "      <td>79.34</td>\n",
              "      <td>2.05</td>\n",
              "      <td>NaN</td>\n",
              "      <td>-2.58</td>\n",
              "      <td>31.26</td>\n",
              "      <td>2160.75</td>\n",
              "      <td>1.53</td>\n",
              "      <td>NaN</td>\n",
              "      <td>NaN</td>\n",
              "      <td>7.45</td>\n",
              "      <td>101.48</td>\n",
              "      <td>NaN</td>\n",
              "      <td>NaN</td>\n",
              "      <td>NaN</td>\n",
              "      <td>32.17</td>\n",
              "      <td>63.63</td>\n",
              "      <td>4.20</td>\n",
              "      <td>121.76</td>\n",
              "      <td>NaN</td>\n",
              "      <td>NaN</td>\n",
              "      <td>NaN</td>\n",
              "      <td>NaN</td>\n",
              "      <td>NaN</td>\n",
              "      <td>474.71</td>\n",
              "      <td>540149.05</td>\n",
              "      <td>5570.46</td>\n",
              "      <td>2.66</td>\n",
              "      <td>15.66</td>\n",
              "      <td>42.53</td>\n",
              "      <td>3.25</td>\n",
              "      <td>NaN</td>\n",
              "      <td>0.04</td>\n",
              "      <td>NaN</td>\n",
              "      <td>NaN</td>\n",
              "      <td>97.44</td>\n",
              "      <td>2.84</td>\n",
              "      <td>NaN</td>\n",
              "      <td>NaN</td>\n",
              "      <td>NaN</td>\n",
              "      <td>NaN</td>\n",
              "      <td>2.89</td>\n",
              "      <td>0.04</td>\n",
              "      <td>0.94</td>\n",
              "      <td>0.02</td>\n",
              "    </tr>\n",
              "    <tr>\n",
              "      <th>5</th>\n",
              "      <td>Indonesia</td>\n",
              "      <td>1995</td>\n",
              "      <td>0.39</td>\n",
              "      <td>NaN</td>\n",
              "      <td>NaN</td>\n",
              "      <td>64.51</td>\n",
              "      <td>9.36</td>\n",
              "      <td>26.14</td>\n",
              "      <td>0.14</td>\n",
              "      <td>NaN</td>\n",
              "      <td>NaN</td>\n",
              "      <td>NaN</td>\n",
              "      <td>NaN</td>\n",
              "      <td>147.85</td>\n",
              "      <td>1.03</td>\n",
              "      <td>5.76</td>\n",
              "      <td>254.42</td>\n",
              "      <td>2.09</td>\n",
              "      <td>2.82</td>\n",
              "      <td>1.51</td>\n",
              "      <td>NaN</td>\n",
              "      <td>NaN</td>\n",
              "      <td>NaN</td>\n",
              "      <td>NaN</td>\n",
              "      <td>1.58</td>\n",
              "      <td>25.77</td>\n",
              "      <td>54.29</td>\n",
              "      <td>1.73</td>\n",
              "      <td>16.63</td>\n",
              "      <td>0.66</td>\n",
              "      <td>8932.67</td>\n",
              "      <td>6.96</td>\n",
              "      <td>NaN</td>\n",
              "      <td>NaN</td>\n",
              "      <td>49.76</td>\n",
              "      <td>NaN</td>\n",
              "      <td>NaN</td>\n",
              "      <td>10.74</td>\n",
              "      <td>NaN</td>\n",
              "      <td>NaN</td>\n",
              "      <td>NaN</td>\n",
              "      <td>NaN</td>\n",
              "      <td>65.24</td>\n",
              "      <td>0.89</td>\n",
              "      <td>248.61</td>\n",
              "      <td>3.45</td>\n",
              "      <td>80.32</td>\n",
              "      <td>2.10</td>\n",
              "      <td>NaN</td>\n",
              "      <td>-1.65</td>\n",
              "      <td>32.34</td>\n",
              "      <td>2248.61</td>\n",
              "      <td>1.54</td>\n",
              "      <td>NaN</td>\n",
              "      <td>NaN</td>\n",
              "      <td>5.69</td>\n",
              "      <td>103.06</td>\n",
              "      <td>99.38</td>\n",
              "      <td>12.59</td>\n",
              "      <td>25.23</td>\n",
              "      <td>31.62</td>\n",
              "      <td>64.08</td>\n",
              "      <td>4.30</td>\n",
              "      <td>139.25</td>\n",
              "      <td>1.02</td>\n",
              "      <td>5.79</td>\n",
              "      <td>253.80</td>\n",
              "      <td>2.14</td>\n",
              "      <td>2.75</td>\n",
              "      <td>510.91</td>\n",
              "      <td>584549.71</td>\n",
              "      <td>5936.01</td>\n",
              "      <td>0.61</td>\n",
              "      <td>16.46</td>\n",
              "      <td>39.41</td>\n",
              "      <td>3.40</td>\n",
              "      <td>NaN</td>\n",
              "      <td>0.04</td>\n",
              "      <td>NaN</td>\n",
              "      <td>11.28</td>\n",
              "      <td>107.47</td>\n",
              "      <td>2.80</td>\n",
              "      <td>5.88</td>\n",
              "      <td>NaN</td>\n",
              "      <td>NaN</td>\n",
              "      <td>NaN</td>\n",
              "      <td>2.93</td>\n",
              "      <td>0.04</td>\n",
              "      <td>0.95</td>\n",
              "      <td>0.02</td>\n",
              "    </tr>\n",
              "    <tr>\n",
              "      <th>6</th>\n",
              "      <td>Indonesia</td>\n",
              "      <td>1996</td>\n",
              "      <td>-4.01</td>\n",
              "      <td>NaN</td>\n",
              "      <td>NaN</td>\n",
              "      <td>63.61</td>\n",
              "      <td>9.37</td>\n",
              "      <td>27.02</td>\n",
              "      <td>0.11</td>\n",
              "      <td>NaN</td>\n",
              "      <td>NaN</td>\n",
              "      <td>NaN</td>\n",
              "      <td>NaN</td>\n",
              "      <td>162.34</td>\n",
              "      <td>1.12</td>\n",
              "      <td>5.65</td>\n",
              "      <td>270.35</td>\n",
              "      <td>2.18</td>\n",
              "      <td>2.86</td>\n",
              "      <td>1.91</td>\n",
              "      <td>NaN</td>\n",
              "      <td>NaN</td>\n",
              "      <td>NaN</td>\n",
              "      <td>NaN</td>\n",
              "      <td>1.59</td>\n",
              "      <td>24.67</td>\n",
              "      <td>54.47</td>\n",
              "      <td>1.93</td>\n",
              "      <td>17.35</td>\n",
              "      <td>0.68</td>\n",
              "      <td>9294.00</td>\n",
              "      <td>-1.16</td>\n",
              "      <td>NaN</td>\n",
              "      <td>NaN</td>\n",
              "      <td>49.74</td>\n",
              "      <td>NaN</td>\n",
              "      <td>NaN</td>\n",
              "      <td>11.67</td>\n",
              "      <td>NaN</td>\n",
              "      <td>NaN</td>\n",
              "      <td>NaN</td>\n",
              "      <td>NaN</td>\n",
              "      <td>65.36</td>\n",
              "      <td>NaN</td>\n",
              "      <td>253.22</td>\n",
              "      <td>4.30</td>\n",
              "      <td>81.53</td>\n",
              "      <td>2.16</td>\n",
              "      <td>NaN</td>\n",
              "      <td>-1.86</td>\n",
              "      <td>36.75</td>\n",
              "      <td>2342.30</td>\n",
              "      <td>1.61</td>\n",
              "      <td>NaN</td>\n",
              "      <td>NaN</td>\n",
              "      <td>5.38</td>\n",
              "      <td>104.61</td>\n",
              "      <td>NaN</td>\n",
              "      <td>NaN</td>\n",
              "      <td>NaN</td>\n",
              "      <td>31.10</td>\n",
              "      <td>64.52</td>\n",
              "      <td>4.39</td>\n",
              "      <td>146.69</td>\n",
              "      <td>1.05</td>\n",
              "      <td>5.93</td>\n",
              "      <td>266.81</td>\n",
              "      <td>2.22</td>\n",
              "      <td>2.82</td>\n",
              "      <td>545.25</td>\n",
              "      <td>630249.98</td>\n",
              "      <td>6305.09</td>\n",
              "      <td>0.78</td>\n",
              "      <td>15.53</td>\n",
              "      <td>38.49</td>\n",
              "      <td>3.50</td>\n",
              "      <td>NaN</td>\n",
              "      <td>0.04</td>\n",
              "      <td>NaN</td>\n",
              "      <td>NaN</td>\n",
              "      <td>111.36</td>\n",
              "      <td>2.77</td>\n",
              "      <td>7.30</td>\n",
              "      <td>NaN</td>\n",
              "      <td>NaN</td>\n",
              "      <td>NaN</td>\n",
              "      <td>2.97</td>\n",
              "      <td>0.05</td>\n",
              "      <td>0.96</td>\n",
              "      <td>0.03</td>\n",
              "    </tr>\n",
              "    <tr>\n",
              "      <th>7</th>\n",
              "      <td>Indonesia</td>\n",
              "      <td>1997</td>\n",
              "      <td>-0.77</td>\n",
              "      <td>NaN</td>\n",
              "      <td>NaN</td>\n",
              "      <td>61.94</td>\n",
              "      <td>9.80</td>\n",
              "      <td>28.26</td>\n",
              "      <td>0.02</td>\n",
              "      <td>NaN</td>\n",
              "      <td>NaN</td>\n",
              "      <td>NaN</td>\n",
              "      <td>NaN</td>\n",
              "      <td>175.96</td>\n",
              "      <td>1.19</td>\n",
              "      <td>5.46</td>\n",
              "      <td>275.35</td>\n",
              "      <td>2.19</td>\n",
              "      <td>2.94</td>\n",
              "      <td>3.92</td>\n",
              "      <td>NaN</td>\n",
              "      <td>NaN</td>\n",
              "      <td>NaN</td>\n",
              "      <td>NaN</td>\n",
              "      <td>1.50</td>\n",
              "      <td>25.44</td>\n",
              "      <td>52.53</td>\n",
              "      <td>1.97</td>\n",
              "      <td>18.56</td>\n",
              "      <td>0.69</td>\n",
              "      <td>9414.41</td>\n",
              "      <td>0.63</td>\n",
              "      <td>NaN</td>\n",
              "      <td>NaN</td>\n",
              "      <td>49.73</td>\n",
              "      <td>NaN</td>\n",
              "      <td>NaN</td>\n",
              "      <td>13.14</td>\n",
              "      <td>NaN</td>\n",
              "      <td>NaN</td>\n",
              "      <td>NaN</td>\n",
              "      <td>0.00</td>\n",
              "      <td>65.73</td>\n",
              "      <td>NaN</td>\n",
              "      <td>259.03</td>\n",
              "      <td>5.37</td>\n",
              "      <td>83.05</td>\n",
              "      <td>2.23</td>\n",
              "      <td>NaN</td>\n",
              "      <td>-4.33</td>\n",
              "      <td>25.49</td>\n",
              "      <td>2909.38</td>\n",
              "      <td>1.69</td>\n",
              "      <td>NaN</td>\n",
              "      <td>NaN</td>\n",
              "      <td>4.25</td>\n",
              "      <td>106.14</td>\n",
              "      <td>NaN</td>\n",
              "      <td>NaN</td>\n",
              "      <td>NaN</td>\n",
              "      <td>30.59</td>\n",
              "      <td>64.93</td>\n",
              "      <td>4.48</td>\n",
              "      <td>161.74</td>\n",
              "      <td>1.15</td>\n",
              "      <td>5.63</td>\n",
              "      <td>278.38</td>\n",
              "      <td>2.28</td>\n",
              "      <td>2.83</td>\n",
              "      <td>603.39</td>\n",
              "      <td>659870.93</td>\n",
              "      <td>6506.22</td>\n",
              "      <td>1.65</td>\n",
              "      <td>10.34</td>\n",
              "      <td>37.96</td>\n",
              "      <td>3.51</td>\n",
              "      <td>NaN</td>\n",
              "      <td>0.04</td>\n",
              "      <td>NaN</td>\n",
              "      <td>NaN</td>\n",
              "      <td>115.10</td>\n",
              "      <td>2.74</td>\n",
              "      <td>7.44</td>\n",
              "      <td>NaN</td>\n",
              "      <td>NaN</td>\n",
              "      <td>NaN</td>\n",
              "      <td>3.03</td>\n",
              "      <td>0.06</td>\n",
              "      <td>0.97</td>\n",
              "      <td>0.03</td>\n",
              "    </tr>\n",
              "    <tr>\n",
              "      <th>8</th>\n",
              "      <td>Indonesia</td>\n",
              "      <td>1998</td>\n",
              "      <td>-0.10</td>\n",
              "      <td>NaN</td>\n",
              "      <td>NaN</td>\n",
              "      <td>66.38</td>\n",
              "      <td>13.75</td>\n",
              "      <td>19.87</td>\n",
              "      <td>0.28</td>\n",
              "      <td>NaN</td>\n",
              "      <td>NaN</td>\n",
              "      <td>NaN</td>\n",
              "      <td>NaN</td>\n",
              "      <td>130.84</td>\n",
              "      <td>0.87</td>\n",
              "      <td>6.38</td>\n",
              "      <td>209.93</td>\n",
              "      <td>1.65</td>\n",
              "      <td>3.35</td>\n",
              "      <td>6.46</td>\n",
              "      <td>NaN</td>\n",
              "      <td>NaN</td>\n",
              "      <td>NaN</td>\n",
              "      <td>NaN</td>\n",
              "      <td>1.67</td>\n",
              "      <td>24.56</td>\n",
              "      <td>53.12</td>\n",
              "      <td>2.12</td>\n",
              "      <td>18.53</td>\n",
              "      <td>0.67</td>\n",
              "      <td>8361.44</td>\n",
              "      <td>-15.62</td>\n",
              "      <td>NaN</td>\n",
              "      <td>NaN</td>\n",
              "      <td>49.72</td>\n",
              "      <td>NaN</td>\n",
              "      <td>NaN</td>\n",
              "      <td>23.02</td>\n",
              "      <td>NaN</td>\n",
              "      <td>NaN</td>\n",
              "      <td>NaN</td>\n",
              "      <td>0.00</td>\n",
              "      <td>65.96</td>\n",
              "      <td>NaN</td>\n",
              "      <td>265.25</td>\n",
              "      <td>5.79</td>\n",
              "      <td>84.73</td>\n",
              "      <td>2.28</td>\n",
              "      <td>NaN</td>\n",
              "      <td>-11.36</td>\n",
              "      <td>28.00</td>\n",
              "      <td>10013.62</td>\n",
              "      <td>1.51</td>\n",
              "      <td>NaN</td>\n",
              "      <td>NaN</td>\n",
              "      <td>2.91</td>\n",
              "      <td>107.66</td>\n",
              "      <td>NaN</td>\n",
              "      <td>NaN</td>\n",
              "      <td>NaN</td>\n",
              "      <td>30.09</td>\n",
              "      <td>65.33</td>\n",
              "      <td>4.58</td>\n",
              "      <td>166.08</td>\n",
              "      <td>1.16</td>\n",
              "      <td>4.76</td>\n",
              "      <td>267.69</td>\n",
              "      <td>2.16</td>\n",
              "      <td>2.56</td>\n",
              "      <td>1045.80</td>\n",
              "      <td>573251.28</td>\n",
              "      <td>5572.54</td>\n",
              "      <td>2.69</td>\n",
              "      <td>15.77</td>\n",
              "      <td>39.34</td>\n",
              "      <td>3.89</td>\n",
              "      <td>NaN</td>\n",
              "      <td>0.04</td>\n",
              "      <td>NaN</td>\n",
              "      <td>NaN</td>\n",
              "      <td>112.59</td>\n",
              "      <td>2.65</td>\n",
              "      <td>8.19</td>\n",
              "      <td>NaN</td>\n",
              "      <td>NaN</td>\n",
              "      <td>NaN</td>\n",
              "      <td>2.67</td>\n",
              "      <td>0.06</td>\n",
              "      <td>0.85</td>\n",
              "      <td>0.02</td>\n",
              "    </tr>\n",
              "    <tr>\n",
              "      <th>9</th>\n",
              "      <td>Indonesia</td>\n",
              "      <td>1999</td>\n",
              "      <td>2.56</td>\n",
              "      <td>NaN</td>\n",
              "      <td>NaN</td>\n",
              "      <td>67.59</td>\n",
              "      <td>14.61</td>\n",
              "      <td>17.80</td>\n",
              "      <td>0.04</td>\n",
              "      <td>NaN</td>\n",
              "      <td>NaN</td>\n",
              "      <td>NaN</td>\n",
              "      <td>NaN</td>\n",
              "      <td>161.75</td>\n",
              "      <td>1.06</td>\n",
              "      <td>5.20</td>\n",
              "      <td>255.42</td>\n",
              "      <td>1.98</td>\n",
              "      <td>2.78</td>\n",
              "      <td>0.77</td>\n",
              "      <td>NaN</td>\n",
              "      <td>NaN</td>\n",
              "      <td>NaN</td>\n",
              "      <td>NaN</td>\n",
              "      <td>2.18</td>\n",
              "      <td>26.92</td>\n",
              "      <td>51.80</td>\n",
              "      <td>2.11</td>\n",
              "      <td>16.99</td>\n",
              "      <td>0.69</td>\n",
              "      <td>8045.20</td>\n",
              "      <td>2.06</td>\n",
              "      <td>NaN</td>\n",
              "      <td>NaN</td>\n",
              "      <td>49.71</td>\n",
              "      <td>NaN</td>\n",
              "      <td>NaN</td>\n",
              "      <td>26.28</td>\n",
              "      <td>NaN</td>\n",
              "      <td>NaN</td>\n",
              "      <td>NaN</td>\n",
              "      <td>0.00</td>\n",
              "      <td>66.22</td>\n",
              "      <td>NaN</td>\n",
              "      <td>270.82</td>\n",
              "      <td>4.00</td>\n",
              "      <td>86.36</td>\n",
              "      <td>2.33</td>\n",
              "      <td>NaN</td>\n",
              "      <td>-28.80</td>\n",
              "      <td>19.25</td>\n",
              "      <td>7855.15</td>\n",
              "      <td>1.53</td>\n",
              "      <td>NaN</td>\n",
              "      <td>NaN</td>\n",
              "      <td>1.71</td>\n",
              "      <td>109.17</td>\n",
              "      <td>NaN</td>\n",
              "      <td>NaN</td>\n",
              "      <td>NaN</td>\n",
              "      <td>29.60</td>\n",
              "      <td>65.73</td>\n",
              "      <td>4.67</td>\n",
              "      <td>178.03</td>\n",
              "      <td>1.23</td>\n",
              "      <td>4.48</td>\n",
              "      <td>289.76</td>\n",
              "      <td>2.31</td>\n",
              "      <td>2.38</td>\n",
              "      <td>1177.31</td>\n",
              "      <td>577786.66</td>\n",
              "      <td>5538.80</td>\n",
              "      <td>0.31</td>\n",
              "      <td>14.12</td>\n",
              "      <td>37.79</td>\n",
              "      <td>3.83</td>\n",
              "      <td>NaN</td>\n",
              "      <td>0.03</td>\n",
              "      <td>NaN</td>\n",
              "      <td>NaN</td>\n",
              "      <td>117.94</td>\n",
              "      <td>2.58</td>\n",
              "      <td>7.03</td>\n",
              "      <td>16.93</td>\n",
              "      <td>41.91</td>\n",
              "      <td>41.16</td>\n",
              "      <td>2.72</td>\n",
              "      <td>0.04</td>\n",
              "      <td>0.87</td>\n",
              "      <td>0.02</td>\n",
              "    </tr>\n",
              "  </tbody>\n",
              "</table>\n",
              "</div>"
            ],
            "text/plain": [
              "measure reference_area  time_period  \\\n",
              "0            Indonesia         1990   \n",
              "1            Indonesia         1991   \n",
              "2            Indonesia         1992   \n",
              "3            Indonesia         1993   \n",
              "4            Indonesia         1994   \n",
              "5            Indonesia         1995   \n",
              "6            Indonesia         1996   \n",
              "7            Indonesia         1997   \n",
              "8            Indonesia         1998   \n",
              "9            Indonesia         1999   \n",
              "\n",
              "measure  Adjustment for pollution abatement (Total - all activities)  \\\n",
              "0                                                      NaN             \n",
              "1                                                    -1.07             \n",
              "2                                                    -0.43             \n",
              "3                                                    -0.01             \n",
              "4                                                    -0.34             \n",
              "5                                                     0.39             \n",
              "6                                                    -4.01             \n",
              "7                                                    -0.77             \n",
              "8                                                    -0.10             \n",
              "9                                                     2.56             \n",
              "\n",
              "measure  CO2 emissions from air transport per capita (Total - all activities)  \\\n",
              "0                                                      NaN                      \n",
              "1                                                      NaN                      \n",
              "2                                                      NaN                      \n",
              "3                                                      NaN                      \n",
              "4                                                      NaN                      \n",
              "5                                                      NaN                      \n",
              "6                                                      NaN                      \n",
              "7                                                      NaN                      \n",
              "8                                                      NaN                      \n",
              "9                                                      NaN                      \n",
              "\n",
              "measure  CO2 emissions from air transport per unit of GDP (Total - all activities)  \\\n",
              "0                                                      NaN                           \n",
              "1                                                      NaN                           \n",
              "2                                                      NaN                           \n",
              "3                                                      NaN                           \n",
              "4                                                      NaN                           \n",
              "5                                                      NaN                           \n",
              "6                                                      NaN                           \n",
              "7                                                      NaN                           \n",
              "8                                                      NaN                           \n",
              "9                                                      NaN                           \n",
              "\n",
              "measure  Consumption of biomass (Total - all activities)  \\\n",
              "0                                                  77.65   \n",
              "1                                                  73.73   \n",
              "2                                                  73.18   \n",
              "3                                                  71.37   \n",
              "4                                                  66.86   \n",
              "5                                                  64.51   \n",
              "6                                                  63.61   \n",
              "7                                                  61.94   \n",
              "8                                                  66.38   \n",
              "9                                                  67.59   \n",
              "\n",
              "measure  Consumption of metals (Total - all activities)  \\\n",
              "0                                                  4.25   \n",
              "1                                                  4.91   \n",
              "2                                                  6.89   \n",
              "3                                                  7.17   \n",
              "4                                                  7.26   \n",
              "5                                                  9.36   \n",
              "6                                                  9.37   \n",
              "7                                                  9.80   \n",
              "8                                                 13.75   \n",
              "9                                                 14.61   \n",
              "\n",
              "measure  Consumption of non-metallic minerals (Total - all activities)  \\\n",
              "0                                                    18.10               \n",
              "1                                                    21.36               \n",
              "2                                                    19.93               \n",
              "3                                                    21.46               \n",
              "4                                                    25.88               \n",
              "5                                                    26.14               \n",
              "6                                                    27.02               \n",
              "7                                                    28.26               \n",
              "8                                                    19.87               \n",
              "9                                                    17.80               \n",
              "\n",
              "measure  Contribution of natural capital (Total - all activities)  \\\n",
              "0                                                      NaN          \n",
              "1                                                     0.52          \n",
              "2                                                     0.05          \n",
              "3                                                     0.10          \n",
              "4                                                     0.29          \n",
              "5                                                     0.14          \n",
              "6                                                     0.11          \n",
              "7                                                     0.02          \n",
              "8                                                     0.28          \n",
              "9                                                     0.04          \n",
              "\n",
              "measure  Conversion of non-water topermanent water surface (Total - all activities)  \\\n",
              "0                                                      NaN                            \n",
              "1                                                      NaN                            \n",
              "2                                                      NaN                            \n",
              "3                                                      NaN                            \n",
              "4                                                      NaN                            \n",
              "5                                                      NaN                            \n",
              "6                                                      NaN                            \n",
              "7                                                      NaN                            \n",
              "8                                                      NaN                            \n",
              "9                                                      NaN                            \n",
              "\n",
              "measure  Conversion of permanent water to not-water surface (Total - all activities)  \\\n",
              "0                                                      NaN                             \n",
              "1                                                      NaN                             \n",
              "2                                                      NaN                             \n",
              "3                                                      NaN                             \n",
              "4                                                      NaN                             \n",
              "5                                                      NaN                             \n",
              "6                                                      NaN                             \n",
              "7                                                      NaN                             \n",
              "8                                                      NaN                             \n",
              "9                                                      NaN                             \n",
              "\n",
              "measure  Conversion of permanent water to seasonal water surface (Total - all activities)  \\\n",
              "0                                                      NaN                                  \n",
              "1                                                      NaN                                  \n",
              "2                                                      NaN                                  \n",
              "3                                                      NaN                                  \n",
              "4                                                      NaN                                  \n",
              "5                                                      NaN                                  \n",
              "6                                                      NaN                                  \n",
              "7                                                      NaN                                  \n",
              "8                                                      NaN                                  \n",
              "9                                                      NaN                                  \n",
              "\n",
              "measure  Conversion of seasonal water to permanent water surface (Total - all activities)  \\\n",
              "0                                                      NaN                                  \n",
              "1                                                      NaN                                  \n",
              "2                                                      NaN                                  \n",
              "3                                                      NaN                                  \n",
              "4                                                      NaN                                  \n",
              "5                                                      NaN                                  \n",
              "6                                                      NaN                                  \n",
              "7                                                      NaN                                  \n",
              "8                                                      NaN                                  \n",
              "9                                                      NaN                                  \n",
              "\n",
              "measure  Demand-based CO2 emissions (Total - all activities)  \\\n",
              "0                                                      NaN     \n",
              "1                                                      NaN     \n",
              "2                                                      NaN     \n",
              "3                                                      NaN     \n",
              "4                                                      NaN     \n",
              "5                                                   147.85     \n",
              "6                                                   162.34     \n",
              "7                                                   175.96     \n",
              "8                                                   130.84     \n",
              "9                                                   161.75     \n",
              "\n",
              "measure  Demand-based CO2 intensity energy-related CO2 per capita (Total - all activities)  \\\n",
              "0                                                      NaN                                   \n",
              "1                                                      NaN                                   \n",
              "2                                                      NaN                                   \n",
              "3                                                      NaN                                   \n",
              "4                                                      NaN                                   \n",
              "5                                                     1.03                                   \n",
              "6                                                     1.12                                   \n",
              "7                                                     1.19                                   \n",
              "8                                                     0.87                                   \n",
              "9                                                     1.06                                   \n",
              "\n",
              "measure  Demand-based CO2 productivity, GDP per unit of energy-related CO2 emissions (Total - all activities)  \\\n",
              "0                                                      NaN                                                      \n",
              "1                                                      NaN                                                      \n",
              "2                                                      NaN                                                      \n",
              "3                                                      NaN                                                      \n",
              "4                                                      NaN                                                      \n",
              "5                                                     5.76                                                      \n",
              "6                                                     5.65                                                      \n",
              "7                                                     5.46                                                      \n",
              "8                                                     6.38                                                      \n",
              "9                                                     5.20                                                      \n",
              "\n",
              "measure  Demand-based GHG emissions (Total - all activities)  \\\n",
              "0                                                      NaN     \n",
              "1                                                      NaN     \n",
              "2                                                      NaN     \n",
              "3                                                      NaN     \n",
              "4                                                      NaN     \n",
              "5                                                   254.42     \n",
              "6                                                   270.35     \n",
              "7                                                   275.35     \n",
              "8                                                   209.93     \n",
              "9                                                   255.42     \n",
              "\n",
              "measure  Demand-based GHG intensity energy-related GHG per capita (Total - all activities)  \\\n",
              "0                                                      NaN                                   \n",
              "1                                                      NaN                                   \n",
              "2                                                      NaN                                   \n",
              "3                                                      NaN                                   \n",
              "4                                                      NaN                                   \n",
              "5                                                     2.09                                   \n",
              "6                                                     2.18                                   \n",
              "7                                                     2.19                                   \n",
              "8                                                     1.65                                   \n",
              "9                                                     1.98                                   \n",
              "\n",
              "measure  Demand-based GHG productivity, GDP per unit of energy-related GHG emissions (Total - all activities)  \\\n",
              "0                                                      NaN                                                      \n",
              "1                                                      NaN                                                      \n",
              "2                                                      NaN                                                      \n",
              "3                                                      NaN                                                      \n",
              "4                                                      NaN                                                      \n",
              "5                                                     2.82                                                      \n",
              "6                                                     2.86                                                      \n",
              "7                                                     2.94                                                      \n",
              "8                                                     3.35                                                      \n",
              "9                                                     2.78                                                      \n",
              "\n",
              "measure  Development of environment-related technologies (Total - all activities)  \\\n",
              "0                                                     0.00                          \n",
              "1                                                     0.00                          \n",
              "2                                                     5.89                          \n",
              "3                                                     3.29                          \n",
              "4                                                     6.85                          \n",
              "5                                                     1.51                          \n",
              "6                                                     1.91                          \n",
              "7                                                     3.92                          \n",
              "8                                                     6.46                          \n",
              "9                                                     0.77                          \n",
              "\n",
              "measure  Diesel end-user price (Total - all activities)  \\\n",
              "0                                                   NaN   \n",
              "1                                                   NaN   \n",
              "2                                                   NaN   \n",
              "3                                                   NaN   \n",
              "4                                                   NaN   \n",
              "5                                                   NaN   \n",
              "6                                                   NaN   \n",
              "7                                                   NaN   \n",
              "8                                                   NaN   \n",
              "9                                                   NaN   \n",
              "\n",
              "measure  Emissions priced above EUR 120 per tonne of CO2 (Total - all activities)  \\\n",
              "0                                                      NaN                          \n",
              "1                                                      NaN                          \n",
              "2                                                      NaN                          \n",
              "3                                                      NaN                          \n",
              "4                                                      NaN                          \n",
              "5                                                      NaN                          \n",
              "6                                                      NaN                          \n",
              "7                                                      NaN                          \n",
              "8                                                      NaN                          \n",
              "9                                                      NaN                          \n",
              "\n",
              "measure  Emissions priced above EUR 30 per tonne of CO2 (Total - all activities)  \\\n",
              "0                                                      NaN                         \n",
              "1                                                      NaN                         \n",
              "2                                                      NaN                         \n",
              "3                                                      NaN                         \n",
              "4                                                      NaN                         \n",
              "5                                                      NaN                         \n",
              "6                                                      NaN                         \n",
              "7                                                      NaN                         \n",
              "8                                                      NaN                         \n",
              "9                                                      NaN                         \n",
              "\n",
              "measure  Emissions priced above EUR 60 per tonne of CO2 (Total - all activities)  \\\n",
              "0                                                      NaN                         \n",
              "1                                                      NaN                         \n",
              "2                                                      NaN                         \n",
              "3                                                      NaN                         \n",
              "4                                                      NaN                         \n",
              "5                                                      NaN                         \n",
              "6                                                      NaN                         \n",
              "7                                                      NaN                         \n",
              "8                                                      NaN                         \n",
              "9                                                      NaN                         \n",
              "\n",
              "measure  Energy consumption (Agriculture, forestry and fishing)  \\\n",
              "0                                                     1.25        \n",
              "1                                                     1.18        \n",
              "2                                                     1.44        \n",
              "3                                                     1.60        \n",
              "4                                                     1.59        \n",
              "5                                                     1.58        \n",
              "6                                                     1.59        \n",
              "7                                                     1.50        \n",
              "8                                                     1.67        \n",
              "9                                                     2.18        \n",
              "\n",
              "measure  Energy consumption (Industry (except construction))  \\\n",
              "0                                                    22.03     \n",
              "1                                                    21.52     \n",
              "2                                                    21.72     \n",
              "3                                                    22.20     \n",
              "4                                                    23.74     \n",
              "5                                                    25.77     \n",
              "6                                                    24.67     \n",
              "7                                                    25.44     \n",
              "8                                                    24.56     \n",
              "9                                                    26.92     \n",
              "\n",
              "measure  Energy consumption (Other)  Energy consumption (Services)  \\\n",
              "0                             62.18                           1.01   \n",
              "1                             61.62                           1.15   \n",
              "2                             60.69                           1.32   \n",
              "3                             59.54                           1.53   \n",
              "4                             56.92                           1.62   \n",
              "5                             54.29                           1.73   \n",
              "6                             54.47                           1.93   \n",
              "7                             52.53                           1.97   \n",
              "8                             53.12                           2.12   \n",
              "9                             51.80                           2.11   \n",
              "\n",
              "measure  Energy consumption (Transportation and storage)  \\\n",
              "0                                                  13.53   \n",
              "1                                                  14.53   \n",
              "2                                                  14.83   \n",
              "3                                                  15.14   \n",
              "4                                                  16.13   \n",
              "5                                                  16.63   \n",
              "6                                                  17.35   \n",
              "7                                                  18.56   \n",
              "8                                                  18.53   \n",
              "9                                                  16.99   \n",
              "\n",
              "measure  Energy intensity per capita (Total - all activities)  \\\n",
              "0                                                     0.54      \n",
              "1                                                     0.56      \n",
              "2                                                     0.57      \n",
              "3                                                     0.62      \n",
              "4                                                     0.61      \n",
              "5                                                     0.66      \n",
              "6                                                     0.68      \n",
              "7                                                     0.69      \n",
              "8                                                     0.67      \n",
              "9                                                     0.69      \n",
              "\n",
              "measure  Energy productivity, GDP per unit of TES (Total - all activities)  \\\n",
              "0                                                  8402.64                   \n",
              "1                                                  8568.99                   \n",
              "2                                                  8759.14                   \n",
              "3                                                  8476.85                   \n",
              "4                                                  9103.86                   \n",
              "5                                                  8932.67                   \n",
              "6                                                  9294.00                   \n",
              "7                                                  9414.41                   \n",
              "8                                                  8361.44                   \n",
              "9                                                  8045.20                   \n",
              "\n",
              "measure  Environmentally adjusted multifactor productivity growth (Total - all activities)  \\\n",
              "0                                                      NaN                                   \n",
              "1                                                     4.98                                   \n",
              "2                                                     3.65                                   \n",
              "3                                                     4.73                                   \n",
              "4                                                     3.68                                   \n",
              "5                                                     6.96                                   \n",
              "6                                                    -1.16                                   \n",
              "7                                                     0.63                                   \n",
              "8                                                   -15.62                                   \n",
              "9                                                     2.06                                   \n",
              "\n",
              "measure  Feed-in tariffs for solar photovoltaic (Total - all activities)  \\\n",
              "0                                                      NaN                 \n",
              "1                                                      NaN                 \n",
              "2                                                      NaN                 \n",
              "3                                                      NaN                 \n",
              "4                                                      NaN                 \n",
              "5                                                      NaN                 \n",
              "6                                                      NaN                 \n",
              "7                                                      NaN                 \n",
              "8                                                      NaN                 \n",
              "9                                                      NaN                 \n",
              "\n",
              "measure  Feed-in tariffs for wind electricity generation (Total - all activities)  \\\n",
              "0                                                      NaN                          \n",
              "1                                                      NaN                          \n",
              "2                                                      NaN                          \n",
              "3                                                      NaN                          \n",
              "4                                                      NaN                          \n",
              "5                                                      NaN                          \n",
              "6                                                      NaN                          \n",
              "7                                                      NaN                          \n",
              "8                                                      NaN                          \n",
              "9                                                      NaN                          \n",
              "\n",
              "measure  Female population (Total - all activities)  \\\n",
              "0                                             49.83   \n",
              "1                                             49.81   \n",
              "2                                             49.80   \n",
              "3                                             49.78   \n",
              "4                                             49.77   \n",
              "5                                             49.76   \n",
              "6                                             49.74   \n",
              "7                                             49.73   \n",
              "8                                             49.72   \n",
              "9                                             49.71   \n",
              "\n",
              "measure  Forest resource stocks (Total - all activities)  \\\n",
              "0                                               14749.50   \n",
              "1                                                    NaN   \n",
              "2                                                    NaN   \n",
              "3                                                    NaN   \n",
              "4                                                    NaN   \n",
              "5                                                    NaN   \n",
              "6                                                    NaN   \n",
              "7                                                    NaN   \n",
              "8                                                    NaN   \n",
              "9                                                    NaN   \n",
              "\n",
              "measure  Forests with long-term management plans (Total - all activities)  \\\n",
              "0                                                     1.62                  \n",
              "1                                                      NaN                  \n",
              "2                                                      NaN                  \n",
              "3                                                      NaN                  \n",
              "4                                                      NaN                  \n",
              "5                                                      NaN                  \n",
              "6                                                      NaN                  \n",
              "7                                                      NaN                  \n",
              "8                                                      NaN                  \n",
              "9                                                      NaN                  \n",
              "\n",
              "measure  GDP deflator (Total - all activities)  \\\n",
              "0                                         6.51   \n",
              "1                                         7.09   \n",
              "2                                         7.61   \n",
              "3                                         9.07   \n",
              "4                                         9.77   \n",
              "5                                        10.74   \n",
              "6                                        11.67   \n",
              "7                                        13.14   \n",
              "8                                        23.02   \n",
              "9                                        26.28   \n",
              "\n",
              "measure  Industry electricity price (Total - all activities)  \\\n",
              "0                                                      NaN     \n",
              "1                                                      NaN     \n",
              "2                                                      NaN     \n",
              "3                                                      NaN     \n",
              "4                                                      NaN     \n",
              "5                                                      NaN     \n",
              "6                                                      NaN     \n",
              "7                                                      NaN     \n",
              "8                                                      NaN     \n",
              "9                                                      NaN     \n",
              "\n",
              "measure  Intact forest landscape (Total - all activities)  \\\n",
              "0                                                     NaN   \n",
              "1                                                     NaN   \n",
              "2                                                     NaN   \n",
              "3                                                     NaN   \n",
              "4                                                     NaN   \n",
              "5                                                     NaN   \n",
              "6                                                     NaN   \n",
              "7                                                     NaN   \n",
              "8                                                     NaN   \n",
              "9                                                     NaN   \n",
              "\n",
              "measure  Intact forest landscape loss (Total - all activities)  \\\n",
              "0                                                      NaN       \n",
              "1                                                      NaN       \n",
              "2                                                      NaN       \n",
              "3                                                      NaN       \n",
              "4                                                      NaN       \n",
              "5                                                      NaN       \n",
              "6                                                      NaN       \n",
              "7                                                      NaN       \n",
              "8                                                      NaN       \n",
              "9                                                      NaN       \n",
              "\n",
              "measure  Labour tax revenue (Total - all activities)  \\\n",
              "0                                                NaN   \n",
              "1                                                NaN   \n",
              "2                                                NaN   \n",
              "3                                                NaN   \n",
              "4                                                NaN   \n",
              "5                                                NaN   \n",
              "6                                                NaN   \n",
              "7                                               0.00   \n",
              "8                                               0.00   \n",
              "9                                               0.00   \n",
              "\n",
              "measure  Life expectancy at birth (Total - all activities)  \\\n",
              "0                                                    63.18   \n",
              "1                                                    63.54   \n",
              "2                                                    64.13   \n",
              "3                                                    64.60   \n",
              "4                                                    64.86   \n",
              "5                                                    65.24   \n",
              "6                                                    65.36   \n",
              "7                                                    65.73   \n",
              "8                                                    65.96   \n",
              "9                                                    66.22   \n",
              "\n",
              "measure  Marine protected area (Total - all activities)  \\\n",
              "0                                                  0.86   \n",
              "1                                                   NaN   \n",
              "2                                                   NaN   \n",
              "3                                                   NaN   \n",
              "4                                                   NaN   \n",
              "5                                                  0.89   \n",
              "6                                                   NaN   \n",
              "7                                                   NaN   \n",
              "8                                                   NaN   \n",
              "9                                                   NaN   \n",
              "\n",
              "measure  Mortality from exposure to ambient PM2.5 (Total - all activities)  \\\n",
              "0                                                   212.71                   \n",
              "1                                                   221.23                   \n",
              "2                                                   229.63                   \n",
              "3                                                   237.66                   \n",
              "4                                                   243.86                   \n",
              "5                                                   248.61                   \n",
              "6                                                   253.22                   \n",
              "7                                                   259.03                   \n",
              "8                                                   265.25                   \n",
              "9                                                   270.82                   \n",
              "\n",
              "measure  Mortality from exposure to ambient ozone (Total - all activities)  \\\n",
              "0                                                     2.22                   \n",
              "1                                                     2.44                   \n",
              "2                                                     2.55                   \n",
              "3                                                     3.82                   \n",
              "4                                                     3.62                   \n",
              "5                                                     3.45                   \n",
              "6                                                     4.30                   \n",
              "7                                                     5.37                   \n",
              "8                                                     5.79                   \n",
              "9                                                     4.00                   \n",
              "\n",
              "measure  Mortality from exposure to lead (Total - all activities)  \\\n",
              "0                                                    74.49          \n",
              "1                                                    75.64          \n",
              "2                                                    77.00          \n",
              "3                                                    78.31          \n",
              "4                                                    79.34          \n",
              "5                                                    80.32          \n",
              "6                                                    81.53          \n",
              "7                                                    83.05          \n",
              "8                                                    84.73          \n",
              "9                                                    86.36          \n",
              "\n",
              "measure  Mortality from exposure to residential radon (Total - all activities)  \\\n",
              "0                                                     1.82                       \n",
              "1                                                     1.87                       \n",
              "2                                                     1.93                       \n",
              "3                                                     1.99                       \n",
              "4                                                     2.05                       \n",
              "5                                                     2.10                       \n",
              "6                                                     2.16                       \n",
              "7                                                     2.23                       \n",
              "8                                                     2.28                       \n",
              "9                                                     2.33                       \n",
              "\n",
              "measure  Naturally regenerating forests (Total - all activities)  \\\n",
              "0                                                    99.88         \n",
              "1                                                      NaN         \n",
              "2                                                      NaN         \n",
              "3                                                      NaN         \n",
              "4                                                      NaN         \n",
              "5                                                      NaN         \n",
              "6                                                      NaN         \n",
              "7                                                      NaN         \n",
              "8                                                      NaN         \n",
              "9                                                      NaN         \n",
              "\n",
              "measure  Net migration (Total - all activities)  \\\n",
              "0                                         11.54   \n",
              "1                                          3.10   \n",
              "2                                         -2.61   \n",
              "3                                         -3.47   \n",
              "4                                         -2.58   \n",
              "5                                         -1.65   \n",
              "6                                         -1.86   \n",
              "7                                         -4.33   \n",
              "8                                        -11.36   \n",
              "9                                        -28.80   \n",
              "\n",
              "measure  Nitrogen balance (Total - all activities)  \\\n",
              "0                                            30.88   \n",
              "1                                            33.07   \n",
              "2                                            35.58   \n",
              "3                                            29.20   \n",
              "4                                            31.26   \n",
              "5                                            32.34   \n",
              "6                                            36.75   \n",
              "7                                            25.49   \n",
              "8                                            28.00   \n",
              "9                                            19.25   \n",
              "\n",
              "measure  Nominal exchange rate (Total - all activities)  \\\n",
              "0                                               1842.81   \n",
              "1                                               1950.32   \n",
              "2                                               2029.92   \n",
              "3                                               2087.10   \n",
              "4                                               2160.75   \n",
              "5                                               2248.61   \n",
              "6                                               2342.30   \n",
              "7                                               2909.38   \n",
              "8                                              10013.62   \n",
              "9                                               7855.15   \n",
              "\n",
              "measure  Non-energy material productivity, GDP per unit of DMC (Total - all activities)  \\\n",
              "0                                                     1.47                                \n",
              "1                                                     1.48                                \n",
              "2                                                     1.48                                \n",
              "3                                                     1.54                                \n",
              "4                                                     1.53                                \n",
              "5                                                     1.54                                \n",
              "6                                                     1.61                                \n",
              "7                                                     1.69                                \n",
              "8                                                     1.51                                \n",
              "9                                                     1.53                                \n",
              "\n",
              "measure  Permanent surface water (Total - all activities)  \\\n",
              "0                                                     NaN   \n",
              "1                                                     NaN   \n",
              "2                                                     NaN   \n",
              "3                                                     NaN   \n",
              "4                                                     NaN   \n",
              "5                                                     NaN   \n",
              "6                                                     NaN   \n",
              "7                                                     NaN   \n",
              "8                                                     NaN   \n",
              "9                                                     NaN   \n",
              "\n",
              "measure  Petrol end-user price (Total - all activities)  \\\n",
              "0                                                   NaN   \n",
              "1                                                   NaN   \n",
              "2                                                   NaN   \n",
              "3                                                   NaN   \n",
              "4                                                   NaN   \n",
              "5                                                   NaN   \n",
              "6                                                   NaN   \n",
              "7                                                   NaN   \n",
              "8                                                   NaN   \n",
              "9                                                   NaN   \n",
              "\n",
              "measure  Phosphorus balance (Total - all activities)  \\\n",
              "0                                               6.52   \n",
              "1                                               7.67   \n",
              "2                                               7.86   \n",
              "3                                               7.04   \n",
              "4                                               7.45   \n",
              "5                                               5.69   \n",
              "6                                               5.38   \n",
              "7                                               4.25   \n",
              "8                                               2.91   \n",
              "9                                               1.71   \n",
              "\n",
              "measure  Population density (Total - all activities)  \\\n",
              "0                                              94.93   \n",
              "1                                              96.60   \n",
              "2                                              98.25   \n",
              "3                                              99.87   \n",
              "4                                             101.48   \n",
              "5                                             103.06   \n",
              "6                                             104.61   \n",
              "7                                             106.14   \n",
              "8                                             107.66   \n",
              "9                                             109.17   \n",
              "\n",
              "measure  Population exposed to more than 10 micrograms/m3 (Total - all activities)  \\\n",
              "0                                                    99.66                           \n",
              "1                                                      NaN                           \n",
              "2                                                      NaN                           \n",
              "3                                                      NaN                           \n",
              "4                                                      NaN                           \n",
              "5                                                    99.38                           \n",
              "6                                                      NaN                           \n",
              "7                                                      NaN                           \n",
              "8                                                      NaN                           \n",
              "9                                                      NaN                           \n",
              "\n",
              "measure  Population exposed to more than 35 micrograms/m3 (Total - all activities)  \\\n",
              "0                                                    17.40                           \n",
              "1                                                      NaN                           \n",
              "2                                                      NaN                           \n",
              "3                                                      NaN                           \n",
              "4                                                      NaN                           \n",
              "5                                                    12.59                           \n",
              "6                                                      NaN                           \n",
              "7                                                      NaN                           \n",
              "8                                                      NaN                           \n",
              "9                                                      NaN                           \n",
              "\n",
              "measure  Population exposure to PM2.5 (Total - all activities)  \\\n",
              "0                                                    26.84       \n",
              "1                                                      NaN       \n",
              "2                                                      NaN       \n",
              "3                                                      NaN       \n",
              "4                                                      NaN       \n",
              "5                                                    25.23       \n",
              "6                                                      NaN       \n",
              "7                                                      NaN       \n",
              "8                                                      NaN       \n",
              "9                                                      NaN       \n",
              "\n",
              "measure  Population, ages 0-14 (Total - all activities)  \\\n",
              "0                                                 34.37   \n",
              "1                                                 33.83   \n",
              "2                                                 33.28   \n",
              "3                                                 32.72   \n",
              "4                                                 32.17   \n",
              "5                                                 31.62   \n",
              "6                                                 31.10   \n",
              "7                                                 30.59   \n",
              "8                                                 30.09   \n",
              "9                                                 29.60   \n",
              "\n",
              "measure  Population, ages 15-64 (Total - all activities)  \\\n",
              "0                                                  61.75   \n",
              "1                                                  62.22   \n",
              "2                                                  62.69   \n",
              "3                                                  63.16   \n",
              "4                                                  63.63   \n",
              "5                                                  64.08   \n",
              "6                                                  64.52   \n",
              "7                                                  64.93   \n",
              "8                                                  65.33   \n",
              "9                                                  65.73   \n",
              "\n",
              "measure  Population, ages 65 and above (Total - all activities)  \\\n",
              "0                                                     3.88        \n",
              "1                                                     3.95        \n",
              "2                                                     4.03        \n",
              "3                                                     4.11        \n",
              "4                                                     4.20        \n",
              "5                                                     4.30        \n",
              "6                                                     4.39        \n",
              "7                                                     4.48        \n",
              "8                                                     4.58        \n",
              "9                                                     4.67        \n",
              "\n",
              "measure  Production-based CO2 emissions (Total - all activities)  \\\n",
              "0                                                    91.26         \n",
              "1                                                    98.60         \n",
              "2                                                   103.91         \n",
              "3                                                   112.96         \n",
              "4                                                   121.76         \n",
              "5                                                   139.25         \n",
              "6                                                   146.69         \n",
              "7                                                   161.74         \n",
              "8                                                   166.08         \n",
              "9                                                   178.03         \n",
              "\n",
              "measure  Production-based CO2 intensity, energy-related CO2 per capita (Total - all activities)  \\\n",
              "0                                                      NaN                                        \n",
              "1                                                      NaN                                        \n",
              "2                                                      NaN                                        \n",
              "3                                                      NaN                                        \n",
              "4                                                      NaN                                        \n",
              "5                                                     1.02                                        \n",
              "6                                                     1.05                                        \n",
              "7                                                     1.15                                        \n",
              "8                                                     1.16                                        \n",
              "9                                                     1.23                                        \n",
              "\n",
              "measure  Production-based CO2 productivity, GDP per unit of energy-related CO2 emissions (Total - all activities)  \\\n",
              "0                                                      NaN                                                          \n",
              "1                                                      NaN                                                          \n",
              "2                                                      NaN                                                          \n",
              "3                                                      NaN                                                          \n",
              "4                                                      NaN                                                          \n",
              "5                                                     5.79                                                          \n",
              "6                                                     5.93                                                          \n",
              "7                                                     5.63                                                          \n",
              "8                                                     4.76                                                          \n",
              "9                                                     4.48                                                          \n",
              "\n",
              "measure  Production-based GHG emissions (Total - all activities)  \\\n",
              "0                                                      NaN         \n",
              "1                                                      NaN         \n",
              "2                                                      NaN         \n",
              "3                                                      NaN         \n",
              "4                                                      NaN         \n",
              "5                                                   253.80         \n",
              "6                                                   266.81         \n",
              "7                                                   278.38         \n",
              "8                                                   267.69         \n",
              "9                                                   289.76         \n",
              "\n",
              "measure  Production-based GHG intensity, energy-related GHG per capita (Total - all activities)  \\\n",
              "0                                                      NaN                                        \n",
              "1                                                      NaN                                        \n",
              "2                                                      NaN                                        \n",
              "3                                                      NaN                                        \n",
              "4                                                      NaN                                        \n",
              "5                                                     2.14                                        \n",
              "6                                                     2.22                                        \n",
              "7                                                     2.28                                        \n",
              "8                                                     2.16                                        \n",
              "9                                                     2.31                                        \n",
              "\n",
              "measure  Production-based GHG productivity, GDP per unit of energy-related GHG emissions (Total - all activities)  \\\n",
              "0                                                      NaN                                                          \n",
              "1                                                      NaN                                                          \n",
              "2                                                      NaN                                                          \n",
              "3                                                      NaN                                                          \n",
              "4                                                      NaN                                                          \n",
              "5                                                     2.75                                                          \n",
              "6                                                     2.82                                                          \n",
              "7                                                     2.83                                                          \n",
              "8                                                     2.56                                                          \n",
              "9                                                     2.38                                                          \n",
              "\n",
              "measure  Purchasing power parity (Total - all activities)  \\\n",
              "0                                                  349.76   \n",
              "1                                                  368.45   \n",
              "2                                                  386.50   \n",
              "3                                                  449.86   \n",
              "4                                                  474.71   \n",
              "5                                                  510.91   \n",
              "6                                                  545.25   \n",
              "7                                                  603.39   \n",
              "8                                                 1045.80   \n",
              "9                                                 1177.31   \n",
              "\n",
              "measure  Real GDP (Total - all activities)  \\\n",
              "0                                414541.64   \n",
              "1                                443457.17   \n",
              "2                                472530.88   \n",
              "3                                502277.42   \n",
              "4                                540149.05   \n",
              "5                                584549.71   \n",
              "6                                630249.98   \n",
              "7                                659870.93   \n",
              "8                                573251.28   \n",
              "9                                577786.66   \n",
              "\n",
              "measure  Real GDP per capita (Total - all activities)  \\\n",
              "0                                             4569.76   \n",
              "1                                             4804.33   \n",
              "2                                             5033.48   \n",
              "3                                             5263.12   \n",
              "4                                             5570.46   \n",
              "5                                             5936.01   \n",
              "6                                             6305.09   \n",
              "7                                             6506.22   \n",
              "8                                             5572.54   \n",
              "9                                             5538.80   \n",
              "\n",
              "measure  Relative technological advantage in environment-related technologies (Total - all activities)  \\\n",
              "0                                                     0.00                                               \n",
              "1                                                     0.00                                               \n",
              "2                                                     2.28                                               \n",
              "3                                                     1.24                                               \n",
              "4                                                     2.66                                               \n",
              "5                                                     0.61                                               \n",
              "6                                                     0.78                                               \n",
              "7                                                     1.65                                               \n",
              "8                                                     2.69                                               \n",
              "9                                                     0.31                                               \n",
              "\n",
              "measure  Renewable electricity generation (Total - all activities)  \\\n",
              "0                                                    20.92           \n",
              "1                                                    20.56           \n",
              "2                                                    23.84           \n",
              "3                                                    19.78           \n",
              "4                                                    15.66           \n",
              "5                                                    16.46           \n",
              "6                                                    15.53           \n",
              "7                                                    10.34           \n",
              "8                                                    15.77           \n",
              "9                                                    14.12           \n",
              "\n",
              "measure  Renewable energy supply (Total - all activities)  \\\n",
              "0                                                   46.57   \n",
              "1                                                   45.19   \n",
              "2                                                   44.30   \n",
              "3                                                   40.93   \n",
              "4                                                   42.53   \n",
              "5                                                   39.41   \n",
              "6                                                   38.49   \n",
              "7                                                   37.96   \n",
              "8                                                   39.34   \n",
              "9                                                   37.79   \n",
              "\n",
              "measure  Renewable energy supply (excluding solid biofuels) (Total - all activities)  \\\n",
              "0                                                     2.46                             \n",
              "1                                                     2.29                             \n",
              "2                                                     2.43                             \n",
              "3                                                     2.15                             \n",
              "4                                                     3.25                             \n",
              "5                                                     3.40                             \n",
              "6                                                     3.50                             \n",
              "7                                                     3.51                             \n",
              "8                                                     3.89                             \n",
              "9                                                     3.83                             \n",
              "\n",
              "measure  Residential electricity price (Total - all activities)  \\\n",
              "0                                                      NaN        \n",
              "1                                                      NaN        \n",
              "2                                                      NaN        \n",
              "3                                                      NaN        \n",
              "4                                                      NaN        \n",
              "5                                                      NaN        \n",
              "6                                                      NaN        \n",
              "7                                                      NaN        \n",
              "8                                                      NaN        \n",
              "9                                                      NaN        \n",
              "\n",
              "measure  Sales of pesticides per unit of agricultural land (Total - all activities)  \\\n",
              "0                                                     0.05                            \n",
              "1                                                     0.08                            \n",
              "2                                                     0.02                            \n",
              "3                                                     0.04                            \n",
              "4                                                     0.04                            \n",
              "5                                                     0.04                            \n",
              "6                                                     0.04                            \n",
              "7                                                     0.04                            \n",
              "8                                                     0.04                            \n",
              "9                                                     0.03                            \n",
              "\n",
              "measure  Seasonal surface water (Total - all activities)  \\\n",
              "0                                                    NaN   \n",
              "1                                                    NaN   \n",
              "2                                                    NaN   \n",
              "3                                                    NaN   \n",
              "4                                                    NaN   \n",
              "5                                                    NaN   \n",
              "6                                                    NaN   \n",
              "7                                                    NaN   \n",
              "8                                                    NaN   \n",
              "9                                                    NaN   \n",
              "\n",
              "measure  Terrestrial protected area (Total - all activities)  \\\n",
              "0                                                    11.25     \n",
              "1                                                      NaN     \n",
              "2                                                      NaN     \n",
              "3                                                      NaN     \n",
              "4                                                      NaN     \n",
              "5                                                    11.28     \n",
              "6                                                      NaN     \n",
              "7                                                      NaN     \n",
              "8                                                      NaN     \n",
              "9                                                      NaN     \n",
              "\n",
              "measure  Total energy supply (Total - all activities)  \\\n",
              "0                                               81.02   \n",
              "1                                               84.98   \n",
              "2                                               88.59   \n",
              "3                                               97.31   \n",
              "4                                               97.44   \n",
              "5                                              107.47   \n",
              "6                                              111.36   \n",
              "7                                              115.10   \n",
              "8                                              112.59   \n",
              "9                                              117.94   \n",
              "\n",
              "measure  Total fertility rate (Total - all activities)  \\\n",
              "0                                                 3.10   \n",
              "1                                                 3.06   \n",
              "2                                                 2.94   \n",
              "3                                                 2.88   \n",
              "4                                                 2.84   \n",
              "5                                                 2.80   \n",
              "6                                                 2.77   \n",
              "7                                                 2.74   \n",
              "8                                                 2.65   \n",
              "9                                                 2.58   \n",
              "\n",
              "measure  Total freshwater abstraction per capita (Total - all activities)  \\\n",
              "0                                                     4.21                  \n",
              "1                                                      NaN                  \n",
              "2                                                      NaN                  \n",
              "3                                                      NaN                  \n",
              "4                                                      NaN                  \n",
              "5                                                     5.88                  \n",
              "6                                                     7.30                  \n",
              "7                                                     7.44                  \n",
              "8                                                     8.19                  \n",
              "9                                                     7.03                  \n",
              "\n",
              "measure  Value added (Agriculture, forestry and fishing)  \\\n",
              "0                                                    NaN   \n",
              "1                                                    NaN   \n",
              "2                                                    NaN   \n",
              "3                                                    NaN   \n",
              "4                                                    NaN   \n",
              "5                                                    NaN   \n",
              "6                                                    NaN   \n",
              "7                                                    NaN   \n",
              "8                                                    NaN   \n",
              "9                                                  16.93   \n",
              "\n",
              "measure  Value added (Industry (except construction))  Value added (Services)  \\\n",
              "0                                                 NaN                     NaN   \n",
              "1                                                 NaN                     NaN   \n",
              "2                                                 NaN                     NaN   \n",
              "3                                                 NaN                     NaN   \n",
              "4                                                 NaN                     NaN   \n",
              "5                                                 NaN                     NaN   \n",
              "6                                                 NaN                     NaN   \n",
              "7                                                 NaN                     NaN   \n",
              "8                                                 NaN                     NaN   \n",
              "9                                               41.91                   41.16   \n",
              "\n",
              "measure  Welfare costs of premature mortalities from exposure to ambient PM2.5 (Total - all activities)  \\\n",
              "0                                                     2.14                                                \n",
              "1                                                     2.22                                                \n",
              "2                                                     2.31                                                \n",
              "3                                                     2.84                                                \n",
              "4                                                     2.89                                                \n",
              "5                                                     2.93                                                \n",
              "6                                                     2.97                                                \n",
              "7                                                     3.03                                                \n",
              "8                                                     2.67                                                \n",
              "9                                                     2.72                                                \n",
              "\n",
              "measure  Welfare costs of premature mortalities from exposure to ambient ozone (Total - all activities)  \\\n",
              "0                                                     0.02                                                \n",
              "1                                                     0.02                                                \n",
              "2                                                     0.03                                                \n",
              "3                                                     0.05                                                \n",
              "4                                                     0.04                                                \n",
              "5                                                     0.04                                                \n",
              "6                                                     0.05                                                \n",
              "7                                                     0.06                                                \n",
              "8                                                     0.06                                                \n",
              "9                                                     0.04                                                \n",
              "\n",
              "measure  Welfare costs of premature mortalities from exposure to lead (Total - all activities)  \\\n",
              "0                                                     0.75                                       \n",
              "1                                                     0.76                                       \n",
              "2                                                     0.77                                       \n",
              "3                                                     0.93                                       \n",
              "4                                                     0.94                                       \n",
              "5                                                     0.95                                       \n",
              "6                                                     0.96                                       \n",
              "7                                                     0.97                                       \n",
              "8                                                     0.85                                       \n",
              "9                                                     0.87                                       \n",
              "\n",
              "measure  Welfare costs of premature mortalities from exposure to residential radon (Total - all activities)  \n",
              "0                                                     0.02                                                   \n",
              "1                                                     0.02                                                   \n",
              "2                                                     0.02                                                   \n",
              "3                                                     0.02                                                   \n",
              "4                                                     0.02                                                   \n",
              "5                                                     0.02                                                   \n",
              "6                                                     0.03                                                   \n",
              "7                                                     0.03                                                   \n",
              "8                                                     0.02                                                   \n",
              "9                                                     0.02                                                   "
            ]
          },
          "metadata": {},
          "output_type": "display_data"
        }
      ],
      "source": [
        "# Lakukan pivot table\n",
        "pvt_data_oecd_indonesia = pd.pivot_table(\n",
        "    data_oecd_indonesia,\n",
        "    index = ['reference_area', 'time_period'],\n",
        "    columns = 'measure',\n",
        "    values = 'obs_value',\n",
        ").reset_index()\n",
        "\n",
        "# Tampilkan hasilnya\n",
        "display(pvt_data_oecd_indonesia.head(10))"
      ]
    },
    {
      "cell_type": "markdown",
      "metadata": {
        "id": "aml-gJOB1g8t"
      },
      "source": [
        "## <b>C.4. <span style='color:#C8ACD6'>Missing Value</span></b>"
      ]
    },
    {
      "cell_type": "code",
      "execution_count": null,
      "metadata": {
        "id": "qlYd06I51g8t",
        "outputId": "5c3fdea4-46b8-48de-901f-94e13e78a98c"
      },
      "outputs": [
        {
          "name": "stdout",
          "output_type": "stream",
          "text": [
            "Jumlah Data : 33 Baris\n",
            "\n"
          ]
        },
        {
          "data": {
            "text/html": [
              "<style type=\"text/css\">\n",
              "#T_fbe8b_row3_col2, #T_fbe8b_row4_col2, #T_fbe8b_row9_col2, #T_fbe8b_row10_col2, #T_fbe8b_row11_col2, #T_fbe8b_row12_col2, #T_fbe8b_row21_col2, #T_fbe8b_row22_col2, #T_fbe8b_row23_col2, #T_fbe8b_row35_col2, #T_fbe8b_row36_col2, #T_fbe8b_row39_col2, #T_fbe8b_row40_col2, #T_fbe8b_row48_col2, #T_fbe8b_row53_col2, #T_fbe8b_row57_col2, #T_fbe8b_row58_col2, #T_fbe8b_row59_col2, #T_fbe8b_row78_col2, #T_fbe8b_row82_col2 {\n",
              "  background-color: red;\n",
              "}\n",
              "</style>\n",
              "<table id=\"T_fbe8b\">\n",
              "  <thead>\n",
              "    <tr>\n",
              "      <th class=\"blank level0\" >&nbsp;</th>\n",
              "      <th id=\"T_fbe8b_level0_col0\" class=\"col_heading level0 col0\" >measure</th>\n",
              "      <th id=\"T_fbe8b_level0_col1\" class=\"col_heading level0 col1\" >Jumlah Missing Value</th>\n",
              "      <th id=\"T_fbe8b_level0_col2\" class=\"col_heading level0 col2\" >Persentase NULL %</th>\n",
              "    </tr>\n",
              "  </thead>\n",
              "  <tbody>\n",
              "    <tr>\n",
              "      <th id=\"T_fbe8b_level0_row0\" class=\"row_heading level0 row0\" >0</th>\n",
              "      <td id=\"T_fbe8b_row0_col0\" class=\"data row0 col0\" >reference_area</td>\n",
              "      <td id=\"T_fbe8b_row0_col1\" class=\"data row0 col1\" >0</td>\n",
              "      <td id=\"T_fbe8b_row0_col2\" class=\"data row0 col2\" >0.00</td>\n",
              "    </tr>\n",
              "    <tr>\n",
              "      <th id=\"T_fbe8b_level0_row1\" class=\"row_heading level0 row1\" >1</th>\n",
              "      <td id=\"T_fbe8b_row1_col0\" class=\"data row1 col0\" >time_period</td>\n",
              "      <td id=\"T_fbe8b_row1_col1\" class=\"data row1 col1\" >0</td>\n",
              "      <td id=\"T_fbe8b_row1_col2\" class=\"data row1 col2\" >0.00</td>\n",
              "    </tr>\n",
              "    <tr>\n",
              "      <th id=\"T_fbe8b_level0_row2\" class=\"row_heading level0 row2\" >2</th>\n",
              "      <td id=\"T_fbe8b_row2_col0\" class=\"data row2 col0\" >Adjustment for pollution abatement (Total - all activities)</td>\n",
              "      <td id=\"T_fbe8b_row2_col1\" class=\"data row2 col1\" >11</td>\n",
              "      <td id=\"T_fbe8b_row2_col2\" class=\"data row2 col2\" >33.33</td>\n",
              "    </tr>\n",
              "    <tr>\n",
              "      <th id=\"T_fbe8b_level0_row3\" class=\"row_heading level0 row3\" >3</th>\n",
              "      <td id=\"T_fbe8b_row3_col0\" class=\"data row3 col0\" >CO2 emissions from air transport per capita (Total - all activities)</td>\n",
              "      <td id=\"T_fbe8b_row3_col1\" class=\"data row3 col1\" >23</td>\n",
              "      <td id=\"T_fbe8b_row3_col2\" class=\"data row3 col2\" >69.70</td>\n",
              "    </tr>\n",
              "    <tr>\n",
              "      <th id=\"T_fbe8b_level0_row4\" class=\"row_heading level0 row4\" >4</th>\n",
              "      <td id=\"T_fbe8b_row4_col0\" class=\"data row4 col0\" >CO2 emissions from air transport per unit of GDP (Total - all activities)</td>\n",
              "      <td id=\"T_fbe8b_row4_col1\" class=\"data row4 col1\" >24</td>\n",
              "      <td id=\"T_fbe8b_row4_col2\" class=\"data row4 col2\" >72.73</td>\n",
              "    </tr>\n",
              "    <tr>\n",
              "      <th id=\"T_fbe8b_level0_row5\" class=\"row_heading level0 row5\" >5</th>\n",
              "      <td id=\"T_fbe8b_row5_col0\" class=\"data row5 col0\" >Consumption of biomass (Total - all activities)</td>\n",
              "      <td id=\"T_fbe8b_row5_col1\" class=\"data row5 col1\" >3</td>\n",
              "      <td id=\"T_fbe8b_row5_col2\" class=\"data row5 col2\" >9.09</td>\n",
              "    </tr>\n",
              "    <tr>\n",
              "      <th id=\"T_fbe8b_level0_row6\" class=\"row_heading level0 row6\" >6</th>\n",
              "      <td id=\"T_fbe8b_row6_col0\" class=\"data row6 col0\" >Consumption of metals (Total - all activities)</td>\n",
              "      <td id=\"T_fbe8b_row6_col1\" class=\"data row6 col1\" >3</td>\n",
              "      <td id=\"T_fbe8b_row6_col2\" class=\"data row6 col2\" >9.09</td>\n",
              "    </tr>\n",
              "    <tr>\n",
              "      <th id=\"T_fbe8b_level0_row7\" class=\"row_heading level0 row7\" >7</th>\n",
              "      <td id=\"T_fbe8b_row7_col0\" class=\"data row7 col0\" >Consumption of non-metallic minerals (Total - all activities)</td>\n",
              "      <td id=\"T_fbe8b_row7_col1\" class=\"data row7 col1\" >3</td>\n",
              "      <td id=\"T_fbe8b_row7_col2\" class=\"data row7 col2\" >9.09</td>\n",
              "    </tr>\n",
              "    <tr>\n",
              "      <th id=\"T_fbe8b_level0_row8\" class=\"row_heading level0 row8\" >8</th>\n",
              "      <td id=\"T_fbe8b_row8_col0\" class=\"data row8 col0\" >Contribution of natural capital (Total - all activities)</td>\n",
              "      <td id=\"T_fbe8b_row8_col1\" class=\"data row8 col1\" >11</td>\n",
              "      <td id=\"T_fbe8b_row8_col2\" class=\"data row8 col2\" >33.33</td>\n",
              "    </tr>\n",
              "    <tr>\n",
              "      <th id=\"T_fbe8b_level0_row9\" class=\"row_heading level0 row9\" >9</th>\n",
              "      <td id=\"T_fbe8b_row9_col0\" class=\"data row9 col0\" >Conversion of non-water topermanent water surface (Total - all activities)</td>\n",
              "      <td id=\"T_fbe8b_row9_col1\" class=\"data row9 col1\" >32</td>\n",
              "      <td id=\"T_fbe8b_row9_col2\" class=\"data row9 col2\" >96.97</td>\n",
              "    </tr>\n",
              "    <tr>\n",
              "      <th id=\"T_fbe8b_level0_row10\" class=\"row_heading level0 row10\" >10</th>\n",
              "      <td id=\"T_fbe8b_row10_col0\" class=\"data row10 col0\" >Conversion of permanent water to not-water surface (Total - all activities)</td>\n",
              "      <td id=\"T_fbe8b_row10_col1\" class=\"data row10 col1\" >32</td>\n",
              "      <td id=\"T_fbe8b_row10_col2\" class=\"data row10 col2\" >96.97</td>\n",
              "    </tr>\n",
              "    <tr>\n",
              "      <th id=\"T_fbe8b_level0_row11\" class=\"row_heading level0 row11\" >11</th>\n",
              "      <td id=\"T_fbe8b_row11_col0\" class=\"data row11 col0\" >Conversion of permanent water to seasonal water surface (Total - all activities)</td>\n",
              "      <td id=\"T_fbe8b_row11_col1\" class=\"data row11 col1\" >32</td>\n",
              "      <td id=\"T_fbe8b_row11_col2\" class=\"data row11 col2\" >96.97</td>\n",
              "    </tr>\n",
              "    <tr>\n",
              "      <th id=\"T_fbe8b_level0_row12\" class=\"row_heading level0 row12\" >12</th>\n",
              "      <td id=\"T_fbe8b_row12_col0\" class=\"data row12 col0\" >Conversion of seasonal water to permanent water surface (Total - all activities)</td>\n",
              "      <td id=\"T_fbe8b_row12_col1\" class=\"data row12 col1\" >32</td>\n",
              "      <td id=\"T_fbe8b_row12_col2\" class=\"data row12 col2\" >96.97</td>\n",
              "    </tr>\n",
              "    <tr>\n",
              "      <th id=\"T_fbe8b_level0_row13\" class=\"row_heading level0 row13\" >13</th>\n",
              "      <td id=\"T_fbe8b_row13_col0\" class=\"data row13 col0\" >Demand-based CO2 emissions (Total - all activities)</td>\n",
              "      <td id=\"T_fbe8b_row13_col1\" class=\"data row13 col1\" >9</td>\n",
              "      <td id=\"T_fbe8b_row13_col2\" class=\"data row13 col2\" >27.27</td>\n",
              "    </tr>\n",
              "    <tr>\n",
              "      <th id=\"T_fbe8b_level0_row14\" class=\"row_heading level0 row14\" >14</th>\n",
              "      <td id=\"T_fbe8b_row14_col0\" class=\"data row14 col0\" >Demand-based CO2 intensity energy-related CO2 per capita (Total - all activities)</td>\n",
              "      <td id=\"T_fbe8b_row14_col1\" class=\"data row14 col1\" >9</td>\n",
              "      <td id=\"T_fbe8b_row14_col2\" class=\"data row14 col2\" >27.27</td>\n",
              "    </tr>\n",
              "    <tr>\n",
              "      <th id=\"T_fbe8b_level0_row15\" class=\"row_heading level0 row15\" >15</th>\n",
              "      <td id=\"T_fbe8b_row15_col0\" class=\"data row15 col0\" >Demand-based CO2 productivity, GDP per unit of energy-related CO2 emissions (Total - all activities)</td>\n",
              "      <td id=\"T_fbe8b_row15_col1\" class=\"data row15 col1\" >9</td>\n",
              "      <td id=\"T_fbe8b_row15_col2\" class=\"data row15 col2\" >27.27</td>\n",
              "    </tr>\n",
              "    <tr>\n",
              "      <th id=\"T_fbe8b_level0_row16\" class=\"row_heading level0 row16\" >16</th>\n",
              "      <td id=\"T_fbe8b_row16_col0\" class=\"data row16 col0\" >Demand-based GHG emissions (Total - all activities)</td>\n",
              "      <td id=\"T_fbe8b_row16_col1\" class=\"data row16 col1\" >7</td>\n",
              "      <td id=\"T_fbe8b_row16_col2\" class=\"data row16 col2\" >21.21</td>\n",
              "    </tr>\n",
              "    <tr>\n",
              "      <th id=\"T_fbe8b_level0_row17\" class=\"row_heading level0 row17\" >17</th>\n",
              "      <td id=\"T_fbe8b_row17_col0\" class=\"data row17 col0\" >Demand-based GHG intensity energy-related GHG per capita (Total - all activities)</td>\n",
              "      <td id=\"T_fbe8b_row17_col1\" class=\"data row17 col1\" >7</td>\n",
              "      <td id=\"T_fbe8b_row17_col2\" class=\"data row17 col2\" >21.21</td>\n",
              "    </tr>\n",
              "    <tr>\n",
              "      <th id=\"T_fbe8b_level0_row18\" class=\"row_heading level0 row18\" >18</th>\n",
              "      <td id=\"T_fbe8b_row18_col0\" class=\"data row18 col0\" >Demand-based GHG productivity, GDP per unit of energy-related GHG emissions (Total - all activities)</td>\n",
              "      <td id=\"T_fbe8b_row18_col1\" class=\"data row18 col1\" >7</td>\n",
              "      <td id=\"T_fbe8b_row18_col2\" class=\"data row18 col2\" >21.21</td>\n",
              "    </tr>\n",
              "    <tr>\n",
              "      <th id=\"T_fbe8b_level0_row19\" class=\"row_heading level0 row19\" >19</th>\n",
              "      <td id=\"T_fbe8b_row19_col0\" class=\"data row19 col0\" >Development of environment-related technologies (Total - all activities)</td>\n",
              "      <td id=\"T_fbe8b_row19_col1\" class=\"data row19 col1\" >3</td>\n",
              "      <td id=\"T_fbe8b_row19_col2\" class=\"data row19 col2\" >9.09</td>\n",
              "    </tr>\n",
              "    <tr>\n",
              "      <th id=\"T_fbe8b_level0_row20\" class=\"row_heading level0 row20\" >20</th>\n",
              "      <td id=\"T_fbe8b_row20_col0\" class=\"data row20 col0\" >Diesel end-user price (Total - all activities)</td>\n",
              "      <td id=\"T_fbe8b_row20_col1\" class=\"data row20 col1\" >12</td>\n",
              "      <td id=\"T_fbe8b_row20_col2\" class=\"data row20 col2\" >36.36</td>\n",
              "    </tr>\n",
              "    <tr>\n",
              "      <th id=\"T_fbe8b_level0_row21\" class=\"row_heading level0 row21\" >21</th>\n",
              "      <td id=\"T_fbe8b_row21_col0\" class=\"data row21 col0\" >Emissions priced above EUR 120 per tonne of CO2 (Total - all activities)</td>\n",
              "      <td id=\"T_fbe8b_row21_col1\" class=\"data row21 col1\" >30</td>\n",
              "      <td id=\"T_fbe8b_row21_col2\" class=\"data row21 col2\" >90.91</td>\n",
              "    </tr>\n",
              "    <tr>\n",
              "      <th id=\"T_fbe8b_level0_row22\" class=\"row_heading level0 row22\" >22</th>\n",
              "      <td id=\"T_fbe8b_row22_col0\" class=\"data row22 col0\" >Emissions priced above EUR 30 per tonne of CO2 (Total - all activities)</td>\n",
              "      <td id=\"T_fbe8b_row22_col1\" class=\"data row22 col1\" >30</td>\n",
              "      <td id=\"T_fbe8b_row22_col2\" class=\"data row22 col2\" >90.91</td>\n",
              "    </tr>\n",
              "    <tr>\n",
              "      <th id=\"T_fbe8b_level0_row23\" class=\"row_heading level0 row23\" >23</th>\n",
              "      <td id=\"T_fbe8b_row23_col0\" class=\"data row23 col0\" >Emissions priced above EUR 60 per tonne of CO2 (Total - all activities)</td>\n",
              "      <td id=\"T_fbe8b_row23_col1\" class=\"data row23 col1\" >30</td>\n",
              "      <td id=\"T_fbe8b_row23_col2\" class=\"data row23 col2\" >90.91</td>\n",
              "    </tr>\n",
              "    <tr>\n",
              "      <th id=\"T_fbe8b_level0_row24\" class=\"row_heading level0 row24\" >24</th>\n",
              "      <td id=\"T_fbe8b_row24_col0\" class=\"data row24 col0\" >Energy consumption (Agriculture, forestry and fishing)</td>\n",
              "      <td id=\"T_fbe8b_row24_col1\" class=\"data row24 col1\" >2</td>\n",
              "      <td id=\"T_fbe8b_row24_col2\" class=\"data row24 col2\" >6.06</td>\n",
              "    </tr>\n",
              "    <tr>\n",
              "      <th id=\"T_fbe8b_level0_row25\" class=\"row_heading level0 row25\" >25</th>\n",
              "      <td id=\"T_fbe8b_row25_col0\" class=\"data row25 col0\" >Energy consumption (Industry (except construction))</td>\n",
              "      <td id=\"T_fbe8b_row25_col1\" class=\"data row25 col1\" >2</td>\n",
              "      <td id=\"T_fbe8b_row25_col2\" class=\"data row25 col2\" >6.06</td>\n",
              "    </tr>\n",
              "    <tr>\n",
              "      <th id=\"T_fbe8b_level0_row26\" class=\"row_heading level0 row26\" >26</th>\n",
              "      <td id=\"T_fbe8b_row26_col0\" class=\"data row26 col0\" >Energy consumption (Other)</td>\n",
              "      <td id=\"T_fbe8b_row26_col1\" class=\"data row26 col1\" >2</td>\n",
              "      <td id=\"T_fbe8b_row26_col2\" class=\"data row26 col2\" >6.06</td>\n",
              "    </tr>\n",
              "    <tr>\n",
              "      <th id=\"T_fbe8b_level0_row27\" class=\"row_heading level0 row27\" >27</th>\n",
              "      <td id=\"T_fbe8b_row27_col0\" class=\"data row27 col0\" >Energy consumption (Services)</td>\n",
              "      <td id=\"T_fbe8b_row27_col1\" class=\"data row27 col1\" >2</td>\n",
              "      <td id=\"T_fbe8b_row27_col2\" class=\"data row27 col2\" >6.06</td>\n",
              "    </tr>\n",
              "    <tr>\n",
              "      <th id=\"T_fbe8b_level0_row28\" class=\"row_heading level0 row28\" >28</th>\n",
              "      <td id=\"T_fbe8b_row28_col0\" class=\"data row28 col0\" >Energy consumption (Transportation and storage)</td>\n",
              "      <td id=\"T_fbe8b_row28_col1\" class=\"data row28 col1\" >2</td>\n",
              "      <td id=\"T_fbe8b_row28_col2\" class=\"data row28 col2\" >6.06</td>\n",
              "    </tr>\n",
              "    <tr>\n",
              "      <th id=\"T_fbe8b_level0_row29\" class=\"row_heading level0 row29\" >29</th>\n",
              "      <td id=\"T_fbe8b_row29_col0\" class=\"data row29 col0\" >Energy intensity per capita (Total - all activities)</td>\n",
              "      <td id=\"T_fbe8b_row29_col1\" class=\"data row29 col1\" >2</td>\n",
              "      <td id=\"T_fbe8b_row29_col2\" class=\"data row29 col2\" >6.06</td>\n",
              "    </tr>\n",
              "    <tr>\n",
              "      <th id=\"T_fbe8b_level0_row30\" class=\"row_heading level0 row30\" >30</th>\n",
              "      <td id=\"T_fbe8b_row30_col0\" class=\"data row30 col0\" >Energy productivity, GDP per unit of TES (Total - all activities)</td>\n",
              "      <td id=\"T_fbe8b_row30_col1\" class=\"data row30 col1\" >2</td>\n",
              "      <td id=\"T_fbe8b_row30_col2\" class=\"data row30 col2\" >6.06</td>\n",
              "    </tr>\n",
              "    <tr>\n",
              "      <th id=\"T_fbe8b_level0_row31\" class=\"row_heading level0 row31\" >31</th>\n",
              "      <td id=\"T_fbe8b_row31_col0\" class=\"data row31 col0\" >Environmentally adjusted multifactor productivity growth (Total - all activities)</td>\n",
              "      <td id=\"T_fbe8b_row31_col1\" class=\"data row31 col1\" >11</td>\n",
              "      <td id=\"T_fbe8b_row31_col2\" class=\"data row31 col2\" >33.33</td>\n",
              "    </tr>\n",
              "    <tr>\n",
              "      <th id=\"T_fbe8b_level0_row32\" class=\"row_heading level0 row32\" >32</th>\n",
              "      <td id=\"T_fbe8b_row32_col0\" class=\"data row32 col0\" >Feed-in tariffs for solar photovoltaic (Total - all activities)</td>\n",
              "      <td id=\"T_fbe8b_row32_col1\" class=\"data row32 col1\" >13</td>\n",
              "      <td id=\"T_fbe8b_row32_col2\" class=\"data row32 col2\" >39.39</td>\n",
              "    </tr>\n",
              "    <tr>\n",
              "      <th id=\"T_fbe8b_level0_row33\" class=\"row_heading level0 row33\" >33</th>\n",
              "      <td id=\"T_fbe8b_row33_col0\" class=\"data row33 col0\" >Feed-in tariffs for wind electricity generation (Total - all activities)</td>\n",
              "      <td id=\"T_fbe8b_row33_col1\" class=\"data row33 col1\" >13</td>\n",
              "      <td id=\"T_fbe8b_row33_col2\" class=\"data row33 col2\" >39.39</td>\n",
              "    </tr>\n",
              "    <tr>\n",
              "      <th id=\"T_fbe8b_level0_row34\" class=\"row_heading level0 row34\" >34</th>\n",
              "      <td id=\"T_fbe8b_row34_col0\" class=\"data row34 col0\" >Female population (Total - all activities)</td>\n",
              "      <td id=\"T_fbe8b_row34_col1\" class=\"data row34 col1\" >1</td>\n",
              "      <td id=\"T_fbe8b_row34_col2\" class=\"data row34 col2\" >3.03</td>\n",
              "    </tr>\n",
              "    <tr>\n",
              "      <th id=\"T_fbe8b_level0_row35\" class=\"row_heading level0 row35\" >35</th>\n",
              "      <td id=\"T_fbe8b_row35_col0\" class=\"data row35 col0\" >Forest resource stocks (Total - all activities)</td>\n",
              "      <td id=\"T_fbe8b_row35_col1\" class=\"data row35 col1\" >28</td>\n",
              "      <td id=\"T_fbe8b_row35_col2\" class=\"data row35 col2\" >84.85</td>\n",
              "    </tr>\n",
              "    <tr>\n",
              "      <th id=\"T_fbe8b_level0_row36\" class=\"row_heading level0 row36\" >36</th>\n",
              "      <td id=\"T_fbe8b_row36_col0\" class=\"data row36 col0\" >Forests with long-term management plans (Total - all activities)</td>\n",
              "      <td id=\"T_fbe8b_row36_col1\" class=\"data row36 col1\" >28</td>\n",
              "      <td id=\"T_fbe8b_row36_col2\" class=\"data row36 col2\" >84.85</td>\n",
              "    </tr>\n",
              "    <tr>\n",
              "      <th id=\"T_fbe8b_level0_row37\" class=\"row_heading level0 row37\" >37</th>\n",
              "      <td id=\"T_fbe8b_row37_col0\" class=\"data row37 col0\" >GDP deflator (Total - all activities)</td>\n",
              "      <td id=\"T_fbe8b_row37_col1\" class=\"data row37 col1\" >1</td>\n",
              "      <td id=\"T_fbe8b_row37_col2\" class=\"data row37 col2\" >3.03</td>\n",
              "    </tr>\n",
              "    <tr>\n",
              "      <th id=\"T_fbe8b_level0_row38\" class=\"row_heading level0 row38\" >38</th>\n",
              "      <td id=\"T_fbe8b_row38_col0\" class=\"data row38 col0\" >Industry electricity price (Total - all activities)</td>\n",
              "      <td id=\"T_fbe8b_row38_col1\" class=\"data row38 col1\" >12</td>\n",
              "      <td id=\"T_fbe8b_row38_col2\" class=\"data row38 col2\" >36.36</td>\n",
              "    </tr>\n",
              "    <tr>\n",
              "      <th id=\"T_fbe8b_level0_row39\" class=\"row_heading level0 row39\" >39</th>\n",
              "      <td id=\"T_fbe8b_row39_col0\" class=\"data row39 col0\" >Intact forest landscape (Total - all activities)</td>\n",
              "      <td id=\"T_fbe8b_row39_col1\" class=\"data row39 col1\" >30</td>\n",
              "      <td id=\"T_fbe8b_row39_col2\" class=\"data row39 col2\" >90.91</td>\n",
              "    </tr>\n",
              "    <tr>\n",
              "      <th id=\"T_fbe8b_level0_row40\" class=\"row_heading level0 row40\" >40</th>\n",
              "      <td id=\"T_fbe8b_row40_col0\" class=\"data row40 col0\" >Intact forest landscape loss (Total - all activities)</td>\n",
              "      <td id=\"T_fbe8b_row40_col1\" class=\"data row40 col1\" >31</td>\n",
              "      <td id=\"T_fbe8b_row40_col2\" class=\"data row40 col2\" >93.94</td>\n",
              "    </tr>\n",
              "    <tr>\n",
              "      <th id=\"T_fbe8b_level0_row41\" class=\"row_heading level0 row41\" >41</th>\n",
              "      <td id=\"T_fbe8b_row41_col0\" class=\"data row41 col0\" >Labour tax revenue (Total - all activities)</td>\n",
              "      <td id=\"T_fbe8b_row41_col1\" class=\"data row41 col1\" >8</td>\n",
              "      <td id=\"T_fbe8b_row41_col2\" class=\"data row41 col2\" >24.24</td>\n",
              "    </tr>\n",
              "    <tr>\n",
              "      <th id=\"T_fbe8b_level0_row42\" class=\"row_heading level0 row42\" >42</th>\n",
              "      <td id=\"T_fbe8b_row42_col0\" class=\"data row42 col0\" >Life expectancy at birth (Total - all activities)</td>\n",
              "      <td id=\"T_fbe8b_row42_col1\" class=\"data row42 col1\" >1</td>\n",
              "      <td id=\"T_fbe8b_row42_col2\" class=\"data row42 col2\" >3.03</td>\n",
              "    </tr>\n",
              "    <tr>\n",
              "      <th id=\"T_fbe8b_level0_row43\" class=\"row_heading level0 row43\" >43</th>\n",
              "      <td id=\"T_fbe8b_row43_col0\" class=\"data row43 col0\" >Marine protected area (Total - all activities)</td>\n",
              "      <td id=\"T_fbe8b_row43_col1\" class=\"data row43 col1\" >9</td>\n",
              "      <td id=\"T_fbe8b_row43_col2\" class=\"data row43 col2\" >27.27</td>\n",
              "    </tr>\n",
              "    <tr>\n",
              "      <th id=\"T_fbe8b_level0_row44\" class=\"row_heading level0 row44\" >44</th>\n",
              "      <td id=\"T_fbe8b_row44_col0\" class=\"data row44 col0\" >Mortality from exposure to ambient PM2.5 (Total - all activities)</td>\n",
              "      <td id=\"T_fbe8b_row44_col1\" class=\"data row44 col1\" >3</td>\n",
              "      <td id=\"T_fbe8b_row44_col2\" class=\"data row44 col2\" >9.09</td>\n",
              "    </tr>\n",
              "    <tr>\n",
              "      <th id=\"T_fbe8b_level0_row45\" class=\"row_heading level0 row45\" >45</th>\n",
              "      <td id=\"T_fbe8b_row45_col0\" class=\"data row45 col0\" >Mortality from exposure to ambient ozone (Total - all activities)</td>\n",
              "      <td id=\"T_fbe8b_row45_col1\" class=\"data row45 col1\" >3</td>\n",
              "      <td id=\"T_fbe8b_row45_col2\" class=\"data row45 col2\" >9.09</td>\n",
              "    </tr>\n",
              "    <tr>\n",
              "      <th id=\"T_fbe8b_level0_row46\" class=\"row_heading level0 row46\" >46</th>\n",
              "      <td id=\"T_fbe8b_row46_col0\" class=\"data row46 col0\" >Mortality from exposure to lead (Total - all activities)</td>\n",
              "      <td id=\"T_fbe8b_row46_col1\" class=\"data row46 col1\" >3</td>\n",
              "      <td id=\"T_fbe8b_row46_col2\" class=\"data row46 col2\" >9.09</td>\n",
              "    </tr>\n",
              "    <tr>\n",
              "      <th id=\"T_fbe8b_level0_row47\" class=\"row_heading level0 row47\" >47</th>\n",
              "      <td id=\"T_fbe8b_row47_col0\" class=\"data row47 col0\" >Mortality from exposure to residential radon (Total - all activities)</td>\n",
              "      <td id=\"T_fbe8b_row47_col1\" class=\"data row47 col1\" >3</td>\n",
              "      <td id=\"T_fbe8b_row47_col2\" class=\"data row47 col2\" >9.09</td>\n",
              "    </tr>\n",
              "    <tr>\n",
              "      <th id=\"T_fbe8b_level0_row48\" class=\"row_heading level0 row48\" >48</th>\n",
              "      <td id=\"T_fbe8b_row48_col0\" class=\"data row48 col0\" >Naturally regenerating forests (Total - all activities)</td>\n",
              "      <td id=\"T_fbe8b_row48_col1\" class=\"data row48 col1\" >28</td>\n",
              "      <td id=\"T_fbe8b_row48_col2\" class=\"data row48 col2\" >84.85</td>\n",
              "    </tr>\n",
              "    <tr>\n",
              "      <th id=\"T_fbe8b_level0_row49\" class=\"row_heading level0 row49\" >49</th>\n",
              "      <td id=\"T_fbe8b_row49_col0\" class=\"data row49 col0\" >Net migration (Total - all activities)</td>\n",
              "      <td id=\"T_fbe8b_row49_col1\" class=\"data row49 col1\" >1</td>\n",
              "      <td id=\"T_fbe8b_row49_col2\" class=\"data row49 col2\" >3.03</td>\n",
              "    </tr>\n",
              "    <tr>\n",
              "      <th id=\"T_fbe8b_level0_row50\" class=\"row_heading level0 row50\" >50</th>\n",
              "      <td id=\"T_fbe8b_row50_col0\" class=\"data row50 col0\" >Nitrogen balance (Total - all activities)</td>\n",
              "      <td id=\"T_fbe8b_row50_col1\" class=\"data row50 col1\" >3</td>\n",
              "      <td id=\"T_fbe8b_row50_col2\" class=\"data row50 col2\" >9.09</td>\n",
              "    </tr>\n",
              "    <tr>\n",
              "      <th id=\"T_fbe8b_level0_row51\" class=\"row_heading level0 row51\" >51</th>\n",
              "      <td id=\"T_fbe8b_row51_col0\" class=\"data row51 col0\" >Nominal exchange rate (Total - all activities)</td>\n",
              "      <td id=\"T_fbe8b_row51_col1\" class=\"data row51 col1\" >1</td>\n",
              "      <td id=\"T_fbe8b_row51_col2\" class=\"data row51 col2\" >3.03</td>\n",
              "    </tr>\n",
              "    <tr>\n",
              "      <th id=\"T_fbe8b_level0_row52\" class=\"row_heading level0 row52\" >52</th>\n",
              "      <td id=\"T_fbe8b_row52_col0\" class=\"data row52 col0\" >Non-energy material productivity, GDP per unit of DMC (Total - all activities)</td>\n",
              "      <td id=\"T_fbe8b_row52_col1\" class=\"data row52 col1\" >3</td>\n",
              "      <td id=\"T_fbe8b_row52_col2\" class=\"data row52 col2\" >9.09</td>\n",
              "    </tr>\n",
              "    <tr>\n",
              "      <th id=\"T_fbe8b_level0_row53\" class=\"row_heading level0 row53\" >53</th>\n",
              "      <td id=\"T_fbe8b_row53_col0\" class=\"data row53 col0\" >Permanent surface water (Total - all activities)</td>\n",
              "      <td id=\"T_fbe8b_row53_col1\" class=\"data row53 col1\" >32</td>\n",
              "      <td id=\"T_fbe8b_row53_col2\" class=\"data row53 col2\" >96.97</td>\n",
              "    </tr>\n",
              "    <tr>\n",
              "      <th id=\"T_fbe8b_level0_row54\" class=\"row_heading level0 row54\" >54</th>\n",
              "      <td id=\"T_fbe8b_row54_col0\" class=\"data row54 col0\" >Petrol end-user price (Total - all activities)</td>\n",
              "      <td id=\"T_fbe8b_row54_col1\" class=\"data row54 col1\" >12</td>\n",
              "      <td id=\"T_fbe8b_row54_col2\" class=\"data row54 col2\" >36.36</td>\n",
              "    </tr>\n",
              "    <tr>\n",
              "      <th id=\"T_fbe8b_level0_row55\" class=\"row_heading level0 row55\" >55</th>\n",
              "      <td id=\"T_fbe8b_row55_col0\" class=\"data row55 col0\" >Phosphorus balance (Total - all activities)</td>\n",
              "      <td id=\"T_fbe8b_row55_col1\" class=\"data row55 col1\" >3</td>\n",
              "      <td id=\"T_fbe8b_row55_col2\" class=\"data row55 col2\" >9.09</td>\n",
              "    </tr>\n",
              "    <tr>\n",
              "      <th id=\"T_fbe8b_level0_row56\" class=\"row_heading level0 row56\" >56</th>\n",
              "      <td id=\"T_fbe8b_row56_col0\" class=\"data row56 col0\" >Population density (Total - all activities)</td>\n",
              "      <td id=\"T_fbe8b_row56_col1\" class=\"data row56 col1\" >1</td>\n",
              "      <td id=\"T_fbe8b_row56_col2\" class=\"data row56 col2\" >3.03</td>\n",
              "    </tr>\n",
              "    <tr>\n",
              "      <th id=\"T_fbe8b_level0_row57\" class=\"row_heading level0 row57\" >57</th>\n",
              "      <td id=\"T_fbe8b_row57_col0\" class=\"data row57 col0\" >Population exposed to more than 10 micrograms/m3 (Total - all activities)</td>\n",
              "      <td id=\"T_fbe8b_row57_col1\" class=\"data row57 col1\" >19</td>\n",
              "      <td id=\"T_fbe8b_row57_col2\" class=\"data row57 col2\" >57.58</td>\n",
              "    </tr>\n",
              "    <tr>\n",
              "      <th id=\"T_fbe8b_level0_row58\" class=\"row_heading level0 row58\" >58</th>\n",
              "      <td id=\"T_fbe8b_row58_col0\" class=\"data row58 col0\" >Population exposed to more than 35 micrograms/m3 (Total - all activities)</td>\n",
              "      <td id=\"T_fbe8b_row58_col1\" class=\"data row58 col1\" >19</td>\n",
              "      <td id=\"T_fbe8b_row58_col2\" class=\"data row58 col2\" >57.58</td>\n",
              "    </tr>\n",
              "    <tr>\n",
              "      <th id=\"T_fbe8b_level0_row59\" class=\"row_heading level0 row59\" >59</th>\n",
              "      <td id=\"T_fbe8b_row59_col0\" class=\"data row59 col0\" >Population exposure to PM2.5 (Total - all activities)</td>\n",
              "      <td id=\"T_fbe8b_row59_col1\" class=\"data row59 col1\" >19</td>\n",
              "      <td id=\"T_fbe8b_row59_col2\" class=\"data row59 col2\" >57.58</td>\n",
              "    </tr>\n",
              "    <tr>\n",
              "      <th id=\"T_fbe8b_level0_row60\" class=\"row_heading level0 row60\" >60</th>\n",
              "      <td id=\"T_fbe8b_row60_col0\" class=\"data row60 col0\" >Population, ages 0-14 (Total - all activities)</td>\n",
              "      <td id=\"T_fbe8b_row60_col1\" class=\"data row60 col1\" >1</td>\n",
              "      <td id=\"T_fbe8b_row60_col2\" class=\"data row60 col2\" >3.03</td>\n",
              "    </tr>\n",
              "    <tr>\n",
              "      <th id=\"T_fbe8b_level0_row61\" class=\"row_heading level0 row61\" >61</th>\n",
              "      <td id=\"T_fbe8b_row61_col0\" class=\"data row61 col0\" >Population, ages 15-64 (Total - all activities)</td>\n",
              "      <td id=\"T_fbe8b_row61_col1\" class=\"data row61 col1\" >1</td>\n",
              "      <td id=\"T_fbe8b_row61_col2\" class=\"data row61 col2\" >3.03</td>\n",
              "    </tr>\n",
              "    <tr>\n",
              "      <th id=\"T_fbe8b_level0_row62\" class=\"row_heading level0 row62\" >62</th>\n",
              "      <td id=\"T_fbe8b_row62_col0\" class=\"data row62 col0\" >Population, ages 65 and above (Total - all activities)</td>\n",
              "      <td id=\"T_fbe8b_row62_col1\" class=\"data row62 col1\" >1</td>\n",
              "      <td id=\"T_fbe8b_row62_col2\" class=\"data row62 col2\" >3.03</td>\n",
              "    </tr>\n",
              "    <tr>\n",
              "      <th id=\"T_fbe8b_level0_row63\" class=\"row_heading level0 row63\" >63</th>\n",
              "      <td id=\"T_fbe8b_row63_col0\" class=\"data row63 col0\" >Production-based CO2 emissions (Total - all activities)</td>\n",
              "      <td id=\"T_fbe8b_row63_col1\" class=\"data row63 col1\" >1</td>\n",
              "      <td id=\"T_fbe8b_row63_col2\" class=\"data row63 col2\" >3.03</td>\n",
              "    </tr>\n",
              "    <tr>\n",
              "      <th id=\"T_fbe8b_level0_row64\" class=\"row_heading level0 row64\" >64</th>\n",
              "      <td id=\"T_fbe8b_row64_col0\" class=\"data row64 col0\" >Production-based CO2 intensity, energy-related CO2 per capita (Total - all activities)</td>\n",
              "      <td id=\"T_fbe8b_row64_col1\" class=\"data row64 col1\" >6</td>\n",
              "      <td id=\"T_fbe8b_row64_col2\" class=\"data row64 col2\" >18.18</td>\n",
              "    </tr>\n",
              "    <tr>\n",
              "      <th id=\"T_fbe8b_level0_row65\" class=\"row_heading level0 row65\" >65</th>\n",
              "      <td id=\"T_fbe8b_row65_col0\" class=\"data row65 col0\" >Production-based CO2 productivity, GDP per unit of energy-related CO2 emissions (Total - all activities)</td>\n",
              "      <td id=\"T_fbe8b_row65_col1\" class=\"data row65 col1\" >6</td>\n",
              "      <td id=\"T_fbe8b_row65_col2\" class=\"data row65 col2\" >18.18</td>\n",
              "    </tr>\n",
              "    <tr>\n",
              "      <th id=\"T_fbe8b_level0_row66\" class=\"row_heading level0 row66\" >66</th>\n",
              "      <td id=\"T_fbe8b_row66_col0\" class=\"data row66 col0\" >Production-based GHG emissions (Total - all activities)</td>\n",
              "      <td id=\"T_fbe8b_row66_col1\" class=\"data row66 col1\" >7</td>\n",
              "      <td id=\"T_fbe8b_row66_col2\" class=\"data row66 col2\" >21.21</td>\n",
              "    </tr>\n",
              "    <tr>\n",
              "      <th id=\"T_fbe8b_level0_row67\" class=\"row_heading level0 row67\" >67</th>\n",
              "      <td id=\"T_fbe8b_row67_col0\" class=\"data row67 col0\" >Production-based GHG intensity, energy-related GHG per capita (Total - all activities)</td>\n",
              "      <td id=\"T_fbe8b_row67_col1\" class=\"data row67 col1\" >7</td>\n",
              "      <td id=\"T_fbe8b_row67_col2\" class=\"data row67 col2\" >21.21</td>\n",
              "    </tr>\n",
              "    <tr>\n",
              "      <th id=\"T_fbe8b_level0_row68\" class=\"row_heading level0 row68\" >68</th>\n",
              "      <td id=\"T_fbe8b_row68_col0\" class=\"data row68 col0\" >Production-based GHG productivity, GDP per unit of energy-related GHG emissions (Total - all activities)</td>\n",
              "      <td id=\"T_fbe8b_row68_col1\" class=\"data row68 col1\" >7</td>\n",
              "      <td id=\"T_fbe8b_row68_col2\" class=\"data row68 col2\" >21.21</td>\n",
              "    </tr>\n",
              "    <tr>\n",
              "      <th id=\"T_fbe8b_level0_row69\" class=\"row_heading level0 row69\" >69</th>\n",
              "      <td id=\"T_fbe8b_row69_col0\" class=\"data row69 col0\" >Purchasing power parity (Total - all activities)</td>\n",
              "      <td id=\"T_fbe8b_row69_col1\" class=\"data row69 col1\" >1</td>\n",
              "      <td id=\"T_fbe8b_row69_col2\" class=\"data row69 col2\" >3.03</td>\n",
              "    </tr>\n",
              "    <tr>\n",
              "      <th id=\"T_fbe8b_level0_row70\" class=\"row_heading level0 row70\" >70</th>\n",
              "      <td id=\"T_fbe8b_row70_col0\" class=\"data row70 col0\" >Real GDP (Total - all activities)</td>\n",
              "      <td id=\"T_fbe8b_row70_col1\" class=\"data row70 col1\" >1</td>\n",
              "      <td id=\"T_fbe8b_row70_col2\" class=\"data row70 col2\" >3.03</td>\n",
              "    </tr>\n",
              "    <tr>\n",
              "      <th id=\"T_fbe8b_level0_row71\" class=\"row_heading level0 row71\" >71</th>\n",
              "      <td id=\"T_fbe8b_row71_col0\" class=\"data row71 col0\" >Real GDP per capita (Total - all activities)</td>\n",
              "      <td id=\"T_fbe8b_row71_col1\" class=\"data row71 col1\" >1</td>\n",
              "      <td id=\"T_fbe8b_row71_col2\" class=\"data row71 col2\" >3.03</td>\n",
              "    </tr>\n",
              "    <tr>\n",
              "      <th id=\"T_fbe8b_level0_row72\" class=\"row_heading level0 row72\" >72</th>\n",
              "      <td id=\"T_fbe8b_row72_col0\" class=\"data row72 col0\" >Relative technological advantage in environment-related technologies (Total - all activities)</td>\n",
              "      <td id=\"T_fbe8b_row72_col1\" class=\"data row72 col1\" >3</td>\n",
              "      <td id=\"T_fbe8b_row72_col2\" class=\"data row72 col2\" >9.09</td>\n",
              "    </tr>\n",
              "    <tr>\n",
              "      <th id=\"T_fbe8b_level0_row73\" class=\"row_heading level0 row73\" >73</th>\n",
              "      <td id=\"T_fbe8b_row73_col0\" class=\"data row73 col0\" >Renewable electricity generation (Total - all activities)</td>\n",
              "      <td id=\"T_fbe8b_row73_col1\" class=\"data row73 col1\" >1</td>\n",
              "      <td id=\"T_fbe8b_row73_col2\" class=\"data row73 col2\" >3.03</td>\n",
              "    </tr>\n",
              "    <tr>\n",
              "      <th id=\"T_fbe8b_level0_row74\" class=\"row_heading level0 row74\" >74</th>\n",
              "      <td id=\"T_fbe8b_row74_col0\" class=\"data row74 col0\" >Renewable energy supply (Total - all activities)</td>\n",
              "      <td id=\"T_fbe8b_row74_col1\" class=\"data row74 col1\" >2</td>\n",
              "      <td id=\"T_fbe8b_row74_col2\" class=\"data row74 col2\" >6.06</td>\n",
              "    </tr>\n",
              "    <tr>\n",
              "      <th id=\"T_fbe8b_level0_row75\" class=\"row_heading level0 row75\" >75</th>\n",
              "      <td id=\"T_fbe8b_row75_col0\" class=\"data row75 col0\" >Renewable energy supply (excluding solid biofuels) (Total - all activities)</td>\n",
              "      <td id=\"T_fbe8b_row75_col1\" class=\"data row75 col1\" >2</td>\n",
              "      <td id=\"T_fbe8b_row75_col2\" class=\"data row75 col2\" >6.06</td>\n",
              "    </tr>\n",
              "    <tr>\n",
              "      <th id=\"T_fbe8b_level0_row76\" class=\"row_heading level0 row76\" >76</th>\n",
              "      <td id=\"T_fbe8b_row76_col0\" class=\"data row76 col0\" >Residential electricity price (Total - all activities)</td>\n",
              "      <td id=\"T_fbe8b_row76_col1\" class=\"data row76 col1\" >12</td>\n",
              "      <td id=\"T_fbe8b_row76_col2\" class=\"data row76 col2\" >36.36</td>\n",
              "    </tr>\n",
              "    <tr>\n",
              "      <th id=\"T_fbe8b_level0_row77\" class=\"row_heading level0 row77\" >77</th>\n",
              "      <td id=\"T_fbe8b_row77_col0\" class=\"data row77 col0\" >Sales of pesticides per unit of agricultural land (Total - all activities)</td>\n",
              "      <td id=\"T_fbe8b_row77_col1\" class=\"data row77 col1\" >2</td>\n",
              "      <td id=\"T_fbe8b_row77_col2\" class=\"data row77 col2\" >6.06</td>\n",
              "    </tr>\n",
              "    <tr>\n",
              "      <th id=\"T_fbe8b_level0_row78\" class=\"row_heading level0 row78\" >78</th>\n",
              "      <td id=\"T_fbe8b_row78_col0\" class=\"data row78 col0\" >Seasonal surface water (Total - all activities)</td>\n",
              "      <td id=\"T_fbe8b_row78_col1\" class=\"data row78 col1\" >32</td>\n",
              "      <td id=\"T_fbe8b_row78_col2\" class=\"data row78 col2\" >96.97</td>\n",
              "    </tr>\n",
              "    <tr>\n",
              "      <th id=\"T_fbe8b_level0_row79\" class=\"row_heading level0 row79\" >79</th>\n",
              "      <td id=\"T_fbe8b_row79_col0\" class=\"data row79 col0\" >Terrestrial protected area (Total - all activities)</td>\n",
              "      <td id=\"T_fbe8b_row79_col1\" class=\"data row79 col1\" >9</td>\n",
              "      <td id=\"T_fbe8b_row79_col2\" class=\"data row79 col2\" >27.27</td>\n",
              "    </tr>\n",
              "    <tr>\n",
              "      <th id=\"T_fbe8b_level0_row80\" class=\"row_heading level0 row80\" >80</th>\n",
              "      <td id=\"T_fbe8b_row80_col0\" class=\"data row80 col0\" >Total energy supply (Total - all activities)</td>\n",
              "      <td id=\"T_fbe8b_row80_col1\" class=\"data row80 col1\" >2</td>\n",
              "      <td id=\"T_fbe8b_row80_col2\" class=\"data row80 col2\" >6.06</td>\n",
              "    </tr>\n",
              "    <tr>\n",
              "      <th id=\"T_fbe8b_level0_row81\" class=\"row_heading level0 row81\" >81</th>\n",
              "      <td id=\"T_fbe8b_row81_col0\" class=\"data row81 col0\" >Total fertility rate (Total - all activities)</td>\n",
              "      <td id=\"T_fbe8b_row81_col1\" class=\"data row81 col1\" >1</td>\n",
              "      <td id=\"T_fbe8b_row81_col2\" class=\"data row81 col2\" >3.03</td>\n",
              "    </tr>\n",
              "    <tr>\n",
              "      <th id=\"T_fbe8b_level0_row82\" class=\"row_heading level0 row82\" >82</th>\n",
              "      <td id=\"T_fbe8b_row82_col0\" class=\"data row82 col0\" >Total freshwater abstraction per capita (Total - all activities)</td>\n",
              "      <td id=\"T_fbe8b_row82_col1\" class=\"data row82 col1\" >21</td>\n",
              "      <td id=\"T_fbe8b_row82_col2\" class=\"data row82 col2\" >63.64</td>\n",
              "    </tr>\n",
              "    <tr>\n",
              "      <th id=\"T_fbe8b_level0_row83\" class=\"row_heading level0 row83\" >83</th>\n",
              "      <td id=\"T_fbe8b_row83_col0\" class=\"data row83 col0\" >Value added (Agriculture, forestry and fishing)</td>\n",
              "      <td id=\"T_fbe8b_row83_col1\" class=\"data row83 col1\" >10</td>\n",
              "      <td id=\"T_fbe8b_row83_col2\" class=\"data row83 col2\" >30.30</td>\n",
              "    </tr>\n",
              "    <tr>\n",
              "      <th id=\"T_fbe8b_level0_row84\" class=\"row_heading level0 row84\" >84</th>\n",
              "      <td id=\"T_fbe8b_row84_col0\" class=\"data row84 col0\" >Value added (Industry (except construction))</td>\n",
              "      <td id=\"T_fbe8b_row84_col1\" class=\"data row84 col1\" >10</td>\n",
              "      <td id=\"T_fbe8b_row84_col2\" class=\"data row84 col2\" >30.30</td>\n",
              "    </tr>\n",
              "    <tr>\n",
              "      <th id=\"T_fbe8b_level0_row85\" class=\"row_heading level0 row85\" >85</th>\n",
              "      <td id=\"T_fbe8b_row85_col0\" class=\"data row85 col0\" >Value added (Services)</td>\n",
              "      <td id=\"T_fbe8b_row85_col1\" class=\"data row85 col1\" >10</td>\n",
              "      <td id=\"T_fbe8b_row85_col2\" class=\"data row85 col2\" >30.30</td>\n",
              "    </tr>\n",
              "    <tr>\n",
              "      <th id=\"T_fbe8b_level0_row86\" class=\"row_heading level0 row86\" >86</th>\n",
              "      <td id=\"T_fbe8b_row86_col0\" class=\"data row86 col0\" >Welfare costs of premature mortalities from exposure to ambient PM2.5 (Total - all activities)</td>\n",
              "      <td id=\"T_fbe8b_row86_col1\" class=\"data row86 col1\" >3</td>\n",
              "      <td id=\"T_fbe8b_row86_col2\" class=\"data row86 col2\" >9.09</td>\n",
              "    </tr>\n",
              "    <tr>\n",
              "      <th id=\"T_fbe8b_level0_row87\" class=\"row_heading level0 row87\" >87</th>\n",
              "      <td id=\"T_fbe8b_row87_col0\" class=\"data row87 col0\" >Welfare costs of premature mortalities from exposure to ambient ozone (Total - all activities)</td>\n",
              "      <td id=\"T_fbe8b_row87_col1\" class=\"data row87 col1\" >3</td>\n",
              "      <td id=\"T_fbe8b_row87_col2\" class=\"data row87 col2\" >9.09</td>\n",
              "    </tr>\n",
              "    <tr>\n",
              "      <th id=\"T_fbe8b_level0_row88\" class=\"row_heading level0 row88\" >88</th>\n",
              "      <td id=\"T_fbe8b_row88_col0\" class=\"data row88 col0\" >Welfare costs of premature mortalities from exposure to lead (Total - all activities)</td>\n",
              "      <td id=\"T_fbe8b_row88_col1\" class=\"data row88 col1\" >3</td>\n",
              "      <td id=\"T_fbe8b_row88_col2\" class=\"data row88 col2\" >9.09</td>\n",
              "    </tr>\n",
              "    <tr>\n",
              "      <th id=\"T_fbe8b_level0_row89\" class=\"row_heading level0 row89\" >89</th>\n",
              "      <td id=\"T_fbe8b_row89_col0\" class=\"data row89 col0\" >Welfare costs of premature mortalities from exposure to residential radon (Total - all activities)</td>\n",
              "      <td id=\"T_fbe8b_row89_col1\" class=\"data row89 col1\" >3</td>\n",
              "      <td id=\"T_fbe8b_row89_col2\" class=\"data row89 col2\" >9.09</td>\n",
              "    </tr>\n",
              "  </tbody>\n",
              "</table>\n"
            ],
            "text/plain": [
              "<pandas.io.formats.style.Styler at 0x25c430b9490>"
            ]
          },
          "metadata": {},
          "output_type": "display_data"
        }
      ],
      "source": [
        "# Tampilkan jumlah data\n",
        "print(f'Jumlah Data : {pvt_data_oecd_indonesia.shape[0]} Baris\\n')\n",
        "\n",
        "# Hitung missing value\n",
        "data_kosong = pvt_data_oecd_indonesia.isna().sum().to_frame(name = 'Jumlah Missing Value').reset_index()\n",
        "data_kosong['Persentase NULL %'] = 100 * (data_kosong['Jumlah Missing Value'] /pvt_data_oecd_indonesia.shape[0]).round(4)\n",
        "\n",
        "# Tampilkan hasilnya\n",
        "data_kosong = data_kosong.style\\\n",
        "    .map(lambda val : 'background-color: red' if val > 50 else '', subset=['Persentase NULL %'])\\\n",
        "    .format({'Persentase NULL %': '{:.2f}'})\n",
        "\n",
        "display(data_kosong)"
      ]
    },
    {
      "cell_type": "markdown",
      "metadata": {
        "id": "Zep7AIpT1g8t"
      },
      "source": [
        "<b><span style='color:#FFDB00'><i>Interpretasi Hasil : </i></span></b><br>\n",
        "..."
      ]
    },
    {
      "cell_type": "markdown",
      "metadata": {
        "id": "V1JHOp1L1g8t"
      },
      "source": [
        "## <b>C.5. <span style='color:#C8ACD6'>Duplikasi Data</span></b>"
      ]
    },
    {
      "cell_type": "code",
      "execution_count": null,
      "metadata": {
        "id": "8r5QrPMP1g8t",
        "outputId": "15db3672-d6b7-48c3-aeeb-1a44352a103a"
      },
      "outputs": [
        {
          "name": "stdout",
          "output_type": "stream",
          "text": [
            "Banyak duplikasi pada data : 0\n"
          ]
        }
      ],
      "source": [
        "print(f'Banyak duplikasi pada data : {pvt_data_oecd_indonesia.duplicated().sum()}')"
      ]
    },
    {
      "cell_type": "markdown",
      "metadata": {
        "id": "lmb7x8gh1g8t"
      },
      "source": [
        "<b><span style='color:#FFDB00'><i>Interpretasi Hasil : </i></span></b><br>\n",
        "..."
      ]
    },
    {
      "cell_type": "markdown",
      "metadata": {
        "id": "Rod8AjT_1g8t"
      },
      "source": [
        "## <b>C.6. <span style='color:#C8ACD6'>Outlier</span></b>"
      ]
    },
    {
      "cell_type": "code",
      "execution_count": null,
      "metadata": {
        "id": "nvQ4vWhw1g8t"
      },
      "outputs": [],
      "source": [
        "def deteksi_outlier(df):\n",
        "    Q1 = df.quantile(0.25)\n",
        "    Q3 = df.quantile(0.75)\n",
        "    IQR = Q3 - Q1\n",
        "\n",
        "    # Batas bawah dan atas\n",
        "    lower_bound = Q1 - 1.5 * IQR\n",
        "    upper_bound = Q3 + 1.5 * IQR\n",
        "\n",
        "    # Deteksi outlier\n",
        "    outliers = (df < lower_bound) | (df > upper_bound)\n",
        "\n",
        "    return outliers"
      ]
    },
    {
      "cell_type": "code",
      "execution_count": null,
      "metadata": {
        "id": "hTlROH5y1g8t",
        "outputId": "f7feca8d-ad70-406e-8d9c-83fa8e701c44"
      },
      "outputs": [
        {
          "data": {
            "text/html": [
              "<style type=\"text/css\">\n",
              "#T_0e015_row0_col1, #T_0e015_row2_col1, #T_0e015_row3_col1, #T_0e015_row6_col1, #T_0e015_row18_col1, #T_0e015_row29_col1, #T_0e015_row34_col1, #T_0e015_row46_col1, #T_0e015_row52_col1, #T_0e015_row56_col1, #T_0e015_row70_col1, #T_0e015_row71_col1, #T_0e015_row74_col1, #T_0e015_row75_col1, #T_0e015_row79_col1, #T_0e015_row81_col1 {\n",
              "  background-color: red;\n",
              "}\n",
              "</style>\n",
              "<table id=\"T_0e015\">\n",
              "  <thead>\n",
              "    <tr>\n",
              "      <th class=\"blank level0\" >&nbsp;</th>\n",
              "      <th id=\"T_0e015_level0_col0\" class=\"col_heading level0 col0\" >measure</th>\n",
              "      <th id=\"T_0e015_level0_col1\" class=\"col_heading level0 col1\" >Jumlah Outlier</th>\n",
              "    </tr>\n",
              "  </thead>\n",
              "  <tbody>\n",
              "    <tr>\n",
              "      <th id=\"T_0e015_level0_row0\" class=\"row_heading level0 row0\" >0</th>\n",
              "      <td id=\"T_0e015_row0_col0\" class=\"data row0 col0\" >Adjustment for pollution abatement (Total - all activities)</td>\n",
              "      <td id=\"T_0e015_row0_col1\" class=\"data row0 col1\" >2</td>\n",
              "    </tr>\n",
              "    <tr>\n",
              "      <th id=\"T_0e015_level0_row1\" class=\"row_heading level0 row1\" >1</th>\n",
              "      <td id=\"T_0e015_row1_col0\" class=\"data row1 col0\" >CO2 emissions from air transport per capita (Total - all activities)</td>\n",
              "      <td id=\"T_0e015_row1_col1\" class=\"data row1 col1\" >0</td>\n",
              "    </tr>\n",
              "    <tr>\n",
              "      <th id=\"T_0e015_level0_row2\" class=\"row_heading level0 row2\" >2</th>\n",
              "      <td id=\"T_0e015_row2_col0\" class=\"data row2 col0\" >CO2 emissions from air transport per unit of GDP (Total - all activities)</td>\n",
              "      <td id=\"T_0e015_row2_col1\" class=\"data row2 col1\" >2</td>\n",
              "    </tr>\n",
              "    <tr>\n",
              "      <th id=\"T_0e015_level0_row3\" class=\"row_heading level0 row3\" >3</th>\n",
              "      <td id=\"T_0e015_row3_col0\" class=\"data row3 col0\" >Consumption of biomass (Total - all activities)</td>\n",
              "      <td id=\"T_0e015_row3_col1\" class=\"data row3 col1\" >1</td>\n",
              "    </tr>\n",
              "    <tr>\n",
              "      <th id=\"T_0e015_level0_row4\" class=\"row_heading level0 row4\" >4</th>\n",
              "      <td id=\"T_0e015_row4_col0\" class=\"data row4 col0\" >Consumption of metals (Total - all activities)</td>\n",
              "      <td id=\"T_0e015_row4_col1\" class=\"data row4 col1\" >0</td>\n",
              "    </tr>\n",
              "    <tr>\n",
              "      <th id=\"T_0e015_level0_row5\" class=\"row_heading level0 row5\" >5</th>\n",
              "      <td id=\"T_0e015_row5_col0\" class=\"data row5 col0\" >Consumption of non-metallic minerals (Total - all activities)</td>\n",
              "      <td id=\"T_0e015_row5_col1\" class=\"data row5 col1\" >0</td>\n",
              "    </tr>\n",
              "    <tr>\n",
              "      <th id=\"T_0e015_level0_row6\" class=\"row_heading level0 row6\" >6</th>\n",
              "      <td id=\"T_0e015_row6_col0\" class=\"data row6 col0\" >Contribution of natural capital (Total - all activities)</td>\n",
              "      <td id=\"T_0e015_row6_col1\" class=\"data row6 col1\" >1</td>\n",
              "    </tr>\n",
              "    <tr>\n",
              "      <th id=\"T_0e015_level0_row7\" class=\"row_heading level0 row7\" >7</th>\n",
              "      <td id=\"T_0e015_row7_col0\" class=\"data row7 col0\" >Conversion of non-water topermanent water surface (Total - all activities)</td>\n",
              "      <td id=\"T_0e015_row7_col1\" class=\"data row7 col1\" >0</td>\n",
              "    </tr>\n",
              "    <tr>\n",
              "      <th id=\"T_0e015_level0_row8\" class=\"row_heading level0 row8\" >8</th>\n",
              "      <td id=\"T_0e015_row8_col0\" class=\"data row8 col0\" >Conversion of permanent water to not-water surface (Total - all activities)</td>\n",
              "      <td id=\"T_0e015_row8_col1\" class=\"data row8 col1\" >0</td>\n",
              "    </tr>\n",
              "    <tr>\n",
              "      <th id=\"T_0e015_level0_row9\" class=\"row_heading level0 row9\" >9</th>\n",
              "      <td id=\"T_0e015_row9_col0\" class=\"data row9 col0\" >Conversion of permanent water to seasonal water surface (Total - all activities)</td>\n",
              "      <td id=\"T_0e015_row9_col1\" class=\"data row9 col1\" >0</td>\n",
              "    </tr>\n",
              "    <tr>\n",
              "      <th id=\"T_0e015_level0_row10\" class=\"row_heading level0 row10\" >10</th>\n",
              "      <td id=\"T_0e015_row10_col0\" class=\"data row10 col0\" >Conversion of seasonal water to permanent water surface (Total - all activities)</td>\n",
              "      <td id=\"T_0e015_row10_col1\" class=\"data row10 col1\" >0</td>\n",
              "    </tr>\n",
              "    <tr>\n",
              "      <th id=\"T_0e015_level0_row11\" class=\"row_heading level0 row11\" >11</th>\n",
              "      <td id=\"T_0e015_row11_col0\" class=\"data row11 col0\" >Demand-based CO2 emissions (Total - all activities)</td>\n",
              "      <td id=\"T_0e015_row11_col1\" class=\"data row11 col1\" >0</td>\n",
              "    </tr>\n",
              "    <tr>\n",
              "      <th id=\"T_0e015_level0_row12\" class=\"row_heading level0 row12\" >12</th>\n",
              "      <td id=\"T_0e015_row12_col0\" class=\"data row12 col0\" >Demand-based CO2 intensity energy-related CO2 per capita (Total - all activities)</td>\n",
              "      <td id=\"T_0e015_row12_col1\" class=\"data row12 col1\" >0</td>\n",
              "    </tr>\n",
              "    <tr>\n",
              "      <th id=\"T_0e015_level0_row13\" class=\"row_heading level0 row13\" >13</th>\n",
              "      <td id=\"T_0e015_row13_col0\" class=\"data row13 col0\" >Demand-based CO2 productivity, GDP per unit of energy-related CO2 emissions (Total - all activities)</td>\n",
              "      <td id=\"T_0e015_row13_col1\" class=\"data row13 col1\" >0</td>\n",
              "    </tr>\n",
              "    <tr>\n",
              "      <th id=\"T_0e015_level0_row14\" class=\"row_heading level0 row14\" >14</th>\n",
              "      <td id=\"T_0e015_row14_col0\" class=\"data row14 col0\" >Demand-based GHG emissions (Total - all activities)</td>\n",
              "      <td id=\"T_0e015_row14_col1\" class=\"data row14 col1\" >0</td>\n",
              "    </tr>\n",
              "    <tr>\n",
              "      <th id=\"T_0e015_level0_row15\" class=\"row_heading level0 row15\" >15</th>\n",
              "      <td id=\"T_0e015_row15_col0\" class=\"data row15 col0\" >Demand-based GHG intensity energy-related GHG per capita (Total - all activities)</td>\n",
              "      <td id=\"T_0e015_row15_col1\" class=\"data row15 col1\" >0</td>\n",
              "    </tr>\n",
              "    <tr>\n",
              "      <th id=\"T_0e015_level0_row16\" class=\"row_heading level0 row16\" >16</th>\n",
              "      <td id=\"T_0e015_row16_col0\" class=\"data row16 col0\" >Demand-based GHG productivity, GDP per unit of energy-related GHG emissions (Total - all activities)</td>\n",
              "      <td id=\"T_0e015_row16_col1\" class=\"data row16 col1\" >0</td>\n",
              "    </tr>\n",
              "    <tr>\n",
              "      <th id=\"T_0e015_level0_row17\" class=\"row_heading level0 row17\" >17</th>\n",
              "      <td id=\"T_0e015_row17_col0\" class=\"data row17 col0\" >Development of environment-related technologies (Total - all activities)</td>\n",
              "      <td id=\"T_0e015_row17_col1\" class=\"data row17 col1\" >0</td>\n",
              "    </tr>\n",
              "    <tr>\n",
              "      <th id=\"T_0e015_level0_row18\" class=\"row_heading level0 row18\" >18</th>\n",
              "      <td id=\"T_0e015_row18_col0\" class=\"data row18 col0\" >Diesel end-user price (Total - all activities)</td>\n",
              "      <td id=\"T_0e015_row18_col1\" class=\"data row18 col1\" >1</td>\n",
              "    </tr>\n",
              "    <tr>\n",
              "      <th id=\"T_0e015_level0_row19\" class=\"row_heading level0 row19\" >19</th>\n",
              "      <td id=\"T_0e015_row19_col0\" class=\"data row19 col0\" >Emissions priced above EUR 120 per tonne of CO2 (Total - all activities)</td>\n",
              "      <td id=\"T_0e015_row19_col1\" class=\"data row19 col1\" >0</td>\n",
              "    </tr>\n",
              "    <tr>\n",
              "      <th id=\"T_0e015_level0_row20\" class=\"row_heading level0 row20\" >20</th>\n",
              "      <td id=\"T_0e015_row20_col0\" class=\"data row20 col0\" >Emissions priced above EUR 30 per tonne of CO2 (Total - all activities)</td>\n",
              "      <td id=\"T_0e015_row20_col1\" class=\"data row20 col1\" >0</td>\n",
              "    </tr>\n",
              "    <tr>\n",
              "      <th id=\"T_0e015_level0_row21\" class=\"row_heading level0 row21\" >21</th>\n",
              "      <td id=\"T_0e015_row21_col0\" class=\"data row21 col0\" >Emissions priced above EUR 60 per tonne of CO2 (Total - all activities)</td>\n",
              "      <td id=\"T_0e015_row21_col1\" class=\"data row21 col1\" >0</td>\n",
              "    </tr>\n",
              "    <tr>\n",
              "      <th id=\"T_0e015_level0_row22\" class=\"row_heading level0 row22\" >22</th>\n",
              "      <td id=\"T_0e015_row22_col0\" class=\"data row22 col0\" >Energy consumption (Agriculture, forestry and fishing)</td>\n",
              "      <td id=\"T_0e015_row22_col1\" class=\"data row22 col1\" >0</td>\n",
              "    </tr>\n",
              "    <tr>\n",
              "      <th id=\"T_0e015_level0_row23\" class=\"row_heading level0 row23\" >23</th>\n",
              "      <td id=\"T_0e015_row23_col0\" class=\"data row23 col0\" >Energy consumption (Industry (except construction))</td>\n",
              "      <td id=\"T_0e015_row23_col1\" class=\"data row23 col1\" >0</td>\n",
              "    </tr>\n",
              "    <tr>\n",
              "      <th id=\"T_0e015_level0_row24\" class=\"row_heading level0 row24\" >24</th>\n",
              "      <td id=\"T_0e015_row24_col0\" class=\"data row24 col0\" >Energy consumption (Other)</td>\n",
              "      <td id=\"T_0e015_row24_col1\" class=\"data row24 col1\" >0</td>\n",
              "    </tr>\n",
              "    <tr>\n",
              "      <th id=\"T_0e015_level0_row25\" class=\"row_heading level0 row25\" >25</th>\n",
              "      <td id=\"T_0e015_row25_col0\" class=\"data row25 col0\" >Energy consumption (Services)</td>\n",
              "      <td id=\"T_0e015_row25_col1\" class=\"data row25 col1\" >0</td>\n",
              "    </tr>\n",
              "    <tr>\n",
              "      <th id=\"T_0e015_level0_row26\" class=\"row_heading level0 row26\" >26</th>\n",
              "      <td id=\"T_0e015_row26_col0\" class=\"data row26 col0\" >Energy consumption (Transportation and storage)</td>\n",
              "      <td id=\"T_0e015_row26_col1\" class=\"data row26 col1\" >0</td>\n",
              "    </tr>\n",
              "    <tr>\n",
              "      <th id=\"T_0e015_level0_row27\" class=\"row_heading level0 row27\" >27</th>\n",
              "      <td id=\"T_0e015_row27_col0\" class=\"data row27 col0\" >Energy intensity per capita (Total - all activities)</td>\n",
              "      <td id=\"T_0e015_row27_col1\" class=\"data row27 col1\" >0</td>\n",
              "    </tr>\n",
              "    <tr>\n",
              "      <th id=\"T_0e015_level0_row28\" class=\"row_heading level0 row28\" >28</th>\n",
              "      <td id=\"T_0e015_row28_col0\" class=\"data row28 col0\" >Energy productivity, GDP per unit of TES (Total - all activities)</td>\n",
              "      <td id=\"T_0e015_row28_col1\" class=\"data row28 col1\" >0</td>\n",
              "    </tr>\n",
              "    <tr>\n",
              "      <th id=\"T_0e015_level0_row29\" class=\"row_heading level0 row29\" >29</th>\n",
              "      <td id=\"T_0e015_row29_col0\" class=\"data row29 col0\" >Environmentally adjusted multifactor productivity growth (Total - all activities)</td>\n",
              "      <td id=\"T_0e015_row29_col1\" class=\"data row29 col1\" >1</td>\n",
              "    </tr>\n",
              "    <tr>\n",
              "      <th id=\"T_0e015_level0_row30\" class=\"row_heading level0 row30\" >30</th>\n",
              "      <td id=\"T_0e015_row30_col0\" class=\"data row30 col0\" >Feed-in tariffs for solar photovoltaic (Total - all activities)</td>\n",
              "      <td id=\"T_0e015_row30_col1\" class=\"data row30 col1\" >0</td>\n",
              "    </tr>\n",
              "    <tr>\n",
              "      <th id=\"T_0e015_level0_row31\" class=\"row_heading level0 row31\" >31</th>\n",
              "      <td id=\"T_0e015_row31_col0\" class=\"data row31 col0\" >Feed-in tariffs for wind electricity generation (Total - all activities)</td>\n",
              "      <td id=\"T_0e015_row31_col1\" class=\"data row31 col1\" >0</td>\n",
              "    </tr>\n",
              "    <tr>\n",
              "      <th id=\"T_0e015_level0_row32\" class=\"row_heading level0 row32\" >32</th>\n",
              "      <td id=\"T_0e015_row32_col0\" class=\"data row32 col0\" >Female population (Total - all activities)</td>\n",
              "      <td id=\"T_0e015_row32_col1\" class=\"data row32 col1\" >0</td>\n",
              "    </tr>\n",
              "    <tr>\n",
              "      <th id=\"T_0e015_level0_row33\" class=\"row_heading level0 row33\" >33</th>\n",
              "      <td id=\"T_0e015_row33_col0\" class=\"data row33 col0\" >Forest resource stocks (Total - all activities)</td>\n",
              "      <td id=\"T_0e015_row33_col1\" class=\"data row33 col1\" >0</td>\n",
              "    </tr>\n",
              "    <tr>\n",
              "      <th id=\"T_0e015_level0_row34\" class=\"row_heading level0 row34\" >34</th>\n",
              "      <td id=\"T_0e015_row34_col0\" class=\"data row34 col0\" >Forests with long-term management plans (Total - all activities)</td>\n",
              "      <td id=\"T_0e015_row34_col1\" class=\"data row34 col1\" >1</td>\n",
              "    </tr>\n",
              "    <tr>\n",
              "      <th id=\"T_0e015_level0_row35\" class=\"row_heading level0 row35\" >35</th>\n",
              "      <td id=\"T_0e015_row35_col0\" class=\"data row35 col0\" >GDP deflator (Total - all activities)</td>\n",
              "      <td id=\"T_0e015_row35_col1\" class=\"data row35 col1\" >0</td>\n",
              "    </tr>\n",
              "    <tr>\n",
              "      <th id=\"T_0e015_level0_row36\" class=\"row_heading level0 row36\" >36</th>\n",
              "      <td id=\"T_0e015_row36_col0\" class=\"data row36 col0\" >Industry electricity price (Total - all activities)</td>\n",
              "      <td id=\"T_0e015_row36_col1\" class=\"data row36 col1\" >0</td>\n",
              "    </tr>\n",
              "    <tr>\n",
              "      <th id=\"T_0e015_level0_row37\" class=\"row_heading level0 row37\" >37</th>\n",
              "      <td id=\"T_0e015_row37_col0\" class=\"data row37 col0\" >Intact forest landscape (Total - all activities)</td>\n",
              "      <td id=\"T_0e015_row37_col1\" class=\"data row37 col1\" >0</td>\n",
              "    </tr>\n",
              "    <tr>\n",
              "      <th id=\"T_0e015_level0_row38\" class=\"row_heading level0 row38\" >38</th>\n",
              "      <td id=\"T_0e015_row38_col0\" class=\"data row38 col0\" >Intact forest landscape loss (Total - all activities)</td>\n",
              "      <td id=\"T_0e015_row38_col1\" class=\"data row38 col1\" >0</td>\n",
              "    </tr>\n",
              "    <tr>\n",
              "      <th id=\"T_0e015_level0_row39\" class=\"row_heading level0 row39\" >39</th>\n",
              "      <td id=\"T_0e015_row39_col0\" class=\"data row39 col0\" >Labour tax revenue (Total - all activities)</td>\n",
              "      <td id=\"T_0e015_row39_col1\" class=\"data row39 col1\" >0</td>\n",
              "    </tr>\n",
              "    <tr>\n",
              "      <th id=\"T_0e015_level0_row40\" class=\"row_heading level0 row40\" >40</th>\n",
              "      <td id=\"T_0e015_row40_col0\" class=\"data row40 col0\" >Life expectancy at birth (Total - all activities)</td>\n",
              "      <td id=\"T_0e015_row40_col1\" class=\"data row40 col1\" >0</td>\n",
              "    </tr>\n",
              "    <tr>\n",
              "      <th id=\"T_0e015_level0_row41\" class=\"row_heading level0 row41\" >41</th>\n",
              "      <td id=\"T_0e015_row41_col0\" class=\"data row41 col0\" >Marine protected area (Total - all activities)</td>\n",
              "      <td id=\"T_0e015_row41_col1\" class=\"data row41 col1\" >0</td>\n",
              "    </tr>\n",
              "    <tr>\n",
              "      <th id=\"T_0e015_level0_row42\" class=\"row_heading level0 row42\" >42</th>\n",
              "      <td id=\"T_0e015_row42_col0\" class=\"data row42 col0\" >Mortality from exposure to ambient PM2.5 (Total - all activities)</td>\n",
              "      <td id=\"T_0e015_row42_col1\" class=\"data row42 col1\" >0</td>\n",
              "    </tr>\n",
              "    <tr>\n",
              "      <th id=\"T_0e015_level0_row43\" class=\"row_heading level0 row43\" >43</th>\n",
              "      <td id=\"T_0e015_row43_col0\" class=\"data row43 col0\" >Mortality from exposure to ambient ozone (Total - all activities)</td>\n",
              "      <td id=\"T_0e015_row43_col1\" class=\"data row43 col1\" >0</td>\n",
              "    </tr>\n",
              "    <tr>\n",
              "      <th id=\"T_0e015_level0_row44\" class=\"row_heading level0 row44\" >44</th>\n",
              "      <td id=\"T_0e015_row44_col0\" class=\"data row44 col0\" >Mortality from exposure to lead (Total - all activities)</td>\n",
              "      <td id=\"T_0e015_row44_col1\" class=\"data row44 col1\" >0</td>\n",
              "    </tr>\n",
              "    <tr>\n",
              "      <th id=\"T_0e015_level0_row45\" class=\"row_heading level0 row45\" >45</th>\n",
              "      <td id=\"T_0e015_row45_col0\" class=\"data row45 col0\" >Mortality from exposure to residential radon (Total - all activities)</td>\n",
              "      <td id=\"T_0e015_row45_col1\" class=\"data row45 col1\" >0</td>\n",
              "    </tr>\n",
              "    <tr>\n",
              "      <th id=\"T_0e015_level0_row46\" class=\"row_heading level0 row46\" >46</th>\n",
              "      <td id=\"T_0e015_row46_col0\" class=\"data row46 col0\" >Naturally regenerating forests (Total - all activities)</td>\n",
              "      <td id=\"T_0e015_row46_col1\" class=\"data row46 col1\" >1</td>\n",
              "    </tr>\n",
              "    <tr>\n",
              "      <th id=\"T_0e015_level0_row47\" class=\"row_heading level0 row47\" >47</th>\n",
              "      <td id=\"T_0e015_row47_col0\" class=\"data row47 col0\" >Net migration (Total - all activities)</td>\n",
              "      <td id=\"T_0e015_row47_col1\" class=\"data row47 col1\" >0</td>\n",
              "    </tr>\n",
              "    <tr>\n",
              "      <th id=\"T_0e015_level0_row48\" class=\"row_heading level0 row48\" >48</th>\n",
              "      <td id=\"T_0e015_row48_col0\" class=\"data row48 col0\" >Nitrogen balance (Total - all activities)</td>\n",
              "      <td id=\"T_0e015_row48_col1\" class=\"data row48 col1\" >0</td>\n",
              "    </tr>\n",
              "    <tr>\n",
              "      <th id=\"T_0e015_level0_row49\" class=\"row_heading level0 row49\" >49</th>\n",
              "      <td id=\"T_0e015_row49_col0\" class=\"data row49 col0\" >Nominal exchange rate (Total - all activities)</td>\n",
              "      <td id=\"T_0e015_row49_col1\" class=\"data row49 col1\" >0</td>\n",
              "    </tr>\n",
              "    <tr>\n",
              "      <th id=\"T_0e015_level0_row50\" class=\"row_heading level0 row50\" >50</th>\n",
              "      <td id=\"T_0e015_row50_col0\" class=\"data row50 col0\" >Non-energy material productivity, GDP per unit of DMC (Total - all activities)</td>\n",
              "      <td id=\"T_0e015_row50_col1\" class=\"data row50 col1\" >0</td>\n",
              "    </tr>\n",
              "    <tr>\n",
              "      <th id=\"T_0e015_level0_row51\" class=\"row_heading level0 row51\" >51</th>\n",
              "      <td id=\"T_0e015_row51_col0\" class=\"data row51 col0\" >Permanent surface water (Total - all activities)</td>\n",
              "      <td id=\"T_0e015_row51_col1\" class=\"data row51 col1\" >0</td>\n",
              "    </tr>\n",
              "    <tr>\n",
              "      <th id=\"T_0e015_level0_row52\" class=\"row_heading level0 row52\" >52</th>\n",
              "      <td id=\"T_0e015_row52_col0\" class=\"data row52 col0\" >Petrol end-user price (Total - all activities)</td>\n",
              "      <td id=\"T_0e015_row52_col1\" class=\"data row52 col1\" >4</td>\n",
              "    </tr>\n",
              "    <tr>\n",
              "      <th id=\"T_0e015_level0_row53\" class=\"row_heading level0 row53\" >53</th>\n",
              "      <td id=\"T_0e015_row53_col0\" class=\"data row53 col0\" >Phosphorus balance (Total - all activities)</td>\n",
              "      <td id=\"T_0e015_row53_col1\" class=\"data row53 col1\" >0</td>\n",
              "    </tr>\n",
              "    <tr>\n",
              "      <th id=\"T_0e015_level0_row54\" class=\"row_heading level0 row54\" >54</th>\n",
              "      <td id=\"T_0e015_row54_col0\" class=\"data row54 col0\" >Population density (Total - all activities)</td>\n",
              "      <td id=\"T_0e015_row54_col1\" class=\"data row54 col1\" >0</td>\n",
              "    </tr>\n",
              "    <tr>\n",
              "      <th id=\"T_0e015_level0_row55\" class=\"row_heading level0 row55\" >55</th>\n",
              "      <td id=\"T_0e015_row55_col0\" class=\"data row55 col0\" >Population exposed to more than 10 micrograms/m3 (Total - all activities)</td>\n",
              "      <td id=\"T_0e015_row55_col1\" class=\"data row55 col1\" >0</td>\n",
              "    </tr>\n",
              "    <tr>\n",
              "      <th id=\"T_0e015_level0_row56\" class=\"row_heading level0 row56\" >56</th>\n",
              "      <td id=\"T_0e015_row56_col0\" class=\"data row56 col0\" >Population exposed to more than 35 micrograms/m3 (Total - all activities)</td>\n",
              "      <td id=\"T_0e015_row56_col1\" class=\"data row56 col1\" >3</td>\n",
              "    </tr>\n",
              "    <tr>\n",
              "      <th id=\"T_0e015_level0_row57\" class=\"row_heading level0 row57\" >57</th>\n",
              "      <td id=\"T_0e015_row57_col0\" class=\"data row57 col0\" >Population exposure to PM2.5 (Total - all activities)</td>\n",
              "      <td id=\"T_0e015_row57_col1\" class=\"data row57 col1\" >0</td>\n",
              "    </tr>\n",
              "    <tr>\n",
              "      <th id=\"T_0e015_level0_row58\" class=\"row_heading level0 row58\" >58</th>\n",
              "      <td id=\"T_0e015_row58_col0\" class=\"data row58 col0\" >Population, ages 0-14 (Total - all activities)</td>\n",
              "      <td id=\"T_0e015_row58_col1\" class=\"data row58 col1\" >0</td>\n",
              "    </tr>\n",
              "    <tr>\n",
              "      <th id=\"T_0e015_level0_row59\" class=\"row_heading level0 row59\" >59</th>\n",
              "      <td id=\"T_0e015_row59_col0\" class=\"data row59 col0\" >Population, ages 15-64 (Total - all activities)</td>\n",
              "      <td id=\"T_0e015_row59_col1\" class=\"data row59 col1\" >0</td>\n",
              "    </tr>\n",
              "    <tr>\n",
              "      <th id=\"T_0e015_level0_row60\" class=\"row_heading level0 row60\" >60</th>\n",
              "      <td id=\"T_0e015_row60_col0\" class=\"data row60 col0\" >Population, ages 65 and above (Total - all activities)</td>\n",
              "      <td id=\"T_0e015_row60_col1\" class=\"data row60 col1\" >0</td>\n",
              "    </tr>\n",
              "    <tr>\n",
              "      <th id=\"T_0e015_level0_row61\" class=\"row_heading level0 row61\" >61</th>\n",
              "      <td id=\"T_0e015_row61_col0\" class=\"data row61 col0\" >Production-based CO2 emissions (Total - all activities)</td>\n",
              "      <td id=\"T_0e015_row61_col1\" class=\"data row61 col1\" >0</td>\n",
              "    </tr>\n",
              "    <tr>\n",
              "      <th id=\"T_0e015_level0_row62\" class=\"row_heading level0 row62\" >62</th>\n",
              "      <td id=\"T_0e015_row62_col0\" class=\"data row62 col0\" >Production-based CO2 intensity, energy-related CO2 per capita (Total - all activities)</td>\n",
              "      <td id=\"T_0e015_row62_col1\" class=\"data row62 col1\" >0</td>\n",
              "    </tr>\n",
              "    <tr>\n",
              "      <th id=\"T_0e015_level0_row63\" class=\"row_heading level0 row63\" >63</th>\n",
              "      <td id=\"T_0e015_row63_col0\" class=\"data row63 col0\" >Production-based CO2 productivity, GDP per unit of energy-related CO2 emissions (Total - all activities)</td>\n",
              "      <td id=\"T_0e015_row63_col1\" class=\"data row63 col1\" >0</td>\n",
              "    </tr>\n",
              "    <tr>\n",
              "      <th id=\"T_0e015_level0_row64\" class=\"row_heading level0 row64\" >64</th>\n",
              "      <td id=\"T_0e015_row64_col0\" class=\"data row64 col0\" >Production-based GHG emissions (Total - all activities)</td>\n",
              "      <td id=\"T_0e015_row64_col1\" class=\"data row64 col1\" >0</td>\n",
              "    </tr>\n",
              "    <tr>\n",
              "      <th id=\"T_0e015_level0_row65\" class=\"row_heading level0 row65\" >65</th>\n",
              "      <td id=\"T_0e015_row65_col0\" class=\"data row65 col0\" >Production-based GHG intensity, energy-related GHG per capita (Total - all activities)</td>\n",
              "      <td id=\"T_0e015_row65_col1\" class=\"data row65 col1\" >0</td>\n",
              "    </tr>\n",
              "    <tr>\n",
              "      <th id=\"T_0e015_level0_row66\" class=\"row_heading level0 row66\" >66</th>\n",
              "      <td id=\"T_0e015_row66_col0\" class=\"data row66 col0\" >Production-based GHG productivity, GDP per unit of energy-related GHG emissions (Total - all activities)</td>\n",
              "      <td id=\"T_0e015_row66_col1\" class=\"data row66 col1\" >0</td>\n",
              "    </tr>\n",
              "    <tr>\n",
              "      <th id=\"T_0e015_level0_row67\" class=\"row_heading level0 row67\" >67</th>\n",
              "      <td id=\"T_0e015_row67_col0\" class=\"data row67 col0\" >Purchasing power parity (Total - all activities)</td>\n",
              "      <td id=\"T_0e015_row67_col1\" class=\"data row67 col1\" >0</td>\n",
              "    </tr>\n",
              "    <tr>\n",
              "      <th id=\"T_0e015_level0_row68\" class=\"row_heading level0 row68\" >68</th>\n",
              "      <td id=\"T_0e015_row68_col0\" class=\"data row68 col0\" >Real GDP (Total - all activities)</td>\n",
              "      <td id=\"T_0e015_row68_col1\" class=\"data row68 col1\" >0</td>\n",
              "    </tr>\n",
              "    <tr>\n",
              "      <th id=\"T_0e015_level0_row69\" class=\"row_heading level0 row69\" >69</th>\n",
              "      <td id=\"T_0e015_row69_col0\" class=\"data row69 col0\" >Real GDP per capita (Total - all activities)</td>\n",
              "      <td id=\"T_0e015_row69_col1\" class=\"data row69 col1\" >0</td>\n",
              "    </tr>\n",
              "    <tr>\n",
              "      <th id=\"T_0e015_level0_row70\" class=\"row_heading level0 row70\" >70</th>\n",
              "      <td id=\"T_0e015_row70_col0\" class=\"data row70 col0\" >Relative technological advantage in environment-related technologies (Total - all activities)</td>\n",
              "      <td id=\"T_0e015_row70_col1\" class=\"data row70 col1\" >3</td>\n",
              "    </tr>\n",
              "    <tr>\n",
              "      <th id=\"T_0e015_level0_row71\" class=\"row_heading level0 row71\" >71</th>\n",
              "      <td id=\"T_0e015_row71_col0\" class=\"data row71 col0\" >Renewable electricity generation (Total - all activities)</td>\n",
              "      <td id=\"T_0e015_row71_col1\" class=\"data row71 col1\" >1</td>\n",
              "    </tr>\n",
              "    <tr>\n",
              "      <th id=\"T_0e015_level0_row72\" class=\"row_heading level0 row72\" >72</th>\n",
              "      <td id=\"T_0e015_row72_col0\" class=\"data row72 col0\" >Renewable energy supply (Total - all activities)</td>\n",
              "      <td id=\"T_0e015_row72_col1\" class=\"data row72 col1\" >0</td>\n",
              "    </tr>\n",
              "    <tr>\n",
              "      <th id=\"T_0e015_level0_row73\" class=\"row_heading level0 row73\" >73</th>\n",
              "      <td id=\"T_0e015_row73_col0\" class=\"data row73 col0\" >Renewable energy supply (excluding solid biofuels) (Total - all activities)</td>\n",
              "      <td id=\"T_0e015_row73_col1\" class=\"data row73 col1\" >0</td>\n",
              "    </tr>\n",
              "    <tr>\n",
              "      <th id=\"T_0e015_level0_row74\" class=\"row_heading level0 row74\" >74</th>\n",
              "      <td id=\"T_0e015_row74_col0\" class=\"data row74 col0\" >Residential electricity price (Total - all activities)</td>\n",
              "      <td id=\"T_0e015_row74_col1\" class=\"data row74 col1\" >2</td>\n",
              "    </tr>\n",
              "    <tr>\n",
              "      <th id=\"T_0e015_level0_row75\" class=\"row_heading level0 row75\" >75</th>\n",
              "      <td id=\"T_0e015_row75_col0\" class=\"data row75 col0\" >Sales of pesticides per unit of agricultural land (Total - all activities)</td>\n",
              "      <td id=\"T_0e015_row75_col1\" class=\"data row75 col1\" >3</td>\n",
              "    </tr>\n",
              "    <tr>\n",
              "      <th id=\"T_0e015_level0_row76\" class=\"row_heading level0 row76\" >76</th>\n",
              "      <td id=\"T_0e015_row76_col0\" class=\"data row76 col0\" >Seasonal surface water (Total - all activities)</td>\n",
              "      <td id=\"T_0e015_row76_col1\" class=\"data row76 col1\" >0</td>\n",
              "    </tr>\n",
              "    <tr>\n",
              "      <th id=\"T_0e015_level0_row77\" class=\"row_heading level0 row77\" >77</th>\n",
              "      <td id=\"T_0e015_row77_col0\" class=\"data row77 col0\" >Terrestrial protected area (Total - all activities)</td>\n",
              "      <td id=\"T_0e015_row77_col1\" class=\"data row77 col1\" >0</td>\n",
              "    </tr>\n",
              "    <tr>\n",
              "      <th id=\"T_0e015_level0_row78\" class=\"row_heading level0 row78\" >78</th>\n",
              "      <td id=\"T_0e015_row78_col0\" class=\"data row78 col0\" >Total energy supply (Total - all activities)</td>\n",
              "      <td id=\"T_0e015_row78_col1\" class=\"data row78 col1\" >0</td>\n",
              "    </tr>\n",
              "    <tr>\n",
              "      <th id=\"T_0e015_level0_row79\" class=\"row_heading level0 row79\" >79</th>\n",
              "      <td id=\"T_0e015_row79_col0\" class=\"data row79 col0\" >Total fertility rate (Total - all activities)</td>\n",
              "      <td id=\"T_0e015_row79_col1\" class=\"data row79 col1\" >1</td>\n",
              "    </tr>\n",
              "    <tr>\n",
              "      <th id=\"T_0e015_level0_row80\" class=\"row_heading level0 row80\" >80</th>\n",
              "      <td id=\"T_0e015_row80_col0\" class=\"data row80 col0\" >Total freshwater abstraction per capita (Total - all activities)</td>\n",
              "      <td id=\"T_0e015_row80_col1\" class=\"data row80 col1\" >0</td>\n",
              "    </tr>\n",
              "    <tr>\n",
              "      <th id=\"T_0e015_level0_row81\" class=\"row_heading level0 row81\" >81</th>\n",
              "      <td id=\"T_0e015_row81_col0\" class=\"data row81 col0\" >Value added (Agriculture, forestry and fishing)</td>\n",
              "      <td id=\"T_0e015_row81_col1\" class=\"data row81 col1\" >5</td>\n",
              "    </tr>\n",
              "    <tr>\n",
              "      <th id=\"T_0e015_level0_row82\" class=\"row_heading level0 row82\" >82</th>\n",
              "      <td id=\"T_0e015_row82_col0\" class=\"data row82 col0\" >Value added (Industry (except construction))</td>\n",
              "      <td id=\"T_0e015_row82_col1\" class=\"data row82 col1\" >0</td>\n",
              "    </tr>\n",
              "    <tr>\n",
              "      <th id=\"T_0e015_level0_row83\" class=\"row_heading level0 row83\" >83</th>\n",
              "      <td id=\"T_0e015_row83_col0\" class=\"data row83 col0\" >Value added (Services)</td>\n",
              "      <td id=\"T_0e015_row83_col1\" class=\"data row83 col1\" >0</td>\n",
              "    </tr>\n",
              "    <tr>\n",
              "      <th id=\"T_0e015_level0_row84\" class=\"row_heading level0 row84\" >84</th>\n",
              "      <td id=\"T_0e015_row84_col0\" class=\"data row84 col0\" >Welfare costs of premature mortalities from exposure to ambient PM2.5 (Total - all activities)</td>\n",
              "      <td id=\"T_0e015_row84_col1\" class=\"data row84 col1\" >0</td>\n",
              "    </tr>\n",
              "    <tr>\n",
              "      <th id=\"T_0e015_level0_row85\" class=\"row_heading level0 row85\" >85</th>\n",
              "      <td id=\"T_0e015_row85_col0\" class=\"data row85 col0\" >Welfare costs of premature mortalities from exposure to ambient ozone (Total - all activities)</td>\n",
              "      <td id=\"T_0e015_row85_col1\" class=\"data row85 col1\" >0</td>\n",
              "    </tr>\n",
              "    <tr>\n",
              "      <th id=\"T_0e015_level0_row86\" class=\"row_heading level0 row86\" >86</th>\n",
              "      <td id=\"T_0e015_row86_col0\" class=\"data row86 col0\" >Welfare costs of premature mortalities from exposure to lead (Total - all activities)</td>\n",
              "      <td id=\"T_0e015_row86_col1\" class=\"data row86 col1\" >0</td>\n",
              "    </tr>\n",
              "    <tr>\n",
              "      <th id=\"T_0e015_level0_row87\" class=\"row_heading level0 row87\" >87</th>\n",
              "      <td id=\"T_0e015_row87_col0\" class=\"data row87 col0\" >Welfare costs of premature mortalities from exposure to residential radon (Total - all activities)</td>\n",
              "      <td id=\"T_0e015_row87_col1\" class=\"data row87 col1\" >0</td>\n",
              "    </tr>\n",
              "  </tbody>\n",
              "</table>\n"
            ],
            "text/plain": [
              "<pandas.io.formats.style.Styler at 0x25c4107f990>"
            ]
          },
          "metadata": {},
          "output_type": "display_data"
        }
      ],
      "source": [
        "number_column = pvt_data_oecd_indonesia.select_dtypes(include = 'number').drop(columns = ['time_period'])\n",
        "\n",
        "list_jumlah_outlier = list()\n",
        "for col in number_column.columns:\n",
        "    jumlah_outlier = detect_outliers(pvt_data_oecd_indonesia[col]).sum()\n",
        "    list_jumlah_outlier.append(jumlah_outlier)\n",
        "\n",
        "data_outlier = pd.DataFrame({\n",
        "    'measure' : number_column.columns,\n",
        "    'Jumlah Outlier' : list_jumlah_outlier,\n",
        "})\n",
        "\n",
        "# Tampilkan hasilnya\n",
        "style_data_outlier = data_outlier.style\\\n",
        "    .map(lambda val : 'background-color: red' if val > 0 else '', subset=['Jumlah Outlier'])\\\n",
        "\n",
        "# Tampilkan Hasilnya\n",
        "display(style_data_outlier)"
      ]
    },
    {
      "cell_type": "code",
      "execution_count": null,
      "metadata": {
        "id": "gMcM9zo01g8u",
        "outputId": "8b3aabef-0ac6-4c0d-916b-3c08d697e747"
      },
      "outputs": [
        {
          "data": {
            "application/vnd.plotly.v1+json": {
              "config": {
                "plotlyServerURL": "https://plot.ly"
              },
              "data": [
                {
                  "alignmentgroup": "True",
                  "hovertemplate": "Adjustment for pollution abatement (Total - all activities)=%{x}<extra></extra>",
                  "legendgroup": "",
                  "marker": {
                    "color": "#FF8F00",
                    "line": {
                      "color": "white",
                      "width": 1
                    }
                  },
                  "name": "",
                  "notched": false,
                  "offsetgroup": "",
                  "orientation": "h",
                  "showlegend": false,
                  "type": "box",
                  "x": [
                    null,
                    -1.07,
                    -0.43,
                    -0.01,
                    -0.34,
                    0.39,
                    -4.01,
                    -0.77,
                    -0.1,
                    2.56,
                    0.32,
                    -1.62,
                    -0.88,
                    -0.75,
                    0.87,
                    -2.09,
                    0.39,
                    1.02,
                    0.99,
                    -0.08,
                    -0.22,
                    0.38,
                    -0.12,
                    null,
                    null,
                    null,
                    null,
                    null,
                    null,
                    null,
                    null,
                    null,
                    null
                  ],
                  "x0": " ",
                  "xaxis": "x",
                  "y0": " ",
                  "yaxis": "y"
                }
              ],
              "layout": {
                "boxmode": "group",
                "height": 400,
                "legend": {
                  "tracegroupgap": 0
                },
                "margin": {
                  "b": 10,
                  "r": 20,
                  "t": 80
                },
                "plot_bgcolor": "rgba(0, 0, 0, 0)",
                "template": {
                  "data": {
                    "bar": [
                      {
                        "error_x": {
                          "color": "#2a3f5f"
                        },
                        "error_y": {
                          "color": "#2a3f5f"
                        },
                        "marker": {
                          "line": {
                            "color": "#E5ECF6",
                            "width": 0.5
                          },
                          "pattern": {
                            "fillmode": "overlay",
                            "size": 10,
                            "solidity": 0.2
                          }
                        },
                        "type": "bar"
                      }
                    ],
                    "barpolar": [
                      {
                        "marker": {
                          "line": {
                            "color": "#E5ECF6",
                            "width": 0.5
                          },
                          "pattern": {
                            "fillmode": "overlay",
                            "size": 10,
                            "solidity": 0.2
                          }
                        },
                        "type": "barpolar"
                      }
                    ],
                    "carpet": [
                      {
                        "aaxis": {
                          "endlinecolor": "#2a3f5f",
                          "gridcolor": "white",
                          "linecolor": "white",
                          "minorgridcolor": "white",
                          "startlinecolor": "#2a3f5f"
                        },
                        "baxis": {
                          "endlinecolor": "#2a3f5f",
                          "gridcolor": "white",
                          "linecolor": "white",
                          "minorgridcolor": "white",
                          "startlinecolor": "#2a3f5f"
                        },
                        "type": "carpet"
                      }
                    ],
                    "choropleth": [
                      {
                        "colorbar": {
                          "outlinewidth": 0,
                          "ticks": ""
                        },
                        "type": "choropleth"
                      }
                    ],
                    "contour": [
                      {
                        "colorbar": {
                          "outlinewidth": 0,
                          "ticks": ""
                        },
                        "colorscale": [
                          [
                            0,
                            "#0d0887"
                          ],
                          [
                            0.1111111111111111,
                            "#46039f"
                          ],
                          [
                            0.2222222222222222,
                            "#7201a8"
                          ],
                          [
                            0.3333333333333333,
                            "#9c179e"
                          ],
                          [
                            0.4444444444444444,
                            "#bd3786"
                          ],
                          [
                            0.5555555555555556,
                            "#d8576b"
                          ],
                          [
                            0.6666666666666666,
                            "#ed7953"
                          ],
                          [
                            0.7777777777777778,
                            "#fb9f3a"
                          ],
                          [
                            0.8888888888888888,
                            "#fdca26"
                          ],
                          [
                            1,
                            "#f0f921"
                          ]
                        ],
                        "type": "contour"
                      }
                    ],
                    "contourcarpet": [
                      {
                        "colorbar": {
                          "outlinewidth": 0,
                          "ticks": ""
                        },
                        "type": "contourcarpet"
                      }
                    ],
                    "heatmap": [
                      {
                        "colorbar": {
                          "outlinewidth": 0,
                          "ticks": ""
                        },
                        "colorscale": [
                          [
                            0,
                            "#0d0887"
                          ],
                          [
                            0.1111111111111111,
                            "#46039f"
                          ],
                          [
                            0.2222222222222222,
                            "#7201a8"
                          ],
                          [
                            0.3333333333333333,
                            "#9c179e"
                          ],
                          [
                            0.4444444444444444,
                            "#bd3786"
                          ],
                          [
                            0.5555555555555556,
                            "#d8576b"
                          ],
                          [
                            0.6666666666666666,
                            "#ed7953"
                          ],
                          [
                            0.7777777777777778,
                            "#fb9f3a"
                          ],
                          [
                            0.8888888888888888,
                            "#fdca26"
                          ],
                          [
                            1,
                            "#f0f921"
                          ]
                        ],
                        "type": "heatmap"
                      }
                    ],
                    "heatmapgl": [
                      {
                        "colorbar": {
                          "outlinewidth": 0,
                          "ticks": ""
                        },
                        "colorscale": [
                          [
                            0,
                            "#0d0887"
                          ],
                          [
                            0.1111111111111111,
                            "#46039f"
                          ],
                          [
                            0.2222222222222222,
                            "#7201a8"
                          ],
                          [
                            0.3333333333333333,
                            "#9c179e"
                          ],
                          [
                            0.4444444444444444,
                            "#bd3786"
                          ],
                          [
                            0.5555555555555556,
                            "#d8576b"
                          ],
                          [
                            0.6666666666666666,
                            "#ed7953"
                          ],
                          [
                            0.7777777777777778,
                            "#fb9f3a"
                          ],
                          [
                            0.8888888888888888,
                            "#fdca26"
                          ],
                          [
                            1,
                            "#f0f921"
                          ]
                        ],
                        "type": "heatmapgl"
                      }
                    ],
                    "histogram": [
                      {
                        "marker": {
                          "pattern": {
                            "fillmode": "overlay",
                            "size": 10,
                            "solidity": 0.2
                          }
                        },
                        "type": "histogram"
                      }
                    ],
                    "histogram2d": [
                      {
                        "colorbar": {
                          "outlinewidth": 0,
                          "ticks": ""
                        },
                        "colorscale": [
                          [
                            0,
                            "#0d0887"
                          ],
                          [
                            0.1111111111111111,
                            "#46039f"
                          ],
                          [
                            0.2222222222222222,
                            "#7201a8"
                          ],
                          [
                            0.3333333333333333,
                            "#9c179e"
                          ],
                          [
                            0.4444444444444444,
                            "#bd3786"
                          ],
                          [
                            0.5555555555555556,
                            "#d8576b"
                          ],
                          [
                            0.6666666666666666,
                            "#ed7953"
                          ],
                          [
                            0.7777777777777778,
                            "#fb9f3a"
                          ],
                          [
                            0.8888888888888888,
                            "#fdca26"
                          ],
                          [
                            1,
                            "#f0f921"
                          ]
                        ],
                        "type": "histogram2d"
                      }
                    ],
                    "histogram2dcontour": [
                      {
                        "colorbar": {
                          "outlinewidth": 0,
                          "ticks": ""
                        },
                        "colorscale": [
                          [
                            0,
                            "#0d0887"
                          ],
                          [
                            0.1111111111111111,
                            "#46039f"
                          ],
                          [
                            0.2222222222222222,
                            "#7201a8"
                          ],
                          [
                            0.3333333333333333,
                            "#9c179e"
                          ],
                          [
                            0.4444444444444444,
                            "#bd3786"
                          ],
                          [
                            0.5555555555555556,
                            "#d8576b"
                          ],
                          [
                            0.6666666666666666,
                            "#ed7953"
                          ],
                          [
                            0.7777777777777778,
                            "#fb9f3a"
                          ],
                          [
                            0.8888888888888888,
                            "#fdca26"
                          ],
                          [
                            1,
                            "#f0f921"
                          ]
                        ],
                        "type": "histogram2dcontour"
                      }
                    ],
                    "mesh3d": [
                      {
                        "colorbar": {
                          "outlinewidth": 0,
                          "ticks": ""
                        },
                        "type": "mesh3d"
                      }
                    ],
                    "parcoords": [
                      {
                        "line": {
                          "colorbar": {
                            "outlinewidth": 0,
                            "ticks": ""
                          }
                        },
                        "type": "parcoords"
                      }
                    ],
                    "pie": [
                      {
                        "automargin": true,
                        "type": "pie"
                      }
                    ],
                    "scatter": [
                      {
                        "fillpattern": {
                          "fillmode": "overlay",
                          "size": 10,
                          "solidity": 0.2
                        },
                        "type": "scatter"
                      }
                    ],
                    "scatter3d": [
                      {
                        "line": {
                          "colorbar": {
                            "outlinewidth": 0,
                            "ticks": ""
                          }
                        },
                        "marker": {
                          "colorbar": {
                            "outlinewidth": 0,
                            "ticks": ""
                          }
                        },
                        "type": "scatter3d"
                      }
                    ],
                    "scattercarpet": [
                      {
                        "marker": {
                          "colorbar": {
                            "outlinewidth": 0,
                            "ticks": ""
                          }
                        },
                        "type": "scattercarpet"
                      }
                    ],
                    "scattergeo": [
                      {
                        "marker": {
                          "colorbar": {
                            "outlinewidth": 0,
                            "ticks": ""
                          }
                        },
                        "type": "scattergeo"
                      }
                    ],
                    "scattergl": [
                      {
                        "marker": {
                          "colorbar": {
                            "outlinewidth": 0,
                            "ticks": ""
                          }
                        },
                        "type": "scattergl"
                      }
                    ],
                    "scattermapbox": [
                      {
                        "marker": {
                          "colorbar": {
                            "outlinewidth": 0,
                            "ticks": ""
                          }
                        },
                        "type": "scattermapbox"
                      }
                    ],
                    "scatterpolar": [
                      {
                        "marker": {
                          "colorbar": {
                            "outlinewidth": 0,
                            "ticks": ""
                          }
                        },
                        "type": "scatterpolar"
                      }
                    ],
                    "scatterpolargl": [
                      {
                        "marker": {
                          "colorbar": {
                            "outlinewidth": 0,
                            "ticks": ""
                          }
                        },
                        "type": "scatterpolargl"
                      }
                    ],
                    "scatterternary": [
                      {
                        "marker": {
                          "colorbar": {
                            "outlinewidth": 0,
                            "ticks": ""
                          }
                        },
                        "type": "scatterternary"
                      }
                    ],
                    "surface": [
                      {
                        "colorbar": {
                          "outlinewidth": 0,
                          "ticks": ""
                        },
                        "colorscale": [
                          [
                            0,
                            "#0d0887"
                          ],
                          [
                            0.1111111111111111,
                            "#46039f"
                          ],
                          [
                            0.2222222222222222,
                            "#7201a8"
                          ],
                          [
                            0.3333333333333333,
                            "#9c179e"
                          ],
                          [
                            0.4444444444444444,
                            "#bd3786"
                          ],
                          [
                            0.5555555555555556,
                            "#d8576b"
                          ],
                          [
                            0.6666666666666666,
                            "#ed7953"
                          ],
                          [
                            0.7777777777777778,
                            "#fb9f3a"
                          ],
                          [
                            0.8888888888888888,
                            "#fdca26"
                          ],
                          [
                            1,
                            "#f0f921"
                          ]
                        ],
                        "type": "surface"
                      }
                    ],
                    "table": [
                      {
                        "cells": {
                          "fill": {
                            "color": "#EBF0F8"
                          },
                          "line": {
                            "color": "white"
                          }
                        },
                        "header": {
                          "fill": {
                            "color": "#C8D4E3"
                          },
                          "line": {
                            "color": "white"
                          }
                        },
                        "type": "table"
                      }
                    ]
                  },
                  "layout": {
                    "annotationdefaults": {
                      "arrowcolor": "#2a3f5f",
                      "arrowhead": 0,
                      "arrowwidth": 1
                    },
                    "autotypenumbers": "strict",
                    "coloraxis": {
                      "colorbar": {
                        "outlinewidth": 0,
                        "ticks": ""
                      }
                    },
                    "colorscale": {
                      "diverging": [
                        [
                          0,
                          "#8e0152"
                        ],
                        [
                          0.1,
                          "#c51b7d"
                        ],
                        [
                          0.2,
                          "#de77ae"
                        ],
                        [
                          0.3,
                          "#f1b6da"
                        ],
                        [
                          0.4,
                          "#fde0ef"
                        ],
                        [
                          0.5,
                          "#f7f7f7"
                        ],
                        [
                          0.6,
                          "#e6f5d0"
                        ],
                        [
                          0.7,
                          "#b8e186"
                        ],
                        [
                          0.8,
                          "#7fbc41"
                        ],
                        [
                          0.9,
                          "#4d9221"
                        ],
                        [
                          1,
                          "#276419"
                        ]
                      ],
                      "sequential": [
                        [
                          0,
                          "#0d0887"
                        ],
                        [
                          0.1111111111111111,
                          "#46039f"
                        ],
                        [
                          0.2222222222222222,
                          "#7201a8"
                        ],
                        [
                          0.3333333333333333,
                          "#9c179e"
                        ],
                        [
                          0.4444444444444444,
                          "#bd3786"
                        ],
                        [
                          0.5555555555555556,
                          "#d8576b"
                        ],
                        [
                          0.6666666666666666,
                          "#ed7953"
                        ],
                        [
                          0.7777777777777778,
                          "#fb9f3a"
                        ],
                        [
                          0.8888888888888888,
                          "#fdca26"
                        ],
                        [
                          1,
                          "#f0f921"
                        ]
                      ],
                      "sequentialminus": [
                        [
                          0,
                          "#0d0887"
                        ],
                        [
                          0.1111111111111111,
                          "#46039f"
                        ],
                        [
                          0.2222222222222222,
                          "#7201a8"
                        ],
                        [
                          0.3333333333333333,
                          "#9c179e"
                        ],
                        [
                          0.4444444444444444,
                          "#bd3786"
                        ],
                        [
                          0.5555555555555556,
                          "#d8576b"
                        ],
                        [
                          0.6666666666666666,
                          "#ed7953"
                        ],
                        [
                          0.7777777777777778,
                          "#fb9f3a"
                        ],
                        [
                          0.8888888888888888,
                          "#fdca26"
                        ],
                        [
                          1,
                          "#f0f921"
                        ]
                      ]
                    },
                    "colorway": [
                      "#636efa",
                      "#EF553B",
                      "#00cc96",
                      "#ab63fa",
                      "#FFA15A",
                      "#19d3f3",
                      "#FF6692",
                      "#B6E880",
                      "#FF97FF",
                      "#FECB52"
                    ],
                    "font": {
                      "color": "#2a3f5f"
                    },
                    "geo": {
                      "bgcolor": "white",
                      "lakecolor": "white",
                      "landcolor": "#E5ECF6",
                      "showlakes": true,
                      "showland": true,
                      "subunitcolor": "white"
                    },
                    "hoverlabel": {
                      "align": "left"
                    },
                    "hovermode": "closest",
                    "mapbox": {
                      "style": "light"
                    },
                    "paper_bgcolor": "white",
                    "plot_bgcolor": "#E5ECF6",
                    "polar": {
                      "angularaxis": {
                        "gridcolor": "white",
                        "linecolor": "white",
                        "ticks": ""
                      },
                      "bgcolor": "#E5ECF6",
                      "radialaxis": {
                        "gridcolor": "white",
                        "linecolor": "white",
                        "ticks": ""
                      }
                    },
                    "scene": {
                      "xaxis": {
                        "backgroundcolor": "#E5ECF6",
                        "gridcolor": "white",
                        "gridwidth": 2,
                        "linecolor": "white",
                        "showbackground": true,
                        "ticks": "",
                        "zerolinecolor": "white"
                      },
                      "yaxis": {
                        "backgroundcolor": "#E5ECF6",
                        "gridcolor": "white",
                        "gridwidth": 2,
                        "linecolor": "white",
                        "showbackground": true,
                        "ticks": "",
                        "zerolinecolor": "white"
                      },
                      "zaxis": {
                        "backgroundcolor": "#E5ECF6",
                        "gridcolor": "white",
                        "gridwidth": 2,
                        "linecolor": "white",
                        "showbackground": true,
                        "ticks": "",
                        "zerolinecolor": "white"
                      }
                    },
                    "shapedefaults": {
                      "line": {
                        "color": "#2a3f5f"
                      }
                    },
                    "ternary": {
                      "aaxis": {
                        "gridcolor": "white",
                        "linecolor": "white",
                        "ticks": ""
                      },
                      "baxis": {
                        "gridcolor": "white",
                        "linecolor": "white",
                        "ticks": ""
                      },
                      "bgcolor": "#E5ECF6",
                      "caxis": {
                        "gridcolor": "white",
                        "linecolor": "white",
                        "ticks": ""
                      }
                    },
                    "title": {
                      "x": 0.05
                    },
                    "xaxis": {
                      "automargin": true,
                      "gridcolor": "white",
                      "linecolor": "white",
                      "ticks": "",
                      "title": {
                        "standoff": 15
                      },
                      "zerolinecolor": "white",
                      "zerolinewidth": 2
                    },
                    "yaxis": {
                      "automargin": true,
                      "gridcolor": "white",
                      "linecolor": "white",
                      "ticks": "",
                      "title": {
                        "standoff": 15
                      },
                      "zerolinecolor": "white",
                      "zerolinewidth": 2
                    }
                  }
                },
                "title": {
                  "font": {
                    "color": "#757882",
                    "size": 28
                  },
                  "text": "<b>Box Plot<br><span style='color:#FF8F00; font-size: 15px;'>Adjustment for pollution abatement (Total - all activities)</b>",
                  "x": 0.5,
                  "y": 0.92
                },
                "width": 1000,
                "xaxis": {
                  "anchor": "y",
                  "domain": [
                    0,
                    1
                  ],
                  "title": {
                    "text": "Adjustment for pollution abatement (Total - all activities)"
                  }
                },
                "yaxis": {
                  "anchor": "x",
                  "domain": [
                    0,
                    1
                  ],
                  "showgrid": false,
                  "showline": false,
                  "showticklabels": false,
                  "title": {
                    "text": ""
                  },
                  "zeroline": false
                }
              }
            }
          },
          "metadata": {},
          "output_type": "display_data"
        },
        {
          "data": {
            "application/vnd.plotly.v1+json": {
              "config": {
                "plotlyServerURL": "https://plot.ly"
              },
              "data": [
                {
                  "alignmentgroup": "True",
                  "hovertemplate": "CO2 emissions from air transport per unit of GDP (Total - all activities)=%{x}<extra></extra>",
                  "legendgroup": "",
                  "marker": {
                    "color": "#AF47D2",
                    "line": {
                      "color": "white",
                      "width": 1
                    }
                  },
                  "name": "",
                  "notched": false,
                  "offsetgroup": "",
                  "orientation": "h",
                  "showlegend": false,
                  "type": "box",
                  "x": [
                    null,
                    null,
                    null,
                    null,
                    null,
                    null,
                    null,
                    null,
                    null,
                    null,
                    null,
                    null,
                    null,
                    null,
                    null,
                    null,
                    null,
                    null,
                    null,
                    null,
                    null,
                    null,
                    null,
                    4,
                    4,
                    4.04,
                    4.28,
                    4.64,
                    4.56,
                    3.91,
                    2.94,
                    2.49,
                    null
                  ],
                  "x0": " ",
                  "xaxis": "x",
                  "y0": " ",
                  "yaxis": "y"
                }
              ],
              "layout": {
                "boxmode": "group",
                "height": 400,
                "legend": {
                  "tracegroupgap": 0
                },
                "margin": {
                  "b": 10,
                  "r": 20,
                  "t": 80
                },
                "plot_bgcolor": "rgba(0, 0, 0, 0)",
                "template": {
                  "data": {
                    "bar": [
                      {
                        "error_x": {
                          "color": "#2a3f5f"
                        },
                        "error_y": {
                          "color": "#2a3f5f"
                        },
                        "marker": {
                          "line": {
                            "color": "#E5ECF6",
                            "width": 0.5
                          },
                          "pattern": {
                            "fillmode": "overlay",
                            "size": 10,
                            "solidity": 0.2
                          }
                        },
                        "type": "bar"
                      }
                    ],
                    "barpolar": [
                      {
                        "marker": {
                          "line": {
                            "color": "#E5ECF6",
                            "width": 0.5
                          },
                          "pattern": {
                            "fillmode": "overlay",
                            "size": 10,
                            "solidity": 0.2
                          }
                        },
                        "type": "barpolar"
                      }
                    ],
                    "carpet": [
                      {
                        "aaxis": {
                          "endlinecolor": "#2a3f5f",
                          "gridcolor": "white",
                          "linecolor": "white",
                          "minorgridcolor": "white",
                          "startlinecolor": "#2a3f5f"
                        },
                        "baxis": {
                          "endlinecolor": "#2a3f5f",
                          "gridcolor": "white",
                          "linecolor": "white",
                          "minorgridcolor": "white",
                          "startlinecolor": "#2a3f5f"
                        },
                        "type": "carpet"
                      }
                    ],
                    "choropleth": [
                      {
                        "colorbar": {
                          "outlinewidth": 0,
                          "ticks": ""
                        },
                        "type": "choropleth"
                      }
                    ],
                    "contour": [
                      {
                        "colorbar": {
                          "outlinewidth": 0,
                          "ticks": ""
                        },
                        "colorscale": [
                          [
                            0,
                            "#0d0887"
                          ],
                          [
                            0.1111111111111111,
                            "#46039f"
                          ],
                          [
                            0.2222222222222222,
                            "#7201a8"
                          ],
                          [
                            0.3333333333333333,
                            "#9c179e"
                          ],
                          [
                            0.4444444444444444,
                            "#bd3786"
                          ],
                          [
                            0.5555555555555556,
                            "#d8576b"
                          ],
                          [
                            0.6666666666666666,
                            "#ed7953"
                          ],
                          [
                            0.7777777777777778,
                            "#fb9f3a"
                          ],
                          [
                            0.8888888888888888,
                            "#fdca26"
                          ],
                          [
                            1,
                            "#f0f921"
                          ]
                        ],
                        "type": "contour"
                      }
                    ],
                    "contourcarpet": [
                      {
                        "colorbar": {
                          "outlinewidth": 0,
                          "ticks": ""
                        },
                        "type": "contourcarpet"
                      }
                    ],
                    "heatmap": [
                      {
                        "colorbar": {
                          "outlinewidth": 0,
                          "ticks": ""
                        },
                        "colorscale": [
                          [
                            0,
                            "#0d0887"
                          ],
                          [
                            0.1111111111111111,
                            "#46039f"
                          ],
                          [
                            0.2222222222222222,
                            "#7201a8"
                          ],
                          [
                            0.3333333333333333,
                            "#9c179e"
                          ],
                          [
                            0.4444444444444444,
                            "#bd3786"
                          ],
                          [
                            0.5555555555555556,
                            "#d8576b"
                          ],
                          [
                            0.6666666666666666,
                            "#ed7953"
                          ],
                          [
                            0.7777777777777778,
                            "#fb9f3a"
                          ],
                          [
                            0.8888888888888888,
                            "#fdca26"
                          ],
                          [
                            1,
                            "#f0f921"
                          ]
                        ],
                        "type": "heatmap"
                      }
                    ],
                    "heatmapgl": [
                      {
                        "colorbar": {
                          "outlinewidth": 0,
                          "ticks": ""
                        },
                        "colorscale": [
                          [
                            0,
                            "#0d0887"
                          ],
                          [
                            0.1111111111111111,
                            "#46039f"
                          ],
                          [
                            0.2222222222222222,
                            "#7201a8"
                          ],
                          [
                            0.3333333333333333,
                            "#9c179e"
                          ],
                          [
                            0.4444444444444444,
                            "#bd3786"
                          ],
                          [
                            0.5555555555555556,
                            "#d8576b"
                          ],
                          [
                            0.6666666666666666,
                            "#ed7953"
                          ],
                          [
                            0.7777777777777778,
                            "#fb9f3a"
                          ],
                          [
                            0.8888888888888888,
                            "#fdca26"
                          ],
                          [
                            1,
                            "#f0f921"
                          ]
                        ],
                        "type": "heatmapgl"
                      }
                    ],
                    "histogram": [
                      {
                        "marker": {
                          "pattern": {
                            "fillmode": "overlay",
                            "size": 10,
                            "solidity": 0.2
                          }
                        },
                        "type": "histogram"
                      }
                    ],
                    "histogram2d": [
                      {
                        "colorbar": {
                          "outlinewidth": 0,
                          "ticks": ""
                        },
                        "colorscale": [
                          [
                            0,
                            "#0d0887"
                          ],
                          [
                            0.1111111111111111,
                            "#46039f"
                          ],
                          [
                            0.2222222222222222,
                            "#7201a8"
                          ],
                          [
                            0.3333333333333333,
                            "#9c179e"
                          ],
                          [
                            0.4444444444444444,
                            "#bd3786"
                          ],
                          [
                            0.5555555555555556,
                            "#d8576b"
                          ],
                          [
                            0.6666666666666666,
                            "#ed7953"
                          ],
                          [
                            0.7777777777777778,
                            "#fb9f3a"
                          ],
                          [
                            0.8888888888888888,
                            "#fdca26"
                          ],
                          [
                            1,
                            "#f0f921"
                          ]
                        ],
                        "type": "histogram2d"
                      }
                    ],
                    "histogram2dcontour": [
                      {
                        "colorbar": {
                          "outlinewidth": 0,
                          "ticks": ""
                        },
                        "colorscale": [
                          [
                            0,
                            "#0d0887"
                          ],
                          [
                            0.1111111111111111,
                            "#46039f"
                          ],
                          [
                            0.2222222222222222,
                            "#7201a8"
                          ],
                          [
                            0.3333333333333333,
                            "#9c179e"
                          ],
                          [
                            0.4444444444444444,
                            "#bd3786"
                          ],
                          [
                            0.5555555555555556,
                            "#d8576b"
                          ],
                          [
                            0.6666666666666666,
                            "#ed7953"
                          ],
                          [
                            0.7777777777777778,
                            "#fb9f3a"
                          ],
                          [
                            0.8888888888888888,
                            "#fdca26"
                          ],
                          [
                            1,
                            "#f0f921"
                          ]
                        ],
                        "type": "histogram2dcontour"
                      }
                    ],
                    "mesh3d": [
                      {
                        "colorbar": {
                          "outlinewidth": 0,
                          "ticks": ""
                        },
                        "type": "mesh3d"
                      }
                    ],
                    "parcoords": [
                      {
                        "line": {
                          "colorbar": {
                            "outlinewidth": 0,
                            "ticks": ""
                          }
                        },
                        "type": "parcoords"
                      }
                    ],
                    "pie": [
                      {
                        "automargin": true,
                        "type": "pie"
                      }
                    ],
                    "scatter": [
                      {
                        "fillpattern": {
                          "fillmode": "overlay",
                          "size": 10,
                          "solidity": 0.2
                        },
                        "type": "scatter"
                      }
                    ],
                    "scatter3d": [
                      {
                        "line": {
                          "colorbar": {
                            "outlinewidth": 0,
                            "ticks": ""
                          }
                        },
                        "marker": {
                          "colorbar": {
                            "outlinewidth": 0,
                            "ticks": ""
                          }
                        },
                        "type": "scatter3d"
                      }
                    ],
                    "scattercarpet": [
                      {
                        "marker": {
                          "colorbar": {
                            "outlinewidth": 0,
                            "ticks": ""
                          }
                        },
                        "type": "scattercarpet"
                      }
                    ],
                    "scattergeo": [
                      {
                        "marker": {
                          "colorbar": {
                            "outlinewidth": 0,
                            "ticks": ""
                          }
                        },
                        "type": "scattergeo"
                      }
                    ],
                    "scattergl": [
                      {
                        "marker": {
                          "colorbar": {
                            "outlinewidth": 0,
                            "ticks": ""
                          }
                        },
                        "type": "scattergl"
                      }
                    ],
                    "scattermapbox": [
                      {
                        "marker": {
                          "colorbar": {
                            "outlinewidth": 0,
                            "ticks": ""
                          }
                        },
                        "type": "scattermapbox"
                      }
                    ],
                    "scatterpolar": [
                      {
                        "marker": {
                          "colorbar": {
                            "outlinewidth": 0,
                            "ticks": ""
                          }
                        },
                        "type": "scatterpolar"
                      }
                    ],
                    "scatterpolargl": [
                      {
                        "marker": {
                          "colorbar": {
                            "outlinewidth": 0,
                            "ticks": ""
                          }
                        },
                        "type": "scatterpolargl"
                      }
                    ],
                    "scatterternary": [
                      {
                        "marker": {
                          "colorbar": {
                            "outlinewidth": 0,
                            "ticks": ""
                          }
                        },
                        "type": "scatterternary"
                      }
                    ],
                    "surface": [
                      {
                        "colorbar": {
                          "outlinewidth": 0,
                          "ticks": ""
                        },
                        "colorscale": [
                          [
                            0,
                            "#0d0887"
                          ],
                          [
                            0.1111111111111111,
                            "#46039f"
                          ],
                          [
                            0.2222222222222222,
                            "#7201a8"
                          ],
                          [
                            0.3333333333333333,
                            "#9c179e"
                          ],
                          [
                            0.4444444444444444,
                            "#bd3786"
                          ],
                          [
                            0.5555555555555556,
                            "#d8576b"
                          ],
                          [
                            0.6666666666666666,
                            "#ed7953"
                          ],
                          [
                            0.7777777777777778,
                            "#fb9f3a"
                          ],
                          [
                            0.8888888888888888,
                            "#fdca26"
                          ],
                          [
                            1,
                            "#f0f921"
                          ]
                        ],
                        "type": "surface"
                      }
                    ],
                    "table": [
                      {
                        "cells": {
                          "fill": {
                            "color": "#EBF0F8"
                          },
                          "line": {
                            "color": "white"
                          }
                        },
                        "header": {
                          "fill": {
                            "color": "#C8D4E3"
                          },
                          "line": {
                            "color": "white"
                          }
                        },
                        "type": "table"
                      }
                    ]
                  },
                  "layout": {
                    "annotationdefaults": {
                      "arrowcolor": "#2a3f5f",
                      "arrowhead": 0,
                      "arrowwidth": 1
                    },
                    "autotypenumbers": "strict",
                    "coloraxis": {
                      "colorbar": {
                        "outlinewidth": 0,
                        "ticks": ""
                      }
                    },
                    "colorscale": {
                      "diverging": [
                        [
                          0,
                          "#8e0152"
                        ],
                        [
                          0.1,
                          "#c51b7d"
                        ],
                        [
                          0.2,
                          "#de77ae"
                        ],
                        [
                          0.3,
                          "#f1b6da"
                        ],
                        [
                          0.4,
                          "#fde0ef"
                        ],
                        [
                          0.5,
                          "#f7f7f7"
                        ],
                        [
                          0.6,
                          "#e6f5d0"
                        ],
                        [
                          0.7,
                          "#b8e186"
                        ],
                        [
                          0.8,
                          "#7fbc41"
                        ],
                        [
                          0.9,
                          "#4d9221"
                        ],
                        [
                          1,
                          "#276419"
                        ]
                      ],
                      "sequential": [
                        [
                          0,
                          "#0d0887"
                        ],
                        [
                          0.1111111111111111,
                          "#46039f"
                        ],
                        [
                          0.2222222222222222,
                          "#7201a8"
                        ],
                        [
                          0.3333333333333333,
                          "#9c179e"
                        ],
                        [
                          0.4444444444444444,
                          "#bd3786"
                        ],
                        [
                          0.5555555555555556,
                          "#d8576b"
                        ],
                        [
                          0.6666666666666666,
                          "#ed7953"
                        ],
                        [
                          0.7777777777777778,
                          "#fb9f3a"
                        ],
                        [
                          0.8888888888888888,
                          "#fdca26"
                        ],
                        [
                          1,
                          "#f0f921"
                        ]
                      ],
                      "sequentialminus": [
                        [
                          0,
                          "#0d0887"
                        ],
                        [
                          0.1111111111111111,
                          "#46039f"
                        ],
                        [
                          0.2222222222222222,
                          "#7201a8"
                        ],
                        [
                          0.3333333333333333,
                          "#9c179e"
                        ],
                        [
                          0.4444444444444444,
                          "#bd3786"
                        ],
                        [
                          0.5555555555555556,
                          "#d8576b"
                        ],
                        [
                          0.6666666666666666,
                          "#ed7953"
                        ],
                        [
                          0.7777777777777778,
                          "#fb9f3a"
                        ],
                        [
                          0.8888888888888888,
                          "#fdca26"
                        ],
                        [
                          1,
                          "#f0f921"
                        ]
                      ]
                    },
                    "colorway": [
                      "#636efa",
                      "#EF553B",
                      "#00cc96",
                      "#ab63fa",
                      "#FFA15A",
                      "#19d3f3",
                      "#FF6692",
                      "#B6E880",
                      "#FF97FF",
                      "#FECB52"
                    ],
                    "font": {
                      "color": "#2a3f5f"
                    },
                    "geo": {
                      "bgcolor": "white",
                      "lakecolor": "white",
                      "landcolor": "#E5ECF6",
                      "showlakes": true,
                      "showland": true,
                      "subunitcolor": "white"
                    },
                    "hoverlabel": {
                      "align": "left"
                    },
                    "hovermode": "closest",
                    "mapbox": {
                      "style": "light"
                    },
                    "paper_bgcolor": "white",
                    "plot_bgcolor": "#E5ECF6",
                    "polar": {
                      "angularaxis": {
                        "gridcolor": "white",
                        "linecolor": "white",
                        "ticks": ""
                      },
                      "bgcolor": "#E5ECF6",
                      "radialaxis": {
                        "gridcolor": "white",
                        "linecolor": "white",
                        "ticks": ""
                      }
                    },
                    "scene": {
                      "xaxis": {
                        "backgroundcolor": "#E5ECF6",
                        "gridcolor": "white",
                        "gridwidth": 2,
                        "linecolor": "white",
                        "showbackground": true,
                        "ticks": "",
                        "zerolinecolor": "white"
                      },
                      "yaxis": {
                        "backgroundcolor": "#E5ECF6",
                        "gridcolor": "white",
                        "gridwidth": 2,
                        "linecolor": "white",
                        "showbackground": true,
                        "ticks": "",
                        "zerolinecolor": "white"
                      },
                      "zaxis": {
                        "backgroundcolor": "#E5ECF6",
                        "gridcolor": "white",
                        "gridwidth": 2,
                        "linecolor": "white",
                        "showbackground": true,
                        "ticks": "",
                        "zerolinecolor": "white"
                      }
                    },
                    "shapedefaults": {
                      "line": {
                        "color": "#2a3f5f"
                      }
                    },
                    "ternary": {
                      "aaxis": {
                        "gridcolor": "white",
                        "linecolor": "white",
                        "ticks": ""
                      },
                      "baxis": {
                        "gridcolor": "white",
                        "linecolor": "white",
                        "ticks": ""
                      },
                      "bgcolor": "#E5ECF6",
                      "caxis": {
                        "gridcolor": "white",
                        "linecolor": "white",
                        "ticks": ""
                      }
                    },
                    "title": {
                      "x": 0.05
                    },
                    "xaxis": {
                      "automargin": true,
                      "gridcolor": "white",
                      "linecolor": "white",
                      "ticks": "",
                      "title": {
                        "standoff": 15
                      },
                      "zerolinecolor": "white",
                      "zerolinewidth": 2
                    },
                    "yaxis": {
                      "automargin": true,
                      "gridcolor": "white",
                      "linecolor": "white",
                      "ticks": "",
                      "title": {
                        "standoff": 15
                      },
                      "zerolinecolor": "white",
                      "zerolinewidth": 2
                    }
                  }
                },
                "title": {
                  "font": {
                    "color": "#757882",
                    "size": 28
                  },
                  "text": "<b>Box Plot<br><span style='color:#AF47D2; font-size: 15px;'>CO2 emissions from air transport per unit of GDP (Total - all activities)</b>",
                  "x": 0.5,
                  "y": 0.92
                },
                "width": 1000,
                "xaxis": {
                  "anchor": "y",
                  "domain": [
                    0,
                    1
                  ],
                  "title": {
                    "text": "CO2 emissions from air transport per unit of GDP (Total - all activities)"
                  }
                },
                "yaxis": {
                  "anchor": "x",
                  "domain": [
                    0,
                    1
                  ],
                  "showgrid": false,
                  "showline": false,
                  "showticklabels": false,
                  "title": {
                    "text": ""
                  },
                  "zeroline": false
                }
              }
            }
          },
          "metadata": {},
          "output_type": "display_data"
        },
        {
          "data": {
            "application/vnd.plotly.v1+json": {
              "config": {
                "plotlyServerURL": "https://plot.ly"
              },
              "data": [
                {
                  "alignmentgroup": "True",
                  "hovertemplate": "Consumption of biomass (Total - all activities)=%{x}<extra></extra>",
                  "legendgroup": "",
                  "marker": {
                    "color": "#FFDB00",
                    "line": {
                      "color": "white",
                      "width": 1
                    }
                  },
                  "name": "",
                  "notched": false,
                  "offsetgroup": "",
                  "orientation": "h",
                  "showlegend": false,
                  "type": "box",
                  "x": [
                    77.65,
                    73.73,
                    73.18,
                    71.37,
                    66.86,
                    64.51,
                    63.61,
                    61.94,
                    66.38,
                    67.59,
                    64.05,
                    62.73,
                    61.28,
                    60.69,
                    63.65,
                    62,
                    63.6,
                    63.11,
                    65.4,
                    67.78,
                    67.39,
                    70.15,
                    61.78,
                    60.72,
                    60.98,
                    59.98,
                    58.2,
                    57.36,
                    55.69,
                    56.19,
                    null,
                    null,
                    null
                  ],
                  "x0": " ",
                  "xaxis": "x",
                  "y0": " ",
                  "yaxis": "y"
                }
              ],
              "layout": {
                "boxmode": "group",
                "height": 400,
                "legend": {
                  "tracegroupgap": 0
                },
                "margin": {
                  "b": 10,
                  "r": 20,
                  "t": 80
                },
                "plot_bgcolor": "rgba(0, 0, 0, 0)",
                "template": {
                  "data": {
                    "bar": [
                      {
                        "error_x": {
                          "color": "#2a3f5f"
                        },
                        "error_y": {
                          "color": "#2a3f5f"
                        },
                        "marker": {
                          "line": {
                            "color": "#E5ECF6",
                            "width": 0.5
                          },
                          "pattern": {
                            "fillmode": "overlay",
                            "size": 10,
                            "solidity": 0.2
                          }
                        },
                        "type": "bar"
                      }
                    ],
                    "barpolar": [
                      {
                        "marker": {
                          "line": {
                            "color": "#E5ECF6",
                            "width": 0.5
                          },
                          "pattern": {
                            "fillmode": "overlay",
                            "size": 10,
                            "solidity": 0.2
                          }
                        },
                        "type": "barpolar"
                      }
                    ],
                    "carpet": [
                      {
                        "aaxis": {
                          "endlinecolor": "#2a3f5f",
                          "gridcolor": "white",
                          "linecolor": "white",
                          "minorgridcolor": "white",
                          "startlinecolor": "#2a3f5f"
                        },
                        "baxis": {
                          "endlinecolor": "#2a3f5f",
                          "gridcolor": "white",
                          "linecolor": "white",
                          "minorgridcolor": "white",
                          "startlinecolor": "#2a3f5f"
                        },
                        "type": "carpet"
                      }
                    ],
                    "choropleth": [
                      {
                        "colorbar": {
                          "outlinewidth": 0,
                          "ticks": ""
                        },
                        "type": "choropleth"
                      }
                    ],
                    "contour": [
                      {
                        "colorbar": {
                          "outlinewidth": 0,
                          "ticks": ""
                        },
                        "colorscale": [
                          [
                            0,
                            "#0d0887"
                          ],
                          [
                            0.1111111111111111,
                            "#46039f"
                          ],
                          [
                            0.2222222222222222,
                            "#7201a8"
                          ],
                          [
                            0.3333333333333333,
                            "#9c179e"
                          ],
                          [
                            0.4444444444444444,
                            "#bd3786"
                          ],
                          [
                            0.5555555555555556,
                            "#d8576b"
                          ],
                          [
                            0.6666666666666666,
                            "#ed7953"
                          ],
                          [
                            0.7777777777777778,
                            "#fb9f3a"
                          ],
                          [
                            0.8888888888888888,
                            "#fdca26"
                          ],
                          [
                            1,
                            "#f0f921"
                          ]
                        ],
                        "type": "contour"
                      }
                    ],
                    "contourcarpet": [
                      {
                        "colorbar": {
                          "outlinewidth": 0,
                          "ticks": ""
                        },
                        "type": "contourcarpet"
                      }
                    ],
                    "heatmap": [
                      {
                        "colorbar": {
                          "outlinewidth": 0,
                          "ticks": ""
                        },
                        "colorscale": [
                          [
                            0,
                            "#0d0887"
                          ],
                          [
                            0.1111111111111111,
                            "#46039f"
                          ],
                          [
                            0.2222222222222222,
                            "#7201a8"
                          ],
                          [
                            0.3333333333333333,
                            "#9c179e"
                          ],
                          [
                            0.4444444444444444,
                            "#bd3786"
                          ],
                          [
                            0.5555555555555556,
                            "#d8576b"
                          ],
                          [
                            0.6666666666666666,
                            "#ed7953"
                          ],
                          [
                            0.7777777777777778,
                            "#fb9f3a"
                          ],
                          [
                            0.8888888888888888,
                            "#fdca26"
                          ],
                          [
                            1,
                            "#f0f921"
                          ]
                        ],
                        "type": "heatmap"
                      }
                    ],
                    "heatmapgl": [
                      {
                        "colorbar": {
                          "outlinewidth": 0,
                          "ticks": ""
                        },
                        "colorscale": [
                          [
                            0,
                            "#0d0887"
                          ],
                          [
                            0.1111111111111111,
                            "#46039f"
                          ],
                          [
                            0.2222222222222222,
                            "#7201a8"
                          ],
                          [
                            0.3333333333333333,
                            "#9c179e"
                          ],
                          [
                            0.4444444444444444,
                            "#bd3786"
                          ],
                          [
                            0.5555555555555556,
                            "#d8576b"
                          ],
                          [
                            0.6666666666666666,
                            "#ed7953"
                          ],
                          [
                            0.7777777777777778,
                            "#fb9f3a"
                          ],
                          [
                            0.8888888888888888,
                            "#fdca26"
                          ],
                          [
                            1,
                            "#f0f921"
                          ]
                        ],
                        "type": "heatmapgl"
                      }
                    ],
                    "histogram": [
                      {
                        "marker": {
                          "pattern": {
                            "fillmode": "overlay",
                            "size": 10,
                            "solidity": 0.2
                          }
                        },
                        "type": "histogram"
                      }
                    ],
                    "histogram2d": [
                      {
                        "colorbar": {
                          "outlinewidth": 0,
                          "ticks": ""
                        },
                        "colorscale": [
                          [
                            0,
                            "#0d0887"
                          ],
                          [
                            0.1111111111111111,
                            "#46039f"
                          ],
                          [
                            0.2222222222222222,
                            "#7201a8"
                          ],
                          [
                            0.3333333333333333,
                            "#9c179e"
                          ],
                          [
                            0.4444444444444444,
                            "#bd3786"
                          ],
                          [
                            0.5555555555555556,
                            "#d8576b"
                          ],
                          [
                            0.6666666666666666,
                            "#ed7953"
                          ],
                          [
                            0.7777777777777778,
                            "#fb9f3a"
                          ],
                          [
                            0.8888888888888888,
                            "#fdca26"
                          ],
                          [
                            1,
                            "#f0f921"
                          ]
                        ],
                        "type": "histogram2d"
                      }
                    ],
                    "histogram2dcontour": [
                      {
                        "colorbar": {
                          "outlinewidth": 0,
                          "ticks": ""
                        },
                        "colorscale": [
                          [
                            0,
                            "#0d0887"
                          ],
                          [
                            0.1111111111111111,
                            "#46039f"
                          ],
                          [
                            0.2222222222222222,
                            "#7201a8"
                          ],
                          [
                            0.3333333333333333,
                            "#9c179e"
                          ],
                          [
                            0.4444444444444444,
                            "#bd3786"
                          ],
                          [
                            0.5555555555555556,
                            "#d8576b"
                          ],
                          [
                            0.6666666666666666,
                            "#ed7953"
                          ],
                          [
                            0.7777777777777778,
                            "#fb9f3a"
                          ],
                          [
                            0.8888888888888888,
                            "#fdca26"
                          ],
                          [
                            1,
                            "#f0f921"
                          ]
                        ],
                        "type": "histogram2dcontour"
                      }
                    ],
                    "mesh3d": [
                      {
                        "colorbar": {
                          "outlinewidth": 0,
                          "ticks": ""
                        },
                        "type": "mesh3d"
                      }
                    ],
                    "parcoords": [
                      {
                        "line": {
                          "colorbar": {
                            "outlinewidth": 0,
                            "ticks": ""
                          }
                        },
                        "type": "parcoords"
                      }
                    ],
                    "pie": [
                      {
                        "automargin": true,
                        "type": "pie"
                      }
                    ],
                    "scatter": [
                      {
                        "fillpattern": {
                          "fillmode": "overlay",
                          "size": 10,
                          "solidity": 0.2
                        },
                        "type": "scatter"
                      }
                    ],
                    "scatter3d": [
                      {
                        "line": {
                          "colorbar": {
                            "outlinewidth": 0,
                            "ticks": ""
                          }
                        },
                        "marker": {
                          "colorbar": {
                            "outlinewidth": 0,
                            "ticks": ""
                          }
                        },
                        "type": "scatter3d"
                      }
                    ],
                    "scattercarpet": [
                      {
                        "marker": {
                          "colorbar": {
                            "outlinewidth": 0,
                            "ticks": ""
                          }
                        },
                        "type": "scattercarpet"
                      }
                    ],
                    "scattergeo": [
                      {
                        "marker": {
                          "colorbar": {
                            "outlinewidth": 0,
                            "ticks": ""
                          }
                        },
                        "type": "scattergeo"
                      }
                    ],
                    "scattergl": [
                      {
                        "marker": {
                          "colorbar": {
                            "outlinewidth": 0,
                            "ticks": ""
                          }
                        },
                        "type": "scattergl"
                      }
                    ],
                    "scattermapbox": [
                      {
                        "marker": {
                          "colorbar": {
                            "outlinewidth": 0,
                            "ticks": ""
                          }
                        },
                        "type": "scattermapbox"
                      }
                    ],
                    "scatterpolar": [
                      {
                        "marker": {
                          "colorbar": {
                            "outlinewidth": 0,
                            "ticks": ""
                          }
                        },
                        "type": "scatterpolar"
                      }
                    ],
                    "scatterpolargl": [
                      {
                        "marker": {
                          "colorbar": {
                            "outlinewidth": 0,
                            "ticks": ""
                          }
                        },
                        "type": "scatterpolargl"
                      }
                    ],
                    "scatterternary": [
                      {
                        "marker": {
                          "colorbar": {
                            "outlinewidth": 0,
                            "ticks": ""
                          }
                        },
                        "type": "scatterternary"
                      }
                    ],
                    "surface": [
                      {
                        "colorbar": {
                          "outlinewidth": 0,
                          "ticks": ""
                        },
                        "colorscale": [
                          [
                            0,
                            "#0d0887"
                          ],
                          [
                            0.1111111111111111,
                            "#46039f"
                          ],
                          [
                            0.2222222222222222,
                            "#7201a8"
                          ],
                          [
                            0.3333333333333333,
                            "#9c179e"
                          ],
                          [
                            0.4444444444444444,
                            "#bd3786"
                          ],
                          [
                            0.5555555555555556,
                            "#d8576b"
                          ],
                          [
                            0.6666666666666666,
                            "#ed7953"
                          ],
                          [
                            0.7777777777777778,
                            "#fb9f3a"
                          ],
                          [
                            0.8888888888888888,
                            "#fdca26"
                          ],
                          [
                            1,
                            "#f0f921"
                          ]
                        ],
                        "type": "surface"
                      }
                    ],
                    "table": [
                      {
                        "cells": {
                          "fill": {
                            "color": "#EBF0F8"
                          },
                          "line": {
                            "color": "white"
                          }
                        },
                        "header": {
                          "fill": {
                            "color": "#C8D4E3"
                          },
                          "line": {
                            "color": "white"
                          }
                        },
                        "type": "table"
                      }
                    ]
                  },
                  "layout": {
                    "annotationdefaults": {
                      "arrowcolor": "#2a3f5f",
                      "arrowhead": 0,
                      "arrowwidth": 1
                    },
                    "autotypenumbers": "strict",
                    "coloraxis": {
                      "colorbar": {
                        "outlinewidth": 0,
                        "ticks": ""
                      }
                    },
                    "colorscale": {
                      "diverging": [
                        [
                          0,
                          "#8e0152"
                        ],
                        [
                          0.1,
                          "#c51b7d"
                        ],
                        [
                          0.2,
                          "#de77ae"
                        ],
                        [
                          0.3,
                          "#f1b6da"
                        ],
                        [
                          0.4,
                          "#fde0ef"
                        ],
                        [
                          0.5,
                          "#f7f7f7"
                        ],
                        [
                          0.6,
                          "#e6f5d0"
                        ],
                        [
                          0.7,
                          "#b8e186"
                        ],
                        [
                          0.8,
                          "#7fbc41"
                        ],
                        [
                          0.9,
                          "#4d9221"
                        ],
                        [
                          1,
                          "#276419"
                        ]
                      ],
                      "sequential": [
                        [
                          0,
                          "#0d0887"
                        ],
                        [
                          0.1111111111111111,
                          "#46039f"
                        ],
                        [
                          0.2222222222222222,
                          "#7201a8"
                        ],
                        [
                          0.3333333333333333,
                          "#9c179e"
                        ],
                        [
                          0.4444444444444444,
                          "#bd3786"
                        ],
                        [
                          0.5555555555555556,
                          "#d8576b"
                        ],
                        [
                          0.6666666666666666,
                          "#ed7953"
                        ],
                        [
                          0.7777777777777778,
                          "#fb9f3a"
                        ],
                        [
                          0.8888888888888888,
                          "#fdca26"
                        ],
                        [
                          1,
                          "#f0f921"
                        ]
                      ],
                      "sequentialminus": [
                        [
                          0,
                          "#0d0887"
                        ],
                        [
                          0.1111111111111111,
                          "#46039f"
                        ],
                        [
                          0.2222222222222222,
                          "#7201a8"
                        ],
                        [
                          0.3333333333333333,
                          "#9c179e"
                        ],
                        [
                          0.4444444444444444,
                          "#bd3786"
                        ],
                        [
                          0.5555555555555556,
                          "#d8576b"
                        ],
                        [
                          0.6666666666666666,
                          "#ed7953"
                        ],
                        [
                          0.7777777777777778,
                          "#fb9f3a"
                        ],
                        [
                          0.8888888888888888,
                          "#fdca26"
                        ],
                        [
                          1,
                          "#f0f921"
                        ]
                      ]
                    },
                    "colorway": [
                      "#636efa",
                      "#EF553B",
                      "#00cc96",
                      "#ab63fa",
                      "#FFA15A",
                      "#19d3f3",
                      "#FF6692",
                      "#B6E880",
                      "#FF97FF",
                      "#FECB52"
                    ],
                    "font": {
                      "color": "#2a3f5f"
                    },
                    "geo": {
                      "bgcolor": "white",
                      "lakecolor": "white",
                      "landcolor": "#E5ECF6",
                      "showlakes": true,
                      "showland": true,
                      "subunitcolor": "white"
                    },
                    "hoverlabel": {
                      "align": "left"
                    },
                    "hovermode": "closest",
                    "mapbox": {
                      "style": "light"
                    },
                    "paper_bgcolor": "white",
                    "plot_bgcolor": "#E5ECF6",
                    "polar": {
                      "angularaxis": {
                        "gridcolor": "white",
                        "linecolor": "white",
                        "ticks": ""
                      },
                      "bgcolor": "#E5ECF6",
                      "radialaxis": {
                        "gridcolor": "white",
                        "linecolor": "white",
                        "ticks": ""
                      }
                    },
                    "scene": {
                      "xaxis": {
                        "backgroundcolor": "#E5ECF6",
                        "gridcolor": "white",
                        "gridwidth": 2,
                        "linecolor": "white",
                        "showbackground": true,
                        "ticks": "",
                        "zerolinecolor": "white"
                      },
                      "yaxis": {
                        "backgroundcolor": "#E5ECF6",
                        "gridcolor": "white",
                        "gridwidth": 2,
                        "linecolor": "white",
                        "showbackground": true,
                        "ticks": "",
                        "zerolinecolor": "white"
                      },
                      "zaxis": {
                        "backgroundcolor": "#E5ECF6",
                        "gridcolor": "white",
                        "gridwidth": 2,
                        "linecolor": "white",
                        "showbackground": true,
                        "ticks": "",
                        "zerolinecolor": "white"
                      }
                    },
                    "shapedefaults": {
                      "line": {
                        "color": "#2a3f5f"
                      }
                    },
                    "ternary": {
                      "aaxis": {
                        "gridcolor": "white",
                        "linecolor": "white",
                        "ticks": ""
                      },
                      "baxis": {
                        "gridcolor": "white",
                        "linecolor": "white",
                        "ticks": ""
                      },
                      "bgcolor": "#E5ECF6",
                      "caxis": {
                        "gridcolor": "white",
                        "linecolor": "white",
                        "ticks": ""
                      }
                    },
                    "title": {
                      "x": 0.05
                    },
                    "xaxis": {
                      "automargin": true,
                      "gridcolor": "white",
                      "linecolor": "white",
                      "ticks": "",
                      "title": {
                        "standoff": 15
                      },
                      "zerolinecolor": "white",
                      "zerolinewidth": 2
                    },
                    "yaxis": {
                      "automargin": true,
                      "gridcolor": "white",
                      "linecolor": "white",
                      "ticks": "",
                      "title": {
                        "standoff": 15
                      },
                      "zerolinecolor": "white",
                      "zerolinewidth": 2
                    }
                  }
                },
                "title": {
                  "font": {
                    "color": "#757882",
                    "size": 28
                  },
                  "text": "<b>Box Plot<br><span style='color:#FFDB00; font-size: 15px;'>Consumption of biomass (Total - all activities)</b>",
                  "x": 0.5,
                  "y": 0.92
                },
                "width": 1000,
                "xaxis": {
                  "anchor": "y",
                  "domain": [
                    0,
                    1
                  ],
                  "title": {
                    "text": "Consumption of biomass (Total - all activities)"
                  }
                },
                "yaxis": {
                  "anchor": "x",
                  "domain": [
                    0,
                    1
                  ],
                  "showgrid": false,
                  "showline": false,
                  "showticklabels": false,
                  "title": {
                    "text": ""
                  },
                  "zeroline": false
                }
              }
            }
          },
          "metadata": {},
          "output_type": "display_data"
        },
        {
          "data": {
            "application/vnd.plotly.v1+json": {
              "config": {
                "plotlyServerURL": "https://plot.ly"
              },
              "data": [
                {
                  "alignmentgroup": "True",
                  "hovertemplate": "Contribution of natural capital (Total - all activities)=%{x}<extra></extra>",
                  "legendgroup": "",
                  "marker": {
                    "color": "#FFAD60",
                    "line": {
                      "color": "white",
                      "width": 1
                    }
                  },
                  "name": "",
                  "notched": false,
                  "offsetgroup": "",
                  "orientation": "h",
                  "showlegend": false,
                  "type": "box",
                  "x": [
                    null,
                    0.52,
                    0.05,
                    0.1,
                    0.29,
                    0.14,
                    0.11,
                    0.02,
                    0.28,
                    0.04,
                    -0.11,
                    -0.12,
                    0.04,
                    -0.17,
                    -0.37,
                    0.34,
                    -0.12,
                    0.27,
                    -0.16,
                    0.82,
                    0.18,
                    0.06,
                    -0.2,
                    null,
                    null,
                    null,
                    null,
                    null,
                    null,
                    null,
                    null,
                    null,
                    null
                  ],
                  "x0": " ",
                  "xaxis": "x",
                  "y0": " ",
                  "yaxis": "y"
                }
              ],
              "layout": {
                "boxmode": "group",
                "height": 400,
                "legend": {
                  "tracegroupgap": 0
                },
                "margin": {
                  "b": 10,
                  "r": 20,
                  "t": 80
                },
                "plot_bgcolor": "rgba(0, 0, 0, 0)",
                "template": {
                  "data": {
                    "bar": [
                      {
                        "error_x": {
                          "color": "#2a3f5f"
                        },
                        "error_y": {
                          "color": "#2a3f5f"
                        },
                        "marker": {
                          "line": {
                            "color": "#E5ECF6",
                            "width": 0.5
                          },
                          "pattern": {
                            "fillmode": "overlay",
                            "size": 10,
                            "solidity": 0.2
                          }
                        },
                        "type": "bar"
                      }
                    ],
                    "barpolar": [
                      {
                        "marker": {
                          "line": {
                            "color": "#E5ECF6",
                            "width": 0.5
                          },
                          "pattern": {
                            "fillmode": "overlay",
                            "size": 10,
                            "solidity": 0.2
                          }
                        },
                        "type": "barpolar"
                      }
                    ],
                    "carpet": [
                      {
                        "aaxis": {
                          "endlinecolor": "#2a3f5f",
                          "gridcolor": "white",
                          "linecolor": "white",
                          "minorgridcolor": "white",
                          "startlinecolor": "#2a3f5f"
                        },
                        "baxis": {
                          "endlinecolor": "#2a3f5f",
                          "gridcolor": "white",
                          "linecolor": "white",
                          "minorgridcolor": "white",
                          "startlinecolor": "#2a3f5f"
                        },
                        "type": "carpet"
                      }
                    ],
                    "choropleth": [
                      {
                        "colorbar": {
                          "outlinewidth": 0,
                          "ticks": ""
                        },
                        "type": "choropleth"
                      }
                    ],
                    "contour": [
                      {
                        "colorbar": {
                          "outlinewidth": 0,
                          "ticks": ""
                        },
                        "colorscale": [
                          [
                            0,
                            "#0d0887"
                          ],
                          [
                            0.1111111111111111,
                            "#46039f"
                          ],
                          [
                            0.2222222222222222,
                            "#7201a8"
                          ],
                          [
                            0.3333333333333333,
                            "#9c179e"
                          ],
                          [
                            0.4444444444444444,
                            "#bd3786"
                          ],
                          [
                            0.5555555555555556,
                            "#d8576b"
                          ],
                          [
                            0.6666666666666666,
                            "#ed7953"
                          ],
                          [
                            0.7777777777777778,
                            "#fb9f3a"
                          ],
                          [
                            0.8888888888888888,
                            "#fdca26"
                          ],
                          [
                            1,
                            "#f0f921"
                          ]
                        ],
                        "type": "contour"
                      }
                    ],
                    "contourcarpet": [
                      {
                        "colorbar": {
                          "outlinewidth": 0,
                          "ticks": ""
                        },
                        "type": "contourcarpet"
                      }
                    ],
                    "heatmap": [
                      {
                        "colorbar": {
                          "outlinewidth": 0,
                          "ticks": ""
                        },
                        "colorscale": [
                          [
                            0,
                            "#0d0887"
                          ],
                          [
                            0.1111111111111111,
                            "#46039f"
                          ],
                          [
                            0.2222222222222222,
                            "#7201a8"
                          ],
                          [
                            0.3333333333333333,
                            "#9c179e"
                          ],
                          [
                            0.4444444444444444,
                            "#bd3786"
                          ],
                          [
                            0.5555555555555556,
                            "#d8576b"
                          ],
                          [
                            0.6666666666666666,
                            "#ed7953"
                          ],
                          [
                            0.7777777777777778,
                            "#fb9f3a"
                          ],
                          [
                            0.8888888888888888,
                            "#fdca26"
                          ],
                          [
                            1,
                            "#f0f921"
                          ]
                        ],
                        "type": "heatmap"
                      }
                    ],
                    "heatmapgl": [
                      {
                        "colorbar": {
                          "outlinewidth": 0,
                          "ticks": ""
                        },
                        "colorscale": [
                          [
                            0,
                            "#0d0887"
                          ],
                          [
                            0.1111111111111111,
                            "#46039f"
                          ],
                          [
                            0.2222222222222222,
                            "#7201a8"
                          ],
                          [
                            0.3333333333333333,
                            "#9c179e"
                          ],
                          [
                            0.4444444444444444,
                            "#bd3786"
                          ],
                          [
                            0.5555555555555556,
                            "#d8576b"
                          ],
                          [
                            0.6666666666666666,
                            "#ed7953"
                          ],
                          [
                            0.7777777777777778,
                            "#fb9f3a"
                          ],
                          [
                            0.8888888888888888,
                            "#fdca26"
                          ],
                          [
                            1,
                            "#f0f921"
                          ]
                        ],
                        "type": "heatmapgl"
                      }
                    ],
                    "histogram": [
                      {
                        "marker": {
                          "pattern": {
                            "fillmode": "overlay",
                            "size": 10,
                            "solidity": 0.2
                          }
                        },
                        "type": "histogram"
                      }
                    ],
                    "histogram2d": [
                      {
                        "colorbar": {
                          "outlinewidth": 0,
                          "ticks": ""
                        },
                        "colorscale": [
                          [
                            0,
                            "#0d0887"
                          ],
                          [
                            0.1111111111111111,
                            "#46039f"
                          ],
                          [
                            0.2222222222222222,
                            "#7201a8"
                          ],
                          [
                            0.3333333333333333,
                            "#9c179e"
                          ],
                          [
                            0.4444444444444444,
                            "#bd3786"
                          ],
                          [
                            0.5555555555555556,
                            "#d8576b"
                          ],
                          [
                            0.6666666666666666,
                            "#ed7953"
                          ],
                          [
                            0.7777777777777778,
                            "#fb9f3a"
                          ],
                          [
                            0.8888888888888888,
                            "#fdca26"
                          ],
                          [
                            1,
                            "#f0f921"
                          ]
                        ],
                        "type": "histogram2d"
                      }
                    ],
                    "histogram2dcontour": [
                      {
                        "colorbar": {
                          "outlinewidth": 0,
                          "ticks": ""
                        },
                        "colorscale": [
                          [
                            0,
                            "#0d0887"
                          ],
                          [
                            0.1111111111111111,
                            "#46039f"
                          ],
                          [
                            0.2222222222222222,
                            "#7201a8"
                          ],
                          [
                            0.3333333333333333,
                            "#9c179e"
                          ],
                          [
                            0.4444444444444444,
                            "#bd3786"
                          ],
                          [
                            0.5555555555555556,
                            "#d8576b"
                          ],
                          [
                            0.6666666666666666,
                            "#ed7953"
                          ],
                          [
                            0.7777777777777778,
                            "#fb9f3a"
                          ],
                          [
                            0.8888888888888888,
                            "#fdca26"
                          ],
                          [
                            1,
                            "#f0f921"
                          ]
                        ],
                        "type": "histogram2dcontour"
                      }
                    ],
                    "mesh3d": [
                      {
                        "colorbar": {
                          "outlinewidth": 0,
                          "ticks": ""
                        },
                        "type": "mesh3d"
                      }
                    ],
                    "parcoords": [
                      {
                        "line": {
                          "colorbar": {
                            "outlinewidth": 0,
                            "ticks": ""
                          }
                        },
                        "type": "parcoords"
                      }
                    ],
                    "pie": [
                      {
                        "automargin": true,
                        "type": "pie"
                      }
                    ],
                    "scatter": [
                      {
                        "fillpattern": {
                          "fillmode": "overlay",
                          "size": 10,
                          "solidity": 0.2
                        },
                        "type": "scatter"
                      }
                    ],
                    "scatter3d": [
                      {
                        "line": {
                          "colorbar": {
                            "outlinewidth": 0,
                            "ticks": ""
                          }
                        },
                        "marker": {
                          "colorbar": {
                            "outlinewidth": 0,
                            "ticks": ""
                          }
                        },
                        "type": "scatter3d"
                      }
                    ],
                    "scattercarpet": [
                      {
                        "marker": {
                          "colorbar": {
                            "outlinewidth": 0,
                            "ticks": ""
                          }
                        },
                        "type": "scattercarpet"
                      }
                    ],
                    "scattergeo": [
                      {
                        "marker": {
                          "colorbar": {
                            "outlinewidth": 0,
                            "ticks": ""
                          }
                        },
                        "type": "scattergeo"
                      }
                    ],
                    "scattergl": [
                      {
                        "marker": {
                          "colorbar": {
                            "outlinewidth": 0,
                            "ticks": ""
                          }
                        },
                        "type": "scattergl"
                      }
                    ],
                    "scattermapbox": [
                      {
                        "marker": {
                          "colorbar": {
                            "outlinewidth": 0,
                            "ticks": ""
                          }
                        },
                        "type": "scattermapbox"
                      }
                    ],
                    "scatterpolar": [
                      {
                        "marker": {
                          "colorbar": {
                            "outlinewidth": 0,
                            "ticks": ""
                          }
                        },
                        "type": "scatterpolar"
                      }
                    ],
                    "scatterpolargl": [
                      {
                        "marker": {
                          "colorbar": {
                            "outlinewidth": 0,
                            "ticks": ""
                          }
                        },
                        "type": "scatterpolargl"
                      }
                    ],
                    "scatterternary": [
                      {
                        "marker": {
                          "colorbar": {
                            "outlinewidth": 0,
                            "ticks": ""
                          }
                        },
                        "type": "scatterternary"
                      }
                    ],
                    "surface": [
                      {
                        "colorbar": {
                          "outlinewidth": 0,
                          "ticks": ""
                        },
                        "colorscale": [
                          [
                            0,
                            "#0d0887"
                          ],
                          [
                            0.1111111111111111,
                            "#46039f"
                          ],
                          [
                            0.2222222222222222,
                            "#7201a8"
                          ],
                          [
                            0.3333333333333333,
                            "#9c179e"
                          ],
                          [
                            0.4444444444444444,
                            "#bd3786"
                          ],
                          [
                            0.5555555555555556,
                            "#d8576b"
                          ],
                          [
                            0.6666666666666666,
                            "#ed7953"
                          ],
                          [
                            0.7777777777777778,
                            "#fb9f3a"
                          ],
                          [
                            0.8888888888888888,
                            "#fdca26"
                          ],
                          [
                            1,
                            "#f0f921"
                          ]
                        ],
                        "type": "surface"
                      }
                    ],
                    "table": [
                      {
                        "cells": {
                          "fill": {
                            "color": "#EBF0F8"
                          },
                          "line": {
                            "color": "white"
                          }
                        },
                        "header": {
                          "fill": {
                            "color": "#C8D4E3"
                          },
                          "line": {
                            "color": "white"
                          }
                        },
                        "type": "table"
                      }
                    ]
                  },
                  "layout": {
                    "annotationdefaults": {
                      "arrowcolor": "#2a3f5f",
                      "arrowhead": 0,
                      "arrowwidth": 1
                    },
                    "autotypenumbers": "strict",
                    "coloraxis": {
                      "colorbar": {
                        "outlinewidth": 0,
                        "ticks": ""
                      }
                    },
                    "colorscale": {
                      "diverging": [
                        [
                          0,
                          "#8e0152"
                        ],
                        [
                          0.1,
                          "#c51b7d"
                        ],
                        [
                          0.2,
                          "#de77ae"
                        ],
                        [
                          0.3,
                          "#f1b6da"
                        ],
                        [
                          0.4,
                          "#fde0ef"
                        ],
                        [
                          0.5,
                          "#f7f7f7"
                        ],
                        [
                          0.6,
                          "#e6f5d0"
                        ],
                        [
                          0.7,
                          "#b8e186"
                        ],
                        [
                          0.8,
                          "#7fbc41"
                        ],
                        [
                          0.9,
                          "#4d9221"
                        ],
                        [
                          1,
                          "#276419"
                        ]
                      ],
                      "sequential": [
                        [
                          0,
                          "#0d0887"
                        ],
                        [
                          0.1111111111111111,
                          "#46039f"
                        ],
                        [
                          0.2222222222222222,
                          "#7201a8"
                        ],
                        [
                          0.3333333333333333,
                          "#9c179e"
                        ],
                        [
                          0.4444444444444444,
                          "#bd3786"
                        ],
                        [
                          0.5555555555555556,
                          "#d8576b"
                        ],
                        [
                          0.6666666666666666,
                          "#ed7953"
                        ],
                        [
                          0.7777777777777778,
                          "#fb9f3a"
                        ],
                        [
                          0.8888888888888888,
                          "#fdca26"
                        ],
                        [
                          1,
                          "#f0f921"
                        ]
                      ],
                      "sequentialminus": [
                        [
                          0,
                          "#0d0887"
                        ],
                        [
                          0.1111111111111111,
                          "#46039f"
                        ],
                        [
                          0.2222222222222222,
                          "#7201a8"
                        ],
                        [
                          0.3333333333333333,
                          "#9c179e"
                        ],
                        [
                          0.4444444444444444,
                          "#bd3786"
                        ],
                        [
                          0.5555555555555556,
                          "#d8576b"
                        ],
                        [
                          0.6666666666666666,
                          "#ed7953"
                        ],
                        [
                          0.7777777777777778,
                          "#fb9f3a"
                        ],
                        [
                          0.8888888888888888,
                          "#fdca26"
                        ],
                        [
                          1,
                          "#f0f921"
                        ]
                      ]
                    },
                    "colorway": [
                      "#636efa",
                      "#EF553B",
                      "#00cc96",
                      "#ab63fa",
                      "#FFA15A",
                      "#19d3f3",
                      "#FF6692",
                      "#B6E880",
                      "#FF97FF",
                      "#FECB52"
                    ],
                    "font": {
                      "color": "#2a3f5f"
                    },
                    "geo": {
                      "bgcolor": "white",
                      "lakecolor": "white",
                      "landcolor": "#E5ECF6",
                      "showlakes": true,
                      "showland": true,
                      "subunitcolor": "white"
                    },
                    "hoverlabel": {
                      "align": "left"
                    },
                    "hovermode": "closest",
                    "mapbox": {
                      "style": "light"
                    },
                    "paper_bgcolor": "white",
                    "plot_bgcolor": "#E5ECF6",
                    "polar": {
                      "angularaxis": {
                        "gridcolor": "white",
                        "linecolor": "white",
                        "ticks": ""
                      },
                      "bgcolor": "#E5ECF6",
                      "radialaxis": {
                        "gridcolor": "white",
                        "linecolor": "white",
                        "ticks": ""
                      }
                    },
                    "scene": {
                      "xaxis": {
                        "backgroundcolor": "#E5ECF6",
                        "gridcolor": "white",
                        "gridwidth": 2,
                        "linecolor": "white",
                        "showbackground": true,
                        "ticks": "",
                        "zerolinecolor": "white"
                      },
                      "yaxis": {
                        "backgroundcolor": "#E5ECF6",
                        "gridcolor": "white",
                        "gridwidth": 2,
                        "linecolor": "white",
                        "showbackground": true,
                        "ticks": "",
                        "zerolinecolor": "white"
                      },
                      "zaxis": {
                        "backgroundcolor": "#E5ECF6",
                        "gridcolor": "white",
                        "gridwidth": 2,
                        "linecolor": "white",
                        "showbackground": true,
                        "ticks": "",
                        "zerolinecolor": "white"
                      }
                    },
                    "shapedefaults": {
                      "line": {
                        "color": "#2a3f5f"
                      }
                    },
                    "ternary": {
                      "aaxis": {
                        "gridcolor": "white",
                        "linecolor": "white",
                        "ticks": ""
                      },
                      "baxis": {
                        "gridcolor": "white",
                        "linecolor": "white",
                        "ticks": ""
                      },
                      "bgcolor": "#E5ECF6",
                      "caxis": {
                        "gridcolor": "white",
                        "linecolor": "white",
                        "ticks": ""
                      }
                    },
                    "title": {
                      "x": 0.05
                    },
                    "xaxis": {
                      "automargin": true,
                      "gridcolor": "white",
                      "linecolor": "white",
                      "ticks": "",
                      "title": {
                        "standoff": 15
                      },
                      "zerolinecolor": "white",
                      "zerolinewidth": 2
                    },
                    "yaxis": {
                      "automargin": true,
                      "gridcolor": "white",
                      "linecolor": "white",
                      "ticks": "",
                      "title": {
                        "standoff": 15
                      },
                      "zerolinecolor": "white",
                      "zerolinewidth": 2
                    }
                  }
                },
                "title": {
                  "font": {
                    "color": "#757882",
                    "size": 28
                  },
                  "text": "<b>Box Plot<br><span style='color:#FFAD60; font-size: 15px;'>Contribution of natural capital (Total - all activities)</b>",
                  "x": 0.5,
                  "y": 0.92
                },
                "width": 1000,
                "xaxis": {
                  "anchor": "y",
                  "domain": [
                    0,
                    1
                  ],
                  "title": {
                    "text": "Contribution of natural capital (Total - all activities)"
                  }
                },
                "yaxis": {
                  "anchor": "x",
                  "domain": [
                    0,
                    1
                  ],
                  "showgrid": false,
                  "showline": false,
                  "showticklabels": false,
                  "title": {
                    "text": ""
                  },
                  "zeroline": false
                }
              }
            }
          },
          "metadata": {},
          "output_type": "display_data"
        },
        {
          "data": {
            "application/vnd.plotly.v1+json": {
              "config": {
                "plotlyServerURL": "https://plot.ly"
              },
              "data": [
                {
                  "alignmentgroup": "True",
                  "hovertemplate": "Diesel end-user price (Total - all activities)=%{x}<extra></extra>",
                  "legendgroup": "",
                  "marker": {
                    "color": "#7E60BF",
                    "line": {
                      "color": "white",
                      "width": 1
                    }
                  },
                  "name": "",
                  "notched": false,
                  "offsetgroup": "",
                  "orientation": "h",
                  "showlegend": false,
                  "type": "box",
                  "x": [
                    null,
                    null,
                    null,
                    null,
                    null,
                    null,
                    null,
                    null,
                    null,
                    null,
                    0.39,
                    0.47,
                    0.5,
                    0.88,
                    0.81,
                    1.17,
                    1.68,
                    1.58,
                    1.67,
                    1.44,
                    1.37,
                    1.3,
                    1.24,
                    1.31,
                    1.4,
                    1.57,
                    1.17,
                    1.1,
                    1.07,
                    1.04,
                    1.02,
                    null,
                    null
                  ],
                  "x0": " ",
                  "xaxis": "x",
                  "y0": " ",
                  "yaxis": "y"
                }
              ],
              "layout": {
                "boxmode": "group",
                "height": 400,
                "legend": {
                  "tracegroupgap": 0
                },
                "margin": {
                  "b": 10,
                  "r": 20,
                  "t": 80
                },
                "plot_bgcolor": "rgba(0, 0, 0, 0)",
                "template": {
                  "data": {
                    "bar": [
                      {
                        "error_x": {
                          "color": "#2a3f5f"
                        },
                        "error_y": {
                          "color": "#2a3f5f"
                        },
                        "marker": {
                          "line": {
                            "color": "#E5ECF6",
                            "width": 0.5
                          },
                          "pattern": {
                            "fillmode": "overlay",
                            "size": 10,
                            "solidity": 0.2
                          }
                        },
                        "type": "bar"
                      }
                    ],
                    "barpolar": [
                      {
                        "marker": {
                          "line": {
                            "color": "#E5ECF6",
                            "width": 0.5
                          },
                          "pattern": {
                            "fillmode": "overlay",
                            "size": 10,
                            "solidity": 0.2
                          }
                        },
                        "type": "barpolar"
                      }
                    ],
                    "carpet": [
                      {
                        "aaxis": {
                          "endlinecolor": "#2a3f5f",
                          "gridcolor": "white",
                          "linecolor": "white",
                          "minorgridcolor": "white",
                          "startlinecolor": "#2a3f5f"
                        },
                        "baxis": {
                          "endlinecolor": "#2a3f5f",
                          "gridcolor": "white",
                          "linecolor": "white",
                          "minorgridcolor": "white",
                          "startlinecolor": "#2a3f5f"
                        },
                        "type": "carpet"
                      }
                    ],
                    "choropleth": [
                      {
                        "colorbar": {
                          "outlinewidth": 0,
                          "ticks": ""
                        },
                        "type": "choropleth"
                      }
                    ],
                    "contour": [
                      {
                        "colorbar": {
                          "outlinewidth": 0,
                          "ticks": ""
                        },
                        "colorscale": [
                          [
                            0,
                            "#0d0887"
                          ],
                          [
                            0.1111111111111111,
                            "#46039f"
                          ],
                          [
                            0.2222222222222222,
                            "#7201a8"
                          ],
                          [
                            0.3333333333333333,
                            "#9c179e"
                          ],
                          [
                            0.4444444444444444,
                            "#bd3786"
                          ],
                          [
                            0.5555555555555556,
                            "#d8576b"
                          ],
                          [
                            0.6666666666666666,
                            "#ed7953"
                          ],
                          [
                            0.7777777777777778,
                            "#fb9f3a"
                          ],
                          [
                            0.8888888888888888,
                            "#fdca26"
                          ],
                          [
                            1,
                            "#f0f921"
                          ]
                        ],
                        "type": "contour"
                      }
                    ],
                    "contourcarpet": [
                      {
                        "colorbar": {
                          "outlinewidth": 0,
                          "ticks": ""
                        },
                        "type": "contourcarpet"
                      }
                    ],
                    "heatmap": [
                      {
                        "colorbar": {
                          "outlinewidth": 0,
                          "ticks": ""
                        },
                        "colorscale": [
                          [
                            0,
                            "#0d0887"
                          ],
                          [
                            0.1111111111111111,
                            "#46039f"
                          ],
                          [
                            0.2222222222222222,
                            "#7201a8"
                          ],
                          [
                            0.3333333333333333,
                            "#9c179e"
                          ],
                          [
                            0.4444444444444444,
                            "#bd3786"
                          ],
                          [
                            0.5555555555555556,
                            "#d8576b"
                          ],
                          [
                            0.6666666666666666,
                            "#ed7953"
                          ],
                          [
                            0.7777777777777778,
                            "#fb9f3a"
                          ],
                          [
                            0.8888888888888888,
                            "#fdca26"
                          ],
                          [
                            1,
                            "#f0f921"
                          ]
                        ],
                        "type": "heatmap"
                      }
                    ],
                    "heatmapgl": [
                      {
                        "colorbar": {
                          "outlinewidth": 0,
                          "ticks": ""
                        },
                        "colorscale": [
                          [
                            0,
                            "#0d0887"
                          ],
                          [
                            0.1111111111111111,
                            "#46039f"
                          ],
                          [
                            0.2222222222222222,
                            "#7201a8"
                          ],
                          [
                            0.3333333333333333,
                            "#9c179e"
                          ],
                          [
                            0.4444444444444444,
                            "#bd3786"
                          ],
                          [
                            0.5555555555555556,
                            "#d8576b"
                          ],
                          [
                            0.6666666666666666,
                            "#ed7953"
                          ],
                          [
                            0.7777777777777778,
                            "#fb9f3a"
                          ],
                          [
                            0.8888888888888888,
                            "#fdca26"
                          ],
                          [
                            1,
                            "#f0f921"
                          ]
                        ],
                        "type": "heatmapgl"
                      }
                    ],
                    "histogram": [
                      {
                        "marker": {
                          "pattern": {
                            "fillmode": "overlay",
                            "size": 10,
                            "solidity": 0.2
                          }
                        },
                        "type": "histogram"
                      }
                    ],
                    "histogram2d": [
                      {
                        "colorbar": {
                          "outlinewidth": 0,
                          "ticks": ""
                        },
                        "colorscale": [
                          [
                            0,
                            "#0d0887"
                          ],
                          [
                            0.1111111111111111,
                            "#46039f"
                          ],
                          [
                            0.2222222222222222,
                            "#7201a8"
                          ],
                          [
                            0.3333333333333333,
                            "#9c179e"
                          ],
                          [
                            0.4444444444444444,
                            "#bd3786"
                          ],
                          [
                            0.5555555555555556,
                            "#d8576b"
                          ],
                          [
                            0.6666666666666666,
                            "#ed7953"
                          ],
                          [
                            0.7777777777777778,
                            "#fb9f3a"
                          ],
                          [
                            0.8888888888888888,
                            "#fdca26"
                          ],
                          [
                            1,
                            "#f0f921"
                          ]
                        ],
                        "type": "histogram2d"
                      }
                    ],
                    "histogram2dcontour": [
                      {
                        "colorbar": {
                          "outlinewidth": 0,
                          "ticks": ""
                        },
                        "colorscale": [
                          [
                            0,
                            "#0d0887"
                          ],
                          [
                            0.1111111111111111,
                            "#46039f"
                          ],
                          [
                            0.2222222222222222,
                            "#7201a8"
                          ],
                          [
                            0.3333333333333333,
                            "#9c179e"
                          ],
                          [
                            0.4444444444444444,
                            "#bd3786"
                          ],
                          [
                            0.5555555555555556,
                            "#d8576b"
                          ],
                          [
                            0.6666666666666666,
                            "#ed7953"
                          ],
                          [
                            0.7777777777777778,
                            "#fb9f3a"
                          ],
                          [
                            0.8888888888888888,
                            "#fdca26"
                          ],
                          [
                            1,
                            "#f0f921"
                          ]
                        ],
                        "type": "histogram2dcontour"
                      }
                    ],
                    "mesh3d": [
                      {
                        "colorbar": {
                          "outlinewidth": 0,
                          "ticks": ""
                        },
                        "type": "mesh3d"
                      }
                    ],
                    "parcoords": [
                      {
                        "line": {
                          "colorbar": {
                            "outlinewidth": 0,
                            "ticks": ""
                          }
                        },
                        "type": "parcoords"
                      }
                    ],
                    "pie": [
                      {
                        "automargin": true,
                        "type": "pie"
                      }
                    ],
                    "scatter": [
                      {
                        "fillpattern": {
                          "fillmode": "overlay",
                          "size": 10,
                          "solidity": 0.2
                        },
                        "type": "scatter"
                      }
                    ],
                    "scatter3d": [
                      {
                        "line": {
                          "colorbar": {
                            "outlinewidth": 0,
                            "ticks": ""
                          }
                        },
                        "marker": {
                          "colorbar": {
                            "outlinewidth": 0,
                            "ticks": ""
                          }
                        },
                        "type": "scatter3d"
                      }
                    ],
                    "scattercarpet": [
                      {
                        "marker": {
                          "colorbar": {
                            "outlinewidth": 0,
                            "ticks": ""
                          }
                        },
                        "type": "scattercarpet"
                      }
                    ],
                    "scattergeo": [
                      {
                        "marker": {
                          "colorbar": {
                            "outlinewidth": 0,
                            "ticks": ""
                          }
                        },
                        "type": "scattergeo"
                      }
                    ],
                    "scattergl": [
                      {
                        "marker": {
                          "colorbar": {
                            "outlinewidth": 0,
                            "ticks": ""
                          }
                        },
                        "type": "scattergl"
                      }
                    ],
                    "scattermapbox": [
                      {
                        "marker": {
                          "colorbar": {
                            "outlinewidth": 0,
                            "ticks": ""
                          }
                        },
                        "type": "scattermapbox"
                      }
                    ],
                    "scatterpolar": [
                      {
                        "marker": {
                          "colorbar": {
                            "outlinewidth": 0,
                            "ticks": ""
                          }
                        },
                        "type": "scatterpolar"
                      }
                    ],
                    "scatterpolargl": [
                      {
                        "marker": {
                          "colorbar": {
                            "outlinewidth": 0,
                            "ticks": ""
                          }
                        },
                        "type": "scatterpolargl"
                      }
                    ],
                    "scatterternary": [
                      {
                        "marker": {
                          "colorbar": {
                            "outlinewidth": 0,
                            "ticks": ""
                          }
                        },
                        "type": "scatterternary"
                      }
                    ],
                    "surface": [
                      {
                        "colorbar": {
                          "outlinewidth": 0,
                          "ticks": ""
                        },
                        "colorscale": [
                          [
                            0,
                            "#0d0887"
                          ],
                          [
                            0.1111111111111111,
                            "#46039f"
                          ],
                          [
                            0.2222222222222222,
                            "#7201a8"
                          ],
                          [
                            0.3333333333333333,
                            "#9c179e"
                          ],
                          [
                            0.4444444444444444,
                            "#bd3786"
                          ],
                          [
                            0.5555555555555556,
                            "#d8576b"
                          ],
                          [
                            0.6666666666666666,
                            "#ed7953"
                          ],
                          [
                            0.7777777777777778,
                            "#fb9f3a"
                          ],
                          [
                            0.8888888888888888,
                            "#fdca26"
                          ],
                          [
                            1,
                            "#f0f921"
                          ]
                        ],
                        "type": "surface"
                      }
                    ],
                    "table": [
                      {
                        "cells": {
                          "fill": {
                            "color": "#EBF0F8"
                          },
                          "line": {
                            "color": "white"
                          }
                        },
                        "header": {
                          "fill": {
                            "color": "#C8D4E3"
                          },
                          "line": {
                            "color": "white"
                          }
                        },
                        "type": "table"
                      }
                    ]
                  },
                  "layout": {
                    "annotationdefaults": {
                      "arrowcolor": "#2a3f5f",
                      "arrowhead": 0,
                      "arrowwidth": 1
                    },
                    "autotypenumbers": "strict",
                    "coloraxis": {
                      "colorbar": {
                        "outlinewidth": 0,
                        "ticks": ""
                      }
                    },
                    "colorscale": {
                      "diverging": [
                        [
                          0,
                          "#8e0152"
                        ],
                        [
                          0.1,
                          "#c51b7d"
                        ],
                        [
                          0.2,
                          "#de77ae"
                        ],
                        [
                          0.3,
                          "#f1b6da"
                        ],
                        [
                          0.4,
                          "#fde0ef"
                        ],
                        [
                          0.5,
                          "#f7f7f7"
                        ],
                        [
                          0.6,
                          "#e6f5d0"
                        ],
                        [
                          0.7,
                          "#b8e186"
                        ],
                        [
                          0.8,
                          "#7fbc41"
                        ],
                        [
                          0.9,
                          "#4d9221"
                        ],
                        [
                          1,
                          "#276419"
                        ]
                      ],
                      "sequential": [
                        [
                          0,
                          "#0d0887"
                        ],
                        [
                          0.1111111111111111,
                          "#46039f"
                        ],
                        [
                          0.2222222222222222,
                          "#7201a8"
                        ],
                        [
                          0.3333333333333333,
                          "#9c179e"
                        ],
                        [
                          0.4444444444444444,
                          "#bd3786"
                        ],
                        [
                          0.5555555555555556,
                          "#d8576b"
                        ],
                        [
                          0.6666666666666666,
                          "#ed7953"
                        ],
                        [
                          0.7777777777777778,
                          "#fb9f3a"
                        ],
                        [
                          0.8888888888888888,
                          "#fdca26"
                        ],
                        [
                          1,
                          "#f0f921"
                        ]
                      ],
                      "sequentialminus": [
                        [
                          0,
                          "#0d0887"
                        ],
                        [
                          0.1111111111111111,
                          "#46039f"
                        ],
                        [
                          0.2222222222222222,
                          "#7201a8"
                        ],
                        [
                          0.3333333333333333,
                          "#9c179e"
                        ],
                        [
                          0.4444444444444444,
                          "#bd3786"
                        ],
                        [
                          0.5555555555555556,
                          "#d8576b"
                        ],
                        [
                          0.6666666666666666,
                          "#ed7953"
                        ],
                        [
                          0.7777777777777778,
                          "#fb9f3a"
                        ],
                        [
                          0.8888888888888888,
                          "#fdca26"
                        ],
                        [
                          1,
                          "#f0f921"
                        ]
                      ]
                    },
                    "colorway": [
                      "#636efa",
                      "#EF553B",
                      "#00cc96",
                      "#ab63fa",
                      "#FFA15A",
                      "#19d3f3",
                      "#FF6692",
                      "#B6E880",
                      "#FF97FF",
                      "#FECB52"
                    ],
                    "font": {
                      "color": "#2a3f5f"
                    },
                    "geo": {
                      "bgcolor": "white",
                      "lakecolor": "white",
                      "landcolor": "#E5ECF6",
                      "showlakes": true,
                      "showland": true,
                      "subunitcolor": "white"
                    },
                    "hoverlabel": {
                      "align": "left"
                    },
                    "hovermode": "closest",
                    "mapbox": {
                      "style": "light"
                    },
                    "paper_bgcolor": "white",
                    "plot_bgcolor": "#E5ECF6",
                    "polar": {
                      "angularaxis": {
                        "gridcolor": "white",
                        "linecolor": "white",
                        "ticks": ""
                      },
                      "bgcolor": "#E5ECF6",
                      "radialaxis": {
                        "gridcolor": "white",
                        "linecolor": "white",
                        "ticks": ""
                      }
                    },
                    "scene": {
                      "xaxis": {
                        "backgroundcolor": "#E5ECF6",
                        "gridcolor": "white",
                        "gridwidth": 2,
                        "linecolor": "white",
                        "showbackground": true,
                        "ticks": "",
                        "zerolinecolor": "white"
                      },
                      "yaxis": {
                        "backgroundcolor": "#E5ECF6",
                        "gridcolor": "white",
                        "gridwidth": 2,
                        "linecolor": "white",
                        "showbackground": true,
                        "ticks": "",
                        "zerolinecolor": "white"
                      },
                      "zaxis": {
                        "backgroundcolor": "#E5ECF6",
                        "gridcolor": "white",
                        "gridwidth": 2,
                        "linecolor": "white",
                        "showbackground": true,
                        "ticks": "",
                        "zerolinecolor": "white"
                      }
                    },
                    "shapedefaults": {
                      "line": {
                        "color": "#2a3f5f"
                      }
                    },
                    "ternary": {
                      "aaxis": {
                        "gridcolor": "white",
                        "linecolor": "white",
                        "ticks": ""
                      },
                      "baxis": {
                        "gridcolor": "white",
                        "linecolor": "white",
                        "ticks": ""
                      },
                      "bgcolor": "#E5ECF6",
                      "caxis": {
                        "gridcolor": "white",
                        "linecolor": "white",
                        "ticks": ""
                      }
                    },
                    "title": {
                      "x": 0.05
                    },
                    "xaxis": {
                      "automargin": true,
                      "gridcolor": "white",
                      "linecolor": "white",
                      "ticks": "",
                      "title": {
                        "standoff": 15
                      },
                      "zerolinecolor": "white",
                      "zerolinewidth": 2
                    },
                    "yaxis": {
                      "automargin": true,
                      "gridcolor": "white",
                      "linecolor": "white",
                      "ticks": "",
                      "title": {
                        "standoff": 15
                      },
                      "zerolinecolor": "white",
                      "zerolinewidth": 2
                    }
                  }
                },
                "title": {
                  "font": {
                    "color": "#757882",
                    "size": 28
                  },
                  "text": "<b>Box Plot<br><span style='color:#7E60BF; font-size: 15px;'>Diesel end-user price (Total - all activities)</b>",
                  "x": 0.5,
                  "y": 0.92
                },
                "width": 1000,
                "xaxis": {
                  "anchor": "y",
                  "domain": [
                    0,
                    1
                  ],
                  "title": {
                    "text": "Diesel end-user price (Total - all activities)"
                  }
                },
                "yaxis": {
                  "anchor": "x",
                  "domain": [
                    0,
                    1
                  ],
                  "showgrid": false,
                  "showline": false,
                  "showticklabels": false,
                  "title": {
                    "text": ""
                  },
                  "zeroline": false
                }
              }
            }
          },
          "metadata": {},
          "output_type": "display_data"
        }
      ],
      "source": [
        "# Histogram Sales\n",
        "import plotly.express as px\n",
        "\n",
        "number_column_outlier = data_outlier[data_outlier['Jumlah Outlier'] > 0]\n",
        "\n",
        "col_name = number_column_outlier['measure'][:5]\n",
        "color_name = ['#FF8F00', '#AF47D2', '#FFDB00', '#FFAD60', '#7E60BF']\n",
        "\n",
        "for column, color in zip(col_name, color_name):\n",
        "    fig = px.box(\n",
        "        pvt_data_oecd_indonesia,\n",
        "        x = column,\n",
        "        color_discrete_sequence  = [color],\n",
        "    )\n",
        "\n",
        "    fig.update_traces(\n",
        "          marker_line_width = 1,\n",
        "          marker_line_color = 'white'\n",
        "    )\n",
        "\n",
        "    fig.update_layout(\n",
        "        width = 1000,\n",
        "        height = 400,\n",
        "        plot_bgcolor = 'rgba(0, 0, 0, 0)',\n",
        "        title = dict(\n",
        "            text = f\"<b>Box Plot<br><span style='color:{color}; font-size: 15px;'>{column}</b>\",\n",
        "            font = dict(\n",
        "                size = 28,\n",
        "                color = '#757882'\n",
        "            ),\n",
        "            y = 0.92,\n",
        "            x = 0.5\n",
        "        ),\n",
        "        yaxis = dict(\n",
        "            title = '',\n",
        "            showgrid = False,\n",
        "            showline = False,\n",
        "            showticklabels = False,\n",
        "            zeroline = False,\n",
        "        ),\n",
        "        margin = dict(\n",
        "            t = 80,\n",
        "            b = 10,\n",
        "            r = 20\n",
        "        )\n",
        "    )\n",
        "\n",
        "    fig.show()"
      ]
    },
    {
      "cell_type": "markdown",
      "metadata": {
        "id": "Ntqg25OL1g8u"
      },
      "source": [
        "<b><span style='color:#FFDB00'><i>Interpretasi Hasil : </i></span></b><br>\n",
        "..."
      ]
    }
  ],
  "metadata": {
    "colab": {
      "provenance": []
    },
    "kernelspec": {
      "display_name": "Python 3",
      "language": "python",
      "name": "python3"
    },
    "language_info": {
      "codemirror_mode": {
        "name": "ipython",
        "version": 3
      },
      "file_extension": ".py",
      "mimetype": "text/x-python",
      "name": "python",
      "nbconvert_exporter": "python",
      "pygments_lexer": "ipython3",
      "version": "3.11.3"
    }
  },
  "nbformat": 4,
  "nbformat_minor": 0
}
